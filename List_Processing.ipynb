{
  "nbformat": 4,
  "nbformat_minor": 0,
  "metadata": {
    "colab": {
      "provenance": []
    },
    "kernelspec": {
      "name": "python3",
      "display_name": "Python 3"
    },
    "language_info": {
      "name": "python"
    }
  },
  "cells": [
    {
      "cell_type": "markdown",
      "source": [
        "# Python Programming - List Processing"
      ],
      "metadata": {
        "id": "0G2Og5YCONAi"
      }
    },
    {
      "cell_type": "markdown",
      "source": [
        "### Program to find Average"
      ],
      "metadata": {
        "id": "FK280tqPPqZy"
      }
    },
    {
      "cell_type": "markdown",
      "source": [
        "Write a function find_average(student) that takes student list as input and print student rollno, name, marks and average marks as output.\n",
        "\n",
        "Test Cases:\n",
        "\n",
        "1. stud1 = [1, “rex”, 60, 85, 70] find_average(stud1)\n",
        "\n",
        "Modify the above function find_average(student) so that it processes a list of lists.\n",
        "\n",
        "2. stud2 = [2, “sam”, [80, 75, 90]] find_average(stud2)"
      ],
      "metadata": {
        "id": "dUc5jq1IOXVk"
      }
    },
    {
      "cell_type": "code",
      "source": [
        "def find_average(student):\n",
        "\n",
        "  rollno, name, mark1, mark2, mark3 = student\n",
        "\n",
        "  total = mark1 + mark2 + mark3\n",
        "\n",
        "  avg = total/3\n",
        "\n",
        "  print(\"Roll No: \", rollno)\n",
        "  print(\"Name: \", name)\n",
        "  print(\"Mark1: \", mark1)\n",
        "  print(\"Mark2: \", mark2)\n",
        "  print(\"Mark3: \", mark3)\n",
        "  print(\"Average: \", avg)"
      ],
      "metadata": {
        "id": "EEYLJ5XVP7cn"
      },
      "execution_count": 1,
      "outputs": []
    },
    {
      "cell_type": "code",
      "source": [
        "stud1 = [1, \"rex\", 60, 85, 70]\n",
        "find_average(stud1)"
      ],
      "metadata": {
        "colab": {
          "base_uri": "https://localhost:8080/"
        },
        "id": "w4cUHX6cPsRf",
        "outputId": "91accad8-df6b-4fbd-93df-45da8f272da5"
      },
      "execution_count": 2,
      "outputs": [
        {
          "output_type": "stream",
          "name": "stdout",
          "text": [
            "Roll No:  1\n",
            "Name:  rex\n",
            "Mark1:  60\n",
            "Mark2:  85\n",
            "Mark3:  70\n",
            "Average:  71.66666666666667\n"
          ]
        }
      ]
    },
    {
      "cell_type": "code",
      "source": [
        "def find_average(student):\n",
        "\n",
        "  rollno, name, marks = student\n",
        "\n",
        "  total = 0\n",
        "\n",
        "  for mark in marks:\n",
        "    total += mark\n",
        "\n",
        "  avg = total/len(marks)\n",
        "\n",
        "  print(\"Roll No: \", rollno)\n",
        "  print(\"Name: \", name)\n",
        "  print(\"Marks: \", marks)\n",
        "  print(\"Average: \", avg)"
      ],
      "metadata": {
        "id": "EH50gtuVOPYL"
      },
      "execution_count": 3,
      "outputs": []
    },
    {
      "cell_type": "code",
      "source": [
        "stud2 = [2, \"sam\", [80, 75, 90]]\n",
        "find_average(stud2)"
      ],
      "metadata": {
        "colab": {
          "base_uri": "https://localhost:8080/"
        },
        "id": "hBpb7XSQPwsW",
        "outputId": "2616618b-4b6f-410e-c9a3-fecf2a44f0c4"
      },
      "execution_count": 4,
      "outputs": [
        {
          "output_type": "stream",
          "name": "stdout",
          "text": [
            "Roll No:  2\n",
            "Name:  sam\n",
            "Marks:  [80, 75, 90]\n",
            "Average:  81.66666666666667\n"
          ]
        }
      ]
    },
    {
      "cell_type": "markdown",
      "source": [
        "### Program for Weight Management"
      ],
      "metadata": {
        "id": "XIheeoGfSRel"
      }
    },
    {
      "cell_type": "markdown",
      "source": [
        "Write a weight management program that prompts the user to enter in 7 days of their body weight values as float numbers.\n",
        "\n",
        "Store them in list.\n",
        "\n",
        "Then print first day weight, last day weight, 4th day weight, highest weight, lowest weight and average weight.\n",
        "\n",
        "Finally, print if first day weight > last day weight, then print “Your weight management is excellent”.\n",
        "\n",
        "Otherwise print “Your weight management is not good. Please take care of your diet”."
      ],
      "metadata": {
        "id": "i57gIoYARMXS"
      }
    },
    {
      "cell_type": "code",
      "source": [
        "def weight_management():\n",
        "\n",
        "  weights = []\n",
        "\n",
        "  for i in range(7):\n",
        "    c = float(input(f\"Enter your {i+1}th day weight (in kg): \"))\n",
        "    weights.append(c)\n",
        "\n",
        "  highest = max(weights)\n",
        "  lowest = min(weights)\n",
        "  average = sum(weights)/len(weights)\n",
        "  first_day_weight = weights[0]\n",
        "  last_day_weight = weights[-1]\n",
        "\n",
        "  print(\"First day weight: \", first_day_weight)\n",
        "  print(\"Last day weight: \", last_day_weight)\n",
        "  print(\"Fourth day weight: \", weights[3])\n",
        "  print(\"Maximun weight: \", highest)\n",
        "  print(\"Minimum weight: \", lowest)\n",
        "  print(\"Average weight: \", average)\n",
        "\n",
        "  if first_day_weight > last_day_weight:\n",
        "    print(\"Your weight management is excellent\")\n",
        "\n",
        "  else:\n",
        "    print(\"Your weight management is not good...Please take care of your diet\")"
      ],
      "metadata": {
        "id": "inx_aXk7Q58L"
      },
      "execution_count": 5,
      "outputs": []
    },
    {
      "cell_type": "code",
      "source": [
        "weight_management()"
      ],
      "metadata": {
        "colab": {
          "base_uri": "https://localhost:8080/"
        },
        "id": "Y_wQzfZjUTd9",
        "outputId": "ac68f007-6aab-4f97-9114-820d1598b953"
      },
      "execution_count": 6,
      "outputs": [
        {
          "output_type": "stream",
          "name": "stdout",
          "text": [
            "Enter your 1th day weight (in kg): 58.2\n",
            "Enter your 2th day weight (in kg): 58.2\n",
            "Enter your 3th day weight (in kg): 58.0\n",
            "Enter your 4th day weight (in kg): 58.0\n",
            "Enter your 5th day weight (in kg): 57.9\n",
            "Enter your 6th day weight (in kg): 57.9\n",
            "Enter your 7th day weight (in kg): 57.9\n",
            "First day weight:  58.2\n",
            "Last day weight:  57.9\n",
            "Fourth day weight:  58.0\n",
            "Maximun weight:  58.2\n",
            "Minimum weight:  57.9\n",
            "Average weight:  58.01428571428571\n",
            "Your weight management is excellent\n"
          ]
        }
      ]
    },
    {
      "cell_type": "markdown",
      "source": [
        "### Program to find the largest numbers"
      ],
      "metadata": {
        "id": "KGJLYqbFB0lw"
      }
    },
    {
      "cell_type": "markdown",
      "source": [
        "Write a function lastN(lst, n) that takes a list of integers and n and returns n largest numbers.\n",
        "\n",
        "Sample case:\n",
        "\n",
        "How many numbers you want to enter?: 6\n",
        "\n",
        "Enter a number: 12\n",
        "\n",
        "Enter a number: 32\n",
        "\n",
        "Enter a number: 10\n",
        "\n",
        "Enter a number: 9\n",
        "\n",
        "Enter a number: 52\n",
        "\n",
        "Enter a number: 45\n",
        "\n",
        "How many largest numbers you want to find?: 3\n",
        "\n",
        "Largest numbers are: 52, 45, 32"
      ],
      "metadata": {
        "id": "_8Hn6PCzBdYi"
      }
    },
    {
      "cell_type": "code",
      "source": [
        "def lastN(lst, n):\n",
        "\n",
        "  largest_numbers = []\n",
        "\n",
        "  for i in range(n):\n",
        "    max = 0\n",
        "    for j in lst:\n",
        "      if j > max:\n",
        "        max = j;\n",
        "\n",
        "    lst.remove(max);\n",
        "\n",
        "    largest_numbers.append(max)\n",
        "\n",
        "  print(\"Largest numbers are: \", largest_numbers)"
      ],
      "metadata": {
        "id": "KpJDWqtFUVWd"
      },
      "execution_count": 7,
      "outputs": []
    },
    {
      "cell_type": "code",
      "source": [
        "tot_num_count = int(input(\"How many number you want to enter?: \"))\n",
        "\n",
        "numbers_list = []\n",
        "\n",
        "for i in range(tot_num_count):\n",
        "  num = int(input(\"Enter a number: \"))\n",
        "  numbers_list.append(num)\n",
        "\n",
        "tot_big_num = int(input(\"How many largest numbers you want to find?: \"))\n",
        "\n",
        "lastN(numbers_list, tot_big_num)"
      ],
      "metadata": {
        "colab": {
          "base_uri": "https://localhost:8080/"
        },
        "id": "ykKQqRpdDm3F",
        "outputId": "4d4e171c-79ad-4049-e5cb-8536d4da6778"
      },
      "execution_count": 8,
      "outputs": [
        {
          "output_type": "stream",
          "name": "stdout",
          "text": [
            "How many number you want to enter?: 5\n",
            "Enter a number: 45\n",
            "Enter a number: 78\n",
            "Enter a number: 2\n",
            "Enter a number: 56\n",
            "Enter a number: 656\n",
            "How many largest numbers you want to find?: 3\n",
            "Largest numbers are:  [656, 78, 56]\n"
          ]
        }
      ]
    },
    {
      "cell_type": "markdown",
      "source": [
        "### Program to sort the list"
      ],
      "metadata": {
        "id": "2WtS4UdjFaHv"
      }
    },
    {
      "cell_type": "markdown",
      "source": [
        "Given a list of strings, return a list with the strings in sorted order, except group all the strings that begin with 'x' first.\n",
        "\n",
        "Hint: this can be done by making 2 lists and sorting each of them before combining them.\n",
        "\n",
        "Test Cases: Input-> ['mix', 'xyz', 'apple', 'xanadu', 'aardvark'] Output-> ['xanadu', 'xyz', 'aardvark', 'apple', 'mix']"
      ],
      "metadata": {
        "id": "FplsHrFyFJfW"
      }
    },
    {
      "cell_type": "code",
      "source": [
        "def front_x(words):\n",
        "\n",
        "  x_first_list = []\n",
        "  alpha_first_list = []\n",
        "\n",
        "  for word in words:\n",
        "\n",
        "    if word.startswith(\"x\"):\n",
        "      x_first_list.append(word)\n",
        "\n",
        "    else:\n",
        "      alpha_first_list.append(word)\n",
        "\n",
        "  return sorted(x_first_list) + sorted(alpha_first_list)"
      ],
      "metadata": {
        "id": "d566nDPBEwT5"
      },
      "execution_count": 9,
      "outputs": []
    },
    {
      "cell_type": "code",
      "source": [
        "words = ['mix', 'xyz', 'apple', 'xanadu', 'aardvark']\n",
        "front_x(words)"
      ],
      "metadata": {
        "colab": {
          "base_uri": "https://localhost:8080/"
        },
        "id": "WdD8QgbfFkL0",
        "outputId": "dcb33a86-db11-42e8-8bb9-fef444fa2738"
      },
      "execution_count": 10,
      "outputs": [
        {
          "output_type": "execute_result",
          "data": {
            "text/plain": [
              "['xanadu', 'xyz', 'aardvark', 'apple', 'mix']"
            ]
          },
          "metadata": {},
          "execution_count": 10
        }
      ]
    },
    {
      "cell_type": "markdown",
      "source": [
        "### Program to sort a list of tuples"
      ],
      "metadata": {
        "id": "L9xldedaG3sM"
      }
    },
    {
      "cell_type": "markdown",
      "source": [
        "Develop a function sort_last().\n",
        "\n",
        "Given a list of non-empty tuples, return a list sorted in increasing order by the last element in each tuple.\n",
        "\n",
        "Hint: use a custom key= function to extract the last element form each tuple.\n",
        "\n",
        "Test Cases:\n",
        "\n",
        "Input-> [(1, 7), (1, 3), (3, 4, 5), (2, 2)]\n",
        "\n",
        "Output-> [(2, 2), (1, 3), (3, 4, 5), (1, 7)]"
      ],
      "metadata": {
        "id": "iE7xriU5GWqj"
      }
    },
    {
      "cell_type": "code",
      "source": [
        "def last(n):\n",
        "  return n[-1]\n",
        "\n",
        "def sort_list_last(tuples):\n",
        "  return sorted(tuples, key=last)\n",
        "\n",
        "print(\"Sorted Result:\", sort_list_last([(1, 7), (1, 3), (3, 4, 5), (2, 2)]))"
      ],
      "metadata": {
        "colab": {
          "base_uri": "https://localhost:8080/"
        },
        "id": "bGG2gKQXGHWA",
        "outputId": "8bf61911-b355-4395-8db1-a4c6880b9aa2"
      },
      "execution_count": 11,
      "outputs": [
        {
          "output_type": "stream",
          "name": "stdout",
          "text": [
            "Sorted Result: [(2, 2), (1, 3), (3, 4, 5), (1, 7)]\n"
          ]
        }
      ]
    },
    {
      "cell_type": "markdown",
      "source": [
        "### Program to remove adjacent elements"
      ],
      "metadata": {
        "id": "GpD6UsF8Kt-J"
      }
    },
    {
      "cell_type": "markdown",
      "source": [
        "Develop a function remove_adjacent().\n",
        "\n",
        "Given a list of numbers, return a list where all adjacent same elements have been reduced to a single element.\n",
        "\n",
        "You may create a new list or modify the passed in list.\n",
        "\n",
        "Test Cases:\n",
        "1. Input: [1, 2, 2, 3] and output: [1, 2, 3]\n",
        "2. Input: [2, 2, 3, 3, 3] and output: [2, 3]\n",
        "3. Input: [ ] and output: [ ]"
      ],
      "metadata": {
        "id": "jboRFWF9KJej"
      }
    },
    {
      "cell_type": "code",
      "source": [
        "def remove_adjacent(lst):\n",
        "\n",
        "  a = []\n",
        "\n",
        "  for item in lst:\n",
        "    if len(a):\n",
        "\n",
        "      if a[-1] != item:\n",
        "        a.append(item)\n",
        "\n",
        "    else:\n",
        "      a.append(item)\n",
        "\n",
        "  return a"
      ],
      "metadata": {
        "id": "iYbPp4jkKMeu"
      },
      "execution_count": 12,
      "outputs": []
    },
    {
      "cell_type": "code",
      "source": [
        "remove_adjacent([1, 2, 2, 3])"
      ],
      "metadata": {
        "colab": {
          "base_uri": "https://localhost:8080/"
        },
        "id": "XyiVF_0NKcQy",
        "outputId": "2841e47f-7bb2-435e-d780-316badbd474b"
      },
      "execution_count": 13,
      "outputs": [
        {
          "output_type": "execute_result",
          "data": {
            "text/plain": [
              "[1, 2, 3]"
            ]
          },
          "metadata": {},
          "execution_count": 13
        }
      ]
    },
    {
      "cell_type": "code",
      "source": [
        "remove_adjacent([2, 2, 3, 3, 3])"
      ],
      "metadata": {
        "colab": {
          "base_uri": "https://localhost:8080/"
        },
        "id": "JW72UE-yKcSr",
        "outputId": "b23a3c37-38e5-4e18-f6a3-bf615c4d7b82"
      },
      "execution_count": 14,
      "outputs": [
        {
          "output_type": "execute_result",
          "data": {
            "text/plain": [
              "[2, 3]"
            ]
          },
          "metadata": {},
          "execution_count": 14
        }
      ]
    },
    {
      "cell_type": "code",
      "source": [
        "remove_adjacent([])"
      ],
      "metadata": {
        "colab": {
          "base_uri": "https://localhost:8080/"
        },
        "id": "bcN17yAyKcV1",
        "outputId": "6522c807-ba55-4311-9491-d0f04a8d29e1"
      },
      "execution_count": 15,
      "outputs": [
        {
          "output_type": "execute_result",
          "data": {
            "text/plain": [
              "[]"
            ]
          },
          "metadata": {},
          "execution_count": 15
        }
      ]
    },
    {
      "cell_type": "markdown",
      "source": [
        "### Programm to construct Verbing"
      ],
      "metadata": {
        "id": "ygxWZuq3Mn-M"
      }
    },
    {
      "cell_type": "markdown",
      "source": [
        "Write a function verbing().\n",
        "\n",
        "Given a string, if its length is at least 3, add 'ing' to its end.\n",
        "\n",
        "Unless it already ends in 'ing', in which case add 'ly' instead.\n",
        "\n",
        "If the string length is less than 3, leave it unchanged.\n",
        "\n",
        "Return the resulting string.\n",
        "\n",
        "So ‘hail’ yields: hailing; ‘swimming’ yields: swimmingly; ‘do’ yields: do."
      ],
      "metadata": {
        "id": "3y1C1eihL0XL"
      }
    },
    {
      "cell_type": "code",
      "source": [
        "def verbing(word):\n",
        "\n",
        "  length = len(word)\n",
        "\n",
        "  if length > 2:\n",
        "\n",
        "    if word[-3:] == 'ing':\n",
        "      word += 'ly'\n",
        "\n",
        "    else:\n",
        "      word += 'ing'\n",
        "\n",
        "  return word"
      ],
      "metadata": {
        "id": "xDb_bY11L1B-"
      },
      "execution_count": 16,
      "outputs": []
    },
    {
      "cell_type": "code",
      "source": [
        "verbing('hail')"
      ],
      "metadata": {
        "colab": {
          "base_uri": "https://localhost:8080/",
          "height": 35
        },
        "id": "q8-rEn_oMXT_",
        "outputId": "de122f8b-e8d5-4a9e-8b13-0d5b687d74cf"
      },
      "execution_count": 17,
      "outputs": [
        {
          "output_type": "execute_result",
          "data": {
            "text/plain": [
              "'hailing'"
            ],
            "application/vnd.google.colaboratory.intrinsic+json": {
              "type": "string"
            }
          },
          "metadata": {},
          "execution_count": 17
        }
      ]
    },
    {
      "cell_type": "code",
      "source": [
        "verbing('swimming')"
      ],
      "metadata": {
        "colab": {
          "base_uri": "https://localhost:8080/",
          "height": 35
        },
        "id": "HvHMxx5dMbGa",
        "outputId": "c9a78f63-5fb8-438d-c8e5-1559348408a7"
      },
      "execution_count": 18,
      "outputs": [
        {
          "output_type": "execute_result",
          "data": {
            "text/plain": [
              "'swimmingly'"
            ],
            "application/vnd.google.colaboratory.intrinsic+json": {
              "type": "string"
            }
          },
          "metadata": {},
          "execution_count": 18
        }
      ]
    },
    {
      "cell_type": "code",
      "source": [
        "verbing('do')"
      ],
      "metadata": {
        "colab": {
          "base_uri": "https://localhost:8080/",
          "height": 35
        },
        "id": "fzc8RdajMbI0",
        "outputId": "88b03407-6f3b-4588-b4ca-16a78b0f597a"
      },
      "execution_count": 19,
      "outputs": [
        {
          "output_type": "execute_result",
          "data": {
            "text/plain": [
              "'do'"
            ],
            "application/vnd.google.colaboratory.intrinsic+json": {
              "type": "string"
            }
          },
          "metadata": {},
          "execution_count": 19
        }
      ]
    },
    {
      "cell_type": "markdown",
      "source": [
        "### Program to replace the string"
      ],
      "metadata": {
        "id": "gEWZXhUBM9M0"
      }
    },
    {
      "cell_type": "markdown",
      "source": [
        "Develop a function not_bad().\n",
        "\n",
        "Given a string, find the first appearance of the substring 'not' and 'bad'.\n",
        "\n",
        "If the 'bad' follows the 'not', replace the whole 'not'...'bad' substring with 'good'.\n",
        "\n",
        "Return the resulting string.\n",
        "\n",
        "So 'This dinner is not that bad!' yields: This dinner is good!"
      ],
      "metadata": {
        "id": "bpc3BSFBM1_S"
      }
    },
    {
      "cell_type": "code",
      "source": [
        "def not_bad(s):\n",
        "\n",
        "  snot = s.find('not')\n",
        "  sbad = s.find('bad')\n",
        "\n",
        "  if sbad > snot:\n",
        "    s = s.replace(s[snot:(sbad + 3)], 'good')\n",
        "\n",
        "  return s"
      ],
      "metadata": {
        "id": "mEaOIOkTNDFs"
      },
      "execution_count": 20,
      "outputs": []
    },
    {
      "cell_type": "code",
      "source": [
        "not_bad(\"This dinner is not that bad!\")"
      ],
      "metadata": {
        "colab": {
          "base_uri": "https://localhost:8080/",
          "height": 35
        },
        "id": "EqwHQDTgNI5x",
        "outputId": "b6582b5e-339c-4f68-acb7-cd29e182ad31"
      },
      "execution_count": 21,
      "outputs": [
        {
          "output_type": "execute_result",
          "data": {
            "text/plain": [
              "'This dinner is good!'"
            ],
            "application/vnd.google.colaboratory.intrinsic+json": {
              "type": "string"
            }
          },
          "metadata": {},
          "execution_count": 21
        }
      ]
    },
    {
      "cell_type": "markdown",
      "source": [
        "### Other Programs"
      ],
      "metadata": {
        "id": "EdIS2JaXIYYh"
      }
    },
    {
      "cell_type": "markdown",
      "source": [
        "Define a function first() that receives a tuple and returns its first element\n",
        "\n",
        "Define a function sort_first() that receives a list of tuples and returns the sorted\n",
        "\n",
        "Print lists in sorted order\n",
        "\n",
        "Define a function middle() that receives a a tuple and returns its middle element\n",
        "\n",
        "Define a functino sort_middle() that receives a list of tuples and returns it sorted using the key middle"
      ],
      "metadata": {
        "id": "T-CqJ_zQHnaf"
      }
    },
    {
      "cell_type": "code",
      "source": [
        "num = [(1,2,3), (2,1,4), (10,7,15), (20,4,50), (30, 6, 40)]\n",
        "\n",
        "def first(num):\n",
        "  for j in num:\n",
        "    a,b,c=j\n",
        "    print(a)\n",
        "\n",
        "def sort_first(num):\n",
        "  new_list = sorted(num)\n",
        "  return new_list\n",
        "\n",
        "def lists(num):\n",
        "  return sorted(num, key = None, reverse = 0)\n",
        "\n",
        "def middle(num):\n",
        "  for j in num:\n",
        "    a,b,c=j\n",
        "    print(b)\n",
        "\n",
        "def sort_middle(num):\n",
        "  return sorted(num,key = lambda mid:mid[1])"
      ],
      "metadata": {
        "id": "E9ofJqyOHL0m"
      },
      "execution_count": 22,
      "outputs": []
    },
    {
      "cell_type": "code",
      "source": [
        "first(num)"
      ],
      "metadata": {
        "colab": {
          "base_uri": "https://localhost:8080/"
        },
        "id": "xm13q_SKJfn2",
        "outputId": "00dbfb3f-e707-4b5e-b8ee-923a48c60402"
      },
      "execution_count": 23,
      "outputs": [
        {
          "output_type": "stream",
          "name": "stdout",
          "text": [
            "1\n",
            "2\n",
            "10\n",
            "20\n",
            "30\n"
          ]
        }
      ]
    },
    {
      "cell_type": "code",
      "source": [
        "sort_first(num)"
      ],
      "metadata": {
        "colab": {
          "base_uri": "https://localhost:8080/"
        },
        "id": "xF-oeoMiJmwZ",
        "outputId": "7e6d648e-b435-41d8-f9bc-653e1ab4d50c"
      },
      "execution_count": 24,
      "outputs": [
        {
          "output_type": "execute_result",
          "data": {
            "text/plain": [
              "[(1, 2, 3), (2, 1, 4), (10, 7, 15), (20, 4, 50), (30, 6, 40)]"
            ]
          },
          "metadata": {},
          "execution_count": 24
        }
      ]
    },
    {
      "cell_type": "code",
      "source": [
        "lists(num)"
      ],
      "metadata": {
        "colab": {
          "base_uri": "https://localhost:8080/"
        },
        "id": "suatQ-fdJt64",
        "outputId": "751c2db8-eaa0-424e-8cc0-ca01e2b2f590"
      },
      "execution_count": 25,
      "outputs": [
        {
          "output_type": "execute_result",
          "data": {
            "text/plain": [
              "[(1, 2, 3), (2, 1, 4), (10, 7, 15), (20, 4, 50), (30, 6, 40)]"
            ]
          },
          "metadata": {},
          "execution_count": 25
        }
      ]
    },
    {
      "cell_type": "code",
      "source": [
        "middle(num)"
      ],
      "metadata": {
        "colab": {
          "base_uri": "https://localhost:8080/"
        },
        "id": "mfowrVKRJy4t",
        "outputId": "0631fb0d-53b2-4392-9235-43aad308395d"
      },
      "execution_count": 26,
      "outputs": [
        {
          "output_type": "stream",
          "name": "stdout",
          "text": [
            "2\n",
            "1\n",
            "7\n",
            "4\n",
            "6\n"
          ]
        }
      ]
    },
    {
      "cell_type": "code",
      "source": [
        "sort_middle(num)"
      ],
      "metadata": {
        "colab": {
          "base_uri": "https://localhost:8080/"
        },
        "id": "PC5YUls6J2js",
        "outputId": "233a406f-17ff-4839-f56e-db892ac19399"
      },
      "execution_count": 27,
      "outputs": [
        {
          "output_type": "execute_result",
          "data": {
            "text/plain": [
              "[(2, 1, 4), (1, 2, 3), (20, 4, 50), (30, 6, 40), (10, 7, 15)]"
            ]
          },
          "metadata": {},
          "execution_count": 27
        }
      ]
    },
    {
      "cell_type": "code",
      "source": [],
      "metadata": {
        "id": "xZ3Jo6SOJ8gp"
      },
      "execution_count": 27,
      "outputs": []
    }
  ]
}