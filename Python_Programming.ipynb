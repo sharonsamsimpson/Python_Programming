{
  "cells": [
    {
      "cell_type": "markdown",
      "metadata": {
        "id": "ihIVw1CWh9Ml"
      },
      "source": [
        "# Python Programming\n"
      ]
    },
    {
      "cell_type": "markdown",
      "source": [
        "### Variables"
      ],
      "metadata": {
        "id": "H3ocxHVPjZWL"
      }
    },
    {
      "cell_type": "markdown",
      "metadata": {
        "id": "NMuVX47Wh9Nh"
      },
      "source": [
        "Variables are used to store values.\n"
      ]
    },
    {
      "cell_type": "code",
      "source": [
        "x = 5\n",
        "y = \"Hello\"\n",
        "z = True\n",
        "\n",
        "print(\"x =\", x,\"; y =\", y, \"; z =\", z)"
      ],
      "metadata": {
        "id": "KJg_NR5-jwuB",
        "outputId": "c575a541-b995-4c03-95f2-4d09ba51accd",
        "colab": {
          "base_uri": "https://localhost:8080/"
        }
      },
      "execution_count": 1,
      "outputs": [
        {
          "output_type": "stream",
          "name": "stdout",
          "text": [
            "x = 5 ; y = Hello ; z = True\n"
          ]
        }
      ]
    },
    {
      "cell_type": "code",
      "source": [
        "7 + 3"
      ],
      "metadata": {
        "id": "KgQ5XUhFroky",
        "outputId": "7038582e-054f-4e98-d35b-52617637fdde",
        "colab": {
          "base_uri": "https://localhost:8080/"
        }
      },
      "execution_count": 2,
      "outputs": [
        {
          "output_type": "execute_result",
          "data": {
            "text/plain": [
              "10"
            ]
          },
          "metadata": {},
          "execution_count": 2
        }
      ]
    },
    {
      "cell_type": "code",
      "execution_count": 3,
      "metadata": {
        "id": "WJpdZQ5Yh9Ne",
        "outputId": "9dc7a3d6-b836-4aeb-920f-7b9eb8ce27a4",
        "colab": {
          "base_uri": "https://localhost:8080/"
        }
      },
      "outputs": [
        {
          "output_type": "stream",
          "name": "stdout",
          "text": [
            "10 14\n"
          ]
        }
      ],
      "source": [
        "# _ or 'underscore' is a special variable in Python, which stores the most recent output value of the interpreter\n",
        "# _ can be used with other expressions and operators as well\n",
        "\n",
        "print(_ , _+4)"
      ]
    },
    {
      "cell_type": "markdown",
      "metadata": {
        "id": "TDNhmhYkh9N1"
      },
      "source": [
        "### Multiple Variable Assignments"
      ]
    },
    {
      "cell_type": "code",
      "execution_count": 4,
      "metadata": {
        "id": "ihotNw-fh9N2",
        "outputId": "191ca5c0-2103-4cb8-bd4a-955d683cb3f4",
        "colab": {
          "base_uri": "https://localhost:8080/"
        }
      },
      "outputs": [
        {
          "output_type": "stream",
          "name": "stdout",
          "text": [
            "4\n",
            "5.5\n",
            "Hello\n"
          ]
        }
      ],
      "source": [
        "a,b,c = 4,5.5,'Hello'\n",
        "print(a)\n",
        "print(b)\n",
        "print(c)"
      ]
    },
    {
      "cell_type": "code",
      "source": [
        "a,b,*c = [1,2,3,4,5]\n",
        "print(a)\n",
        "print(b)\n",
        "print(c)"
      ],
      "metadata": {
        "id": "efzCXGPNmKBZ",
        "outputId": "076b09b7-dd84-40ba-82a6-73a5662446c2",
        "colab": {
          "base_uri": "https://localhost:8080/"
        }
      },
      "execution_count": 5,
      "outputs": [
        {
          "output_type": "stream",
          "name": "stdout",
          "text": [
            "1\n",
            "2\n",
            "[3, 4, 5]\n"
          ]
        }
      ]
    },
    {
      "cell_type": "markdown",
      "source": [
        "### Type Method"
      ],
      "metadata": {
        "id": "ztQKH6rn48-O"
      }
    },
    {
      "cell_type": "code",
      "source": [
        "a,b,c,d,e = 1,'Hello',\"Hi\",4.5,True # multiple assignment to various variables\n",
        "print(\"a:\",a)\n",
        "print(\"b:\",b)\n",
        "print(\"c:\",c)\n",
        "print(\"d:\",d)\n",
        "print(\"e:\",e)\n",
        "\n",
        "print(\"\\nClass of a:\",type(a))\n",
        "print(\"Class of b:\",type(b))\n",
        "print(\"Class of c:\",type(c))\n",
        "print(\"Class of d:\",type(d))\n",
        "print(\"Class of e:\",type(e))"
      ],
      "metadata": {
        "id": "qtMFez__47vp",
        "outputId": "cc34572a-c475-449d-ca70-d00b4df738dd",
        "colab": {
          "base_uri": "https://localhost:8080/"
        }
      },
      "execution_count": 6,
      "outputs": [
        {
          "output_type": "stream",
          "name": "stdout",
          "text": [
            "a: 1\n",
            "b: Hello\n",
            "c: Hi\n",
            "d: 4.5\n",
            "e: True\n",
            "\n",
            "Class of a: <class 'int'>\n",
            "Class of b: <class 'str'>\n",
            "Class of c: <class 'str'>\n",
            "Class of d: <class 'float'>\n",
            "Class of e: <class 'bool'>\n"
          ]
        }
      ]
    },
    {
      "cell_type": "markdown",
      "metadata": {
        "id": "GnXk3zeQh9N6"
      },
      "source": [
        "### ID Function"
      ]
    },
    {
      "cell_type": "code",
      "execution_count": 7,
      "metadata": {
        "id": "40oot5Iqh9N7",
        "outputId": "2c325a13-cc25-4b39-b8da-02bbb048cd7a",
        "colab": {
          "base_uri": "https://localhost:8080/"
        }
      },
      "outputs": [
        {
          "output_type": "stream",
          "name": "stdout",
          "text": [
            "x+y: 9\n",
            "\n",
            "a: 1 , id of a is: 139532175622384\n",
            "b: 1 , id of b is: 139532175622384\n",
            "\n",
            "b: 2 , id of b is: 139532175622416\n"
          ]
        }
      ],
      "source": [
        "x=4\n",
        "y=5\n",
        "print(\"x+y:\",x+y)\n",
        "\n",
        "# demonstrating the id function\n",
        "a=1\n",
        "print(\"\\na:\",a,\", id of a is:\",id(a)) # id(variable) return a unique identifier for an object within the memory\n",
        "\n",
        "b=a # variable 'b' is pointing to 'a'\n",
        "print(\"b:\",b,\", id of b is:\",id(b)) # id of 'b' is same as id of 'a' as they both refer to the same object in memory\n",
        "\n",
        "b=2 # value of variable 'b' is changed\n",
        "print(\"\\nb:\",b,\", id of b is:\",id(b)) # id of 'b' will be changed"
      ]
    },
    {
      "cell_type": "markdown",
      "source": [
        "### Help Function"
      ],
      "metadata": {
        "id": "N38YYdqnnjZV"
      }
    },
    {
      "cell_type": "code",
      "source": [
        "# Help Function is called if we require any help in Python\n",
        "# For example, keywords. We should not use these reserved keywords as our variable names\n",
        "help('keywords')"
      ],
      "metadata": {
        "id": "tw-tShH9nb42",
        "outputId": "21eb8ddf-a400-4d69-cf10-53cb8498a6e4",
        "colab": {
          "base_uri": "https://localhost:8080/"
        }
      },
      "execution_count": 8,
      "outputs": [
        {
          "output_type": "stream",
          "name": "stdout",
          "text": [
            "\n",
            "Here is a list of the Python keywords.  Enter any keyword to get more help.\n",
            "\n",
            "False               class               from                or\n",
            "None                continue            global              pass\n",
            "True                def                 if                  raise\n",
            "and                 del                 import              return\n",
            "as                  elif                in                  try\n",
            "assert              else                is                  while\n",
            "async               except              lambda              with\n",
            "await               finally             nonlocal            yield\n",
            "break               for                 not                 \n",
            "\n"
          ]
        }
      ]
    },
    {
      "cell_type": "markdown",
      "metadata": {
        "id": "mAAlvq79h9NV"
      },
      "source": [
        "### Arithmetic Operations\n"
      ]
    },
    {
      "cell_type": "code",
      "execution_count": 9,
      "metadata": {
        "id": "v9Sxhh_Sh9Nk",
        "outputId": "fede9ef5-8005-4e89-9214-c1ef05736f89",
        "colab": {
          "base_uri": "https://localhost:8080/"
        }
      },
      "outputs": [
        {
          "output_type": "stream",
          "name": "stdout",
          "text": [
            "Addition 11+5 : 16\n",
            "Subtraction 11-5 : 6\n",
            "Multiplication 11*5 : 55\n",
            "Division 11/5 : 2.2\n",
            "Floor Division 11//5 : 2\n",
            "Modulus 11%5 : 1\n",
            "Exponent 11**5 : 161051\n"
          ]
        }
      ],
      "source": [
        "a = 11 + 5 # addition\n",
        "b = 11 - 5 # subtraction\n",
        "c = 11 * 5 # multiplication\n",
        "d = 11 / 5 # division\n",
        "e = 11 // 5 # returns quotient as result\n",
        "f = 11 % 5 # (modulus) returns remainder as result\n",
        "g = 11 ** 5 # exponents\n",
        "\n",
        "print(\"Addition 11+5 :\",a)\n",
        "print(\"Subtraction 11-5 :\",b)\n",
        "print(\"Multiplication 11*5 :\",c)\n",
        "print(\"Division 11/5 :\",d)\n",
        "print(\"Floor Division 11//5 :\",e)\n",
        "print(\"Modulus 11%5 :\",f)\n",
        "print(\"Exponent 11**5 :\",g)"
      ]
    },
    {
      "cell_type": "markdown",
      "metadata": {
        "id": "BnopOkZ3h9No"
      },
      "source": [
        "The arithmetic operations always follow the <b>PEDMAS</b> rule.\n",
        "\n",
        "Consider the two examples below"
      ]
    },
    {
      "cell_type": "code",
      "execution_count": 10,
      "metadata": {
        "id": "Gcx1KAkqh9Ns",
        "outputId": "be69d7cd-d258-42e1-ccd6-6a02c6fbe261",
        "colab": {
          "base_uri": "https://localhost:8080/"
        }
      },
      "outputs": [
        {
          "output_type": "stream",
          "name": "stdout",
          "text": [
            "Result of 5+2*7-8/2**2+1 is : 18.0\n"
          ]
        }
      ],
      "source": [
        "print(\"Result of 5+2*7-8/2**2+1 is :\", 5+2*7-8/2**2+1)"
      ]
    },
    {
      "cell_type": "code",
      "execution_count": 11,
      "metadata": {
        "id": "0rqXJoVyh9Ny",
        "outputId": "9a9f38d9-1fa4-4652-b5cc-150097a193c6",
        "colab": {
          "base_uri": "https://localhost:8080/"
        }
      },
      "outputs": [
        {
          "output_type": "stream",
          "name": "stdout",
          "text": [
            "Result of (5+2)*7-(8/2**2)+1 is : 48.0\n"
          ]
        }
      ],
      "source": [
        "print(\"Result of (5+2)*7-(8/2**2)+1 is :\",(5+2)*7-(8/2**2)+1)"
      ]
    },
    {
      "cell_type": "markdown",
      "metadata": {
        "id": "BRpH7OIlh9OK"
      },
      "source": [
        "### Boolean Operations"
      ]
    },
    {
      "cell_type": "code",
      "execution_count": 12,
      "metadata": {
        "id": "Qxk6aVRjh9OM",
        "outputId": "3e2e715e-5423-4cd3-f978-c498ba3a1131",
        "colab": {
          "base_uri": "https://localhost:8080/"
        }
      },
      "outputs": [
        {
          "output_type": "stream",
          "name": "stdout",
          "text": [
            "11 is greater than 5: True\n",
            "11 is less than 5: False\n",
            "11 is equal to 5: False\n",
            "11 is 5: False\n",
            "11 is not equal to 5: True\n",
            "11 is not 5: True\n",
            "11 is lesser than or equal to  5: False\n",
            "11 is greater than or equal to 5: True\n"
          ]
        },
        {
          "output_type": "stream",
          "name": "stderr",
          "text": [
            "<>:7: SyntaxWarning: \"is\" with a literal. Did you mean \"==\"?\n",
            "<>:9: SyntaxWarning: \"is not\" with a literal. Did you mean \"!=\"?\n",
            "<>:7: SyntaxWarning: \"is\" with a literal. Did you mean \"==\"?\n",
            "<>:9: SyntaxWarning: \"is not\" with a literal. Did you mean \"!=\"?\n",
            "<ipython-input-12-11691f6c53ab>:7: SyntaxWarning: \"is\" with a literal. Did you mean \"==\"?\n",
            "  print(\"11 is 5:\",11 is 5) # is statement is equivalent to ==\n",
            "<ipython-input-12-11691f6c53ab>:9: SyntaxWarning: \"is not\" with a literal. Did you mean \"!=\"?\n",
            "  print(\"11 is not 5:\",11 is not 5) # is not statement is equivalent to !=\n"
          ]
        }
      ],
      "source": [
        "# is: equivalent to ==\n",
        "# is not: equivalent to !=\n",
        "\n",
        "print(\"11 is greater than 5:\",11>5) # greater than\n",
        "print(\"11 is less than 5:\",11<5) # less than\n",
        "print(\"11 is equal to 5:\",11==5) # equal to\n",
        "print(\"11 is 5:\",11 is 5) # is statement is equivalent to ==\n",
        "print(\"11 is not equal to 5:\",11!=5) # not equal to\n",
        "print(\"11 is not 5:\",11 is not 5) # is not statement is equivalent to !=\n",
        "print(\"11 is lesser than or equal to  5:\",11<=5) # less than equal to\n",
        "print(\"11 is greater than or equal to 5:\",11>=5) # greater than equal to"
      ]
    },
    {
      "cell_type": "code",
      "execution_count": 13,
      "metadata": {
        "id": "oV2WFR8-h9OW",
        "outputId": "c9568f71-4f9e-4622-84d1-f54f84a6c533",
        "colab": {
          "base_uri": "https://localhost:8080/"
        }
      },
      "outputs": [
        {
          "output_type": "stream",
          "name": "stdout",
          "text": [
            "11>5 or 11<5:  True\n",
            "11>5 and 11<5:  False\n",
            "False or True:  True\n",
            "False and True:  False\n",
            "not(True):  False\n",
            "not(False):  True\n"
          ]
        }
      ],
      "source": [
        "# AND: Returns true only if both conditions are true\n",
        "# OR: Returns true if either one of both the conditions is true\n",
        "# NOT: reverses the result\n",
        "\n",
        "print(\"11>5 or 11<5: \",11>5 or 11<5)\n",
        "print(\"11>5 and 11<5: \",11>5 and 11<5)\n",
        "print(\"False or True: \",False or True)\n",
        "print(\"False and True: \",False and True)\n",
        "print(\"not(True): \",not(True))\n",
        "print(\"not(False): \",not(False))"
      ]
    },
    {
      "cell_type": "markdown",
      "metadata": {
        "id": "e0u6qKE5h9Oa"
      },
      "source": [
        "### Len Method\n",
        "\n",
        "*    It is used to determine the length of specified variable, string, list, etc.\n",
        "*    Spaces are also counted"
      ]
    },
    {
      "cell_type": "code",
      "execution_count": 14,
      "metadata": {
        "id": "RX8XwEOfh9Ob",
        "outputId": "3b62c092-66d3-4c57-b56a-bf5b5033486c",
        "colab": {
          "base_uri": "https://localhost:8080/"
        }
      },
      "outputs": [
        {
          "output_type": "stream",
          "name": "stdout",
          "text": [
            "s: This is a sample text.\n",
            "\n",
            "Length of the string 's' is: 22\n"
          ]
        }
      ],
      "source": [
        "s = \"This is a sample text.\" # special characters and white spaces are also counted\n",
        "print(\"s:\",s)\n",
        "print(\"\\nLength of the string 's' is:\",len(s))"
      ]
    },
    {
      "cell_type": "markdown",
      "metadata": {
        "id": "8VlomBA9h9Oc"
      },
      "source": [
        "### In Operator\n",
        "\n",
        "*    in operator is used to check whether a substring is present in the main string"
      ]
    },
    {
      "cell_type": "code",
      "execution_count": 15,
      "metadata": {
        "id": "WxRlm-QQh9Od",
        "outputId": "ae1850af-7a42-41ec-c66a-4b3c073ffa92",
        "colab": {
          "base_uri": "https://localhost:8080/"
        }
      },
      "outputs": [
        {
          "output_type": "stream",
          "name": "stdout",
          "text": [
            "a: This is a sample string\n",
            "\n",
            "'sample' in a: True\n",
            "'test' in a: False\n",
            "'sample' not in a: False\n"
          ]
        }
      ],
      "source": [
        "a = \"This is a sample string\"\n",
        "print(\"a:\",a)\n",
        "\n",
        "print(\"\\n'sample' in a:\",'sample' in a)\n",
        "print(\"'test' in a:\",'test' in a)\n",
        "print(\"'sample' not in a:\",'sample' not in a) # not in means not a substring"
      ]
    },
    {
      "cell_type": "markdown",
      "metadata": {
        "id": "K3imU92Rh9Sm"
      },
      "source": [
        "### All / Any\n",
        "* **all** returns True if all values are True, else returns False\n",
        "* **any** returns True if any value is True, else returns False"
      ]
    },
    {
      "cell_type": "code",
      "execution_count": 16,
      "metadata": {
        "id": "c4Wm_IlTh9Sn",
        "outputId": "eb104add-5c3e-41bf-e65e-f22b4a9cc2ea",
        "colab": {
          "base_uri": "https://localhost:8080/"
        }
      },
      "outputs": [
        {
          "output_type": "stream",
          "name": "stdout",
          "text": [
            "all([True,False,False]): False\n",
            "any([True,False,False]): True\n"
          ]
        }
      ],
      "source": [
        "print('all([True,False,False]):',all([True,False,False]))\n",
        "print('any([True,False,False]):',any([True,False,False]))"
      ]
    },
    {
      "cell_type": "markdown",
      "metadata": {
        "id": "WWBmAQV6h9OX"
      },
      "source": [
        "### Strings"
      ]
    },
    {
      "cell_type": "code",
      "execution_count": 17,
      "metadata": {
        "id": "aJoMpJ_Vh9OY",
        "outputId": "30470205-6966-44ee-f719-ba0ec99ecfeb",
        "colab": {
          "base_uri": "https://localhost:8080/"
        }
      },
      "outputs": [
        {
          "output_type": "stream",
          "name": "stdout",
          "text": [
            "x: Orange\n",
            "y: Yellow\n",
            "\n",
            "x==y: False\n",
            "x is y: False\n",
            "x!=y: True\n",
            "x<y: True\n",
            "x>y False\n",
            "1=='1': False\n"
          ]
        }
      ],
      "source": [
        "# Strings can be specified using both single or double quotes.\n",
        "\n",
        "x = \"Orange\" # using double quotes\n",
        "y = 'Yellow' # using single quotes\n",
        "\n",
        "print(\"x:\",x)\n",
        "print(\"y:\",y)\n",
        "\n",
        "print(\"\\nx==y:\",x==y) # equal to\n",
        "print(\"x is y:\",x is y) # is statement is equivalent to ==\n",
        "print(\"x!=y:\",x!=y) # not equal to\n",
        "print(\"x<y:\",x<y) # less than, returns true as 'o' comes before 'y'\n",
        "print(\"x>y\",x>y) # greater than, returns false as 'o' comes before 'y'\n",
        "print(\"1=='1':\",1=='1') # 1 is an integer while '1' is a string"
      ]
    },
    {
      "cell_type": "code",
      "source": [
        "# A String Peculiarity\n",
        "s1='abcdef'\n",
        "s2='abcdef'\n",
        "print('\\ns1:',s1)\n",
        "print('s2:',s2)\n",
        "print(\"s1 is s2:\",s1 is s2) # returns True\n",
        "\n",
        "s3='abc-def'\n",
        "s4='abc-def'\n",
        "print('\\ns3:',s3)\n",
        "print('s4:',s4)\n",
        "print(\"s3 is s4:\",s3 is s4) # returns False because of the introduction of special character\n",
        "print(\"s3 == s4:\",s3 == s4)"
      ],
      "metadata": {
        "id": "0NLUOcCnovZI",
        "outputId": "210881ac-d3d6-4464-afa7-1c8510c98ef1",
        "colab": {
          "base_uri": "https://localhost:8080/"
        }
      },
      "execution_count": 18,
      "outputs": [
        {
          "output_type": "stream",
          "name": "stdout",
          "text": [
            "\n",
            "s1: abcdef\n",
            "s2: abcdef\n",
            "s1 is s2: True\n",
            "\n",
            "s3: abc-def\n",
            "s4: abc-def\n",
            "s3 is s4: False\n",
            "s3 == s4: True\n"
          ]
        }
      ]
    },
    {
      "cell_type": "markdown",
      "source": [
        "#### Indexing"
      ],
      "metadata": {
        "id": "OkExybyVqEYM"
      }
    },
    {
      "cell_type": "code",
      "execution_count": 19,
      "metadata": {
        "id": "rUMiTJ8Vh9Oe",
        "outputId": "024b71c9-a2ea-4523-c559-d1fda922da5b",
        "colab": {
          "base_uri": "https://localhost:8080/"
        }
      },
      "outputs": [
        {
          "output_type": "stream",
          "name": "stdout",
          "text": [
            "s: Some text\n",
            "Length: 9\n",
            "\n",
            "First character, s[0]: S\n",
            "Character at index position 7, s[7]: x\n",
            "Last character, ,s[length-1]: t\n",
            "\n",
            "Last character using negative indexing, s[-1]: t\n",
            "Character at index position 4 from the end, s[-4]: t\n",
            "First character, s[-(length)]: S\n"
          ]
        }
      ],
      "source": [
        "s = \"Some text\"\n",
        "print(\"s:\",s)\n",
        "length = len(s)\n",
        "print(\"Length:\",length)\n",
        "\n",
        "print(\"\\nFirst character, s[0]:\",s[0]) # first character\n",
        "print(\"Character at index position 7, s[7]:\",s[7]) # fetches the character at index position 7 in the string\n",
        "print(\"Last character, ,s[length-1]:\",s[length-1]) # last character\n",
        "\n",
        "# Negative indexing is also possible.\n",
        "print(\"\\nLast character using negative indexing, s[-1]:\",s[-1]) # fetches last element\n",
        "print(\"Character at index position 4 from the end, s[-4]:\",s[-4]) # fetches 4th element from the end (equivalent to index position 7 from the beginning)\n",
        "print(\"First character, s[-(length)]:\",s[-(length)]) # fetches first element (equivalent to s[0])"
      ]
    },
    {
      "cell_type": "markdown",
      "metadata": {
        "id": "ZSSfdh__h9Ok"
      },
      "source": [
        "#### Backslash & Newline\n",
        "\n",
        "*    Escape sequences are specified using <b> (\\\\)</b>.\n",
        "*    <b>\\n</b> is used as a wildcard in order to print a new blank line."
      ]
    },
    {
      "cell_type": "code",
      "execution_count": 20,
      "metadata": {
        "id": "sT2TSw6Fh9Ol",
        "outputId": "20b94b3c-0816-42ea-fa67-4af2ab369d0b",
        "colab": {
          "base_uri": "https://localhost:8080/"
        }
      },
      "outputs": [
        {
          "output_type": "stream",
          "name": "stdout",
          "text": [
            "Text 1\n",
            "Text 2\n"
          ]
        }
      ],
      "source": [
        "print(\"Text 1\\nText 2\") # two separate lines are printed"
      ]
    },
    {
      "cell_type": "code",
      "execution_count": 21,
      "metadata": {
        "id": "He1X2pjGh9Om",
        "outputId": "5546fc82-11c5-4166-bef7-6484e4b6b7bd",
        "colab": {
          "base_uri": "https://localhost:8080/"
        }
      },
      "outputs": [
        {
          "output_type": "stream",
          "name": "stdout",
          "text": [
            "Text 1\\nText 2\n"
          ]
        }
      ],
      "source": [
        "print(\"Text 1\\\\nText 2\") # In order to print \\n as text, we insert a backslash as an escape sequence."
      ]
    },
    {
      "cell_type": "code",
      "execution_count": 22,
      "metadata": {
        "id": "wTTMSwHzh9Oo",
        "outputId": "68db5bf9-acb6-4723-a9d1-1911a8e0f0dd",
        "colab": {
          "base_uri": "https://localhost:8080/"
        }
      },
      "outputs": [
        {
          "output_type": "stream",
          "name": "stdout",
          "text": [
            "Text 1\\nText 2\n"
          ]
        }
      ],
      "source": [
        "print(r\"Text 1\\nText 2\") # Letter 'r' can also be placed before the string as an alternative to escape sequence (works similar to above)"
      ]
    },
    {
      "cell_type": "code",
      "execution_count": 23,
      "metadata": {
        "id": "6etz7MTIh9Op",
        "outputId": "ae42ea38-0afe-4873-d67a-2474f36b218a",
        "colab": {
          "base_uri": "https://localhost:8080/"
        }
      },
      "outputs": [
        {
          "output_type": "stream",
          "name": "stdout",
          "text": [
            "Text 1\tText 2\n"
          ]
        }
      ],
      "source": [
        "print(\"Text 1\\tText 2\") # \\t represents a tab"
      ]
    },
    {
      "cell_type": "markdown",
      "metadata": {
        "id": "brAT1Emsh9Op"
      },
      "source": [
        "#### Three quotes"
      ]
    },
    {
      "cell_type": "code",
      "execution_count": 24,
      "metadata": {
        "id": "2xlBo95-h9Oq",
        "outputId": "61009989-b3b9-4194-d81b-772e8ccffc4c",
        "colab": {
          "base_uri": "https://localhost:8080/"
        }
      },
      "outputs": [
        {
          "output_type": "stream",
          "name": "stdout",
          "text": [
            "This is a test paragraph using double quotes.\n",
            "This is another line.\n",
            "\n",
            "This is a second paragraph using single quotes.\n",
            "Multiple lines can be used.\n",
            "\n",
            "This is a third paragraph. Multiple lines can be used. If we use \\ in the end of line, it continues to remain in the same line.\n",
            "\n",
            "Class of paragraph: <class 'str'>\n",
            "Length of paragraph: 68\n"
          ]
        }
      ],
      "source": [
        "paragraph= \"\"\"This is a test paragraph using double quotes.\n",
        "This is another line.\\n\"\"\"\n",
        "print(paragraph)\n",
        "\n",
        "second_paragraph='''This is a second paragraph using single quotes.\n",
        "Multiple lines can be used.\\n'''\n",
        "print(second_paragraph)\n",
        "\n",
        "third_paragraph='''This is a third paragraph. \\\n",
        "Multiple lines can be used. \\\n",
        "If we use \\ in the end of line, it continues to remain in the same line.\\n'''\n",
        "print(third_paragraph)\n",
        "\n",
        "print(\"Class of paragraph:\",type(paragraph)) # paragraph is used mostly for documentation. It is of String datatype.\n",
        "print(\"Length of paragraph:\",len(paragraph))"
      ]
    },
    {
      "cell_type": "markdown",
      "metadata": {
        "id": "RBqf2T9Wh9Or"
      },
      "source": [
        "#### Multiplication of strings"
      ]
    },
    {
      "cell_type": "code",
      "execution_count": 25,
      "metadata": {
        "id": "q46F2jG5h9Or",
        "outputId": "7b3b8206-f2a2-44d1-b579-867bb65c817b",
        "colab": {
          "base_uri": "https://localhost:8080/"
        }
      },
      "outputs": [
        {
          "output_type": "stream",
          "name": "stdout",
          "text": [
            "Hey! Hey! Hey! \n"
          ]
        }
      ],
      "source": [
        "s1='Hey! '\n",
        "print(s1*3) # 3 copies of string s1"
      ]
    },
    {
      "cell_type": "markdown",
      "metadata": {
        "id": "0KEDeF5-h9Oy"
      },
      "source": [
        "#### Concatenation of strings"
      ]
    },
    {
      "cell_type": "code",
      "execution_count": 26,
      "metadata": {
        "id": "ZBHqhHnEh9Oz",
        "outputId": "3b9524a6-0d89-4ed0-c386-2592b9e5660a",
        "colab": {
          "base_uri": "https://localhost:8080/",
          "height": 0
        }
      },
      "outputs": [
        {
          "output_type": "execute_result",
          "data": {
            "text/plain": [
              "'This is a concatenated string.'"
            ],
            "application/vnd.google.colaboratory.intrinsic+json": {
              "type": "string"
            }
          },
          "metadata": {},
          "execution_count": 26
        }
      ],
      "source": [
        "\"This is a \"+'concatenated string.'"
      ]
    },
    {
      "cell_type": "markdown",
      "metadata": {
        "id": "BmjW0t2Uh9Pn"
      },
      "source": [
        "#### Functions on strings"
      ]
    },
    {
      "cell_type": "code",
      "execution_count": 27,
      "metadata": {
        "id": "02Xi3rxUh9Po",
        "outputId": "0b55f50e-d7b6-4446-e04a-145a8ddd873a",
        "colab": {
          "base_uri": "https://localhost:8080/"
        }
      },
      "outputs": [
        {
          "output_type": "stream",
          "name": "stdout",
          "text": [
            "s: this is a sample string.\n",
            "\n",
            "s.upper(): THIS IS A SAMPLE STRING.\n",
            "s.lower(): this is a sample string.\n",
            "s.capitalize(): This is a sample string.\n",
            "s.replace(\" \",\"_\"): this_is_a_sample_string.\n",
            "s.count('s'): 4\n",
            "s.title(): This Is A Sample String.\n",
            "s.split(): ['this', 'is', 'a', 'sample', 'string.']\n",
            "s.split('s'): ['thi', ' i', ' a ', 'ample ', 'tring.']\n",
            "s.find('amp'): 11\n",
            "s.index('amp'): 11\n",
            "s[1:12]: his is a sa\n",
            "s[1:12:2]: hsi  a\n",
            "s[::-1]: .gnirts elpmas a si siht\n",
            "s.startswith('this'): True\n",
            "s.endswith('this'): False\n",
            "s.replace('sample','test'): this is a test string.\n",
            "\n",
            "a:    String with spaces       has length: 28\n",
            "a.lstrip(): String with spaces       has length: 24\n",
            "a.rstrip():     String with spaces has length: 22\n",
            "a.strip(): String with spaces has length: 18\n",
            "\n",
            "b: 00543\n",
            "b.lstrip('0'): 543\n",
            "\n",
            "c: SamPlE TeXt\n",
            "c.swapcase(): sAMpLe tExT\n",
            "\n",
            "d: 12345ABCdef\n",
            "d.isalnum(): True\n",
            "\n",
            "e: 56893\n",
            "e.isnumeric(): True\n",
            "\n",
            "f: Learning_Python\n",
            "f.isalpha(): False\n",
            "\n",
            "g: Coding\n",
            "g.isalpha(): True\n",
            "g.islower(): False\n",
            "g.isupper(): False\n",
            "g.istitle(): True\n",
            "g.isspace(): False\n",
            "\n",
            "s: Test-String\n",
            "s.partition('-'): ('Test', '-', 'String')\n"
          ]
        }
      ],
      "source": [
        "s = \"this is a sample string.\"\n",
        "print(\"s:\",s)\n",
        "\n",
        "print(\"\\ns.upper():\",s.upper()) # converts string into upper case\n",
        "print(\"s.lower():\",s.lower()) # converts string into lower case\n",
        "print(\"s.capitalize():\",s.capitalize()) # capitalize the first letter\n",
        "print('s.replace(\" \",\"_\"):',s.replace(\" \",\"_\")) # replaces blank space with underscvore\n",
        "print(\"s.count('s'):\",s.count('s')) # returns the number of occurrences, without overlap\n",
        "print(\"s.title():\",s.title()) # returns the string with first capital letter of each word\n",
        "print(\"s.split():\",s.split()) # splits the string (on blank spaces)\n",
        "print(\"s.split('s'):\",s.split('s')) # splits the string (on character 's')\n",
        "print(\"s.find('amp'):\",s.find('amp')) # returns the starting index position of the first occurence\n",
        "print(\"s.index('amp'):\",s.index('amp')) # returns the index of specified string\n",
        "print(\"s[1:12]:\",s[1:12]) # extracts substring from index position 1 to index position 11\n",
        "print(\"s[1:12:2]:\",s[1:12:2]) # extracts substring from index position 1 to index position 11 while skipping two places\n",
        "print(\"s[::-1]:\",s[::-1]) # reverses the string\n",
        "print(\"s.startswith('this'):\",s.startswith('this')) # checks the start of the string\n",
        "print(\"s.endswith('this'):\",s.endswith('this')) # checks the end of the string\n",
        "print(\"s.replace('sample','test'):\",s.replace('sample','test'))\n",
        "\n",
        "a = \"    String with spaces      \"\n",
        "print(\"\\na:\"+a+\" has length:\",len(a))\n",
        "\n",
        "print(\"a.lstrip(): \"+a.lstrip()+\" has length:\",len(a.lstrip())) # lstrip removes the white spaces from the left side\n",
        "print(\"a.rstrip(): \"+a.rstrip()+\" has length:\",len(a.rstrip())) # rstrip removes the white spaces from the right side\n",
        "print(\"a.strip(): \"+a.strip()+\" has length:\",len(a.strip())) # strip() removes the white spaces from the left and right end\n",
        "\n",
        "b=\"00543\"\n",
        "print(\"\\nb:\",b)\n",
        "print(\"b.lstrip('0'):\",b.lstrip('0'))\n",
        "\n",
        "c='SamPlE TeXt'\n",
        "print('\\nc:',c)\n",
        "print('c.swapcase():',c.swapcase()) # Swaps cases for all the letters of the string\n",
        "\n",
        "d='12345ABCdef'\n",
        "print('\\nd:',d)\n",
        "print('d.isalnum():',d.isalnum()) # Checks whether the string is alphanumeric\n",
        "\n",
        "e='56893'\n",
        "print('\\ne:',e)\n",
        "print('e.isnumeric():',e.isnumeric()) # Checks whether the string is numeric\n",
        "\n",
        "f='Learning_Python'\n",
        "print('\\nf:',f)\n",
        "print('f.isalpha():',f.isalpha()) # Checks whether the string is alphabetic\n",
        "\n",
        "g='Coding'\n",
        "print('\\ng:',g)\n",
        "print('g.isalpha():',g.isalpha()) # Checks whether the string is alphabetic\n",
        "print('g.islower():',g.islower()) # Checks whether the string has lowercase\n",
        "print('g.isupper():',g.isupper()) # Checks whether the string has uppercase\n",
        "print('g.istitle():',g.istitle()) # Checks whether the string has a title cased\n",
        "print('g.isspace():',g.isspace()) # Checks whether all characters in string are whitespace\n",
        "\n",
        "# partition() return a tuple that includes the first occurrence of the separator sandwiched between the first half and the end half\n",
        "s='Test-String'\n",
        "print(\"\\ns:\",s)\n",
        "print(\"s.partition('-'):\",s.partition('-'))"
      ]
    },
    {
      "cell_type": "markdown",
      "metadata": {
        "id": "homwmNnah9Pq"
      },
      "source": [
        "#### String Substitution\n",
        "\n",
        "*    Variables can be printed within a string using format function"
      ]
    },
    {
      "cell_type": "code",
      "execution_count": 28,
      "metadata": {
        "id": "GzeKW--6h9Ps",
        "outputId": "ff9fbcf1-e624-4472-8347-844ba229943b",
        "colab": {
          "base_uri": "https://localhost:8080/"
        }
      },
      "outputs": [
        {
          "output_type": "stream",
          "name": "stdout",
          "text": [
            "I want two colors\n",
            "I want three colors\n",
            "I want 4 colors\n"
          ]
        }
      ],
      "source": [
        "s = \"I want {} colors\".format(\"two\") # {} are used for substituting text\n",
        "print(s)\n",
        "print(\"I want {n} colors\".format(n=\"three\"))\n",
        "\n",
        "n = 4\n",
        "print(f\"I want {n} colors\") # .format() can be also be replaced using f in the starting"
      ]
    },
    {
      "cell_type": "code",
      "source": [
        "color1 = 'blue'\n",
        "color2 = 'pink'\n",
        "number = 2\n",
        "print('\\nMy {} favourite colors are {} and {}'.format(number,color1,color2))\n",
        "print('My {a} favourite colors are {b} and {c}'.format(a=number,b=color1,c=color2))\n",
        "\n",
        "print(\"\\nString substitution is possible using arguments. {0} {1} {2} and so on....\".format(\"Text_1\",\"Text_2\",\"Text_3\"))\n",
        "print(\"My text has string: %s\" %(\"Hello.!\"))\n",
        "print(\"My text has string containing %% sign and %s\" %(\"Hello!!\")) # % sign acts as an escape sequence\n",
        "print(\"My text has number: %d\" %(42.4))\n",
        "print(\"My text has number with 0 decimal places: %.0f\" %(42.4))\n",
        "print(\"My text has number with 4 decimal places: %.4f\" %(42.4))"
      ],
      "metadata": {
        "id": "hJfWORc4s8J5",
        "outputId": "efa916a1-0464-4c79-8b03-0680ba7f6e3b",
        "colab": {
          "base_uri": "https://localhost:8080/"
        }
      },
      "execution_count": 29,
      "outputs": [
        {
          "output_type": "stream",
          "name": "stdout",
          "text": [
            "\n",
            "My 2 favourite colors are blue and pink\n",
            "My 2 favourite colors are blue and pink\n",
            "\n",
            "String substitution is possible using arguments. Text_1 Text_2 Text_3 and so on....\n",
            "My text has string: Hello.!\n",
            "My text has string containing % sign and Hello!!\n",
            "My text has number: 42\n",
            "My text has number with 0 decimal places: 42\n",
            "My text has number with 4 decimal places: 42.4000\n"
          ]
        }
      ]
    },
    {
      "cell_type": "code",
      "source": [
        "pi = 3.1415926\n",
        "e = 2.7182818\n",
        "print('\\nValues are: pi={} and e={}'.format(pi,e))\n",
        "values = [pi,e]\n",
        "print('Values are: pi={values[0]:.2f} and e={values[1]:.3f}'.format(values=values))"
      ],
      "metadata": {
        "id": "uIlTKx9btK6h",
        "outputId": "9ceb320e-6cf2-4db8-a10c-ffb8baeb861f",
        "colab": {
          "base_uri": "https://localhost:8080/"
        }
      },
      "execution_count": 30,
      "outputs": [
        {
          "output_type": "stream",
          "name": "stdout",
          "text": [
            "\n",
            "Values are: pi=3.1415926 and e=2.7182818\n",
            "Values are: pi=3.14 and e=2.718\n"
          ]
        }
      ]
    },
    {
      "cell_type": "markdown",
      "metadata": {
        "id": "5_W_LjI9h9Pt"
      },
      "source": [
        "### Lists\n",
        "*    A List is created using square brackets []\n",
        "*    Lists are mutable"
      ]
    },
    {
      "cell_type": "code",
      "execution_count": 31,
      "metadata": {
        "id": "KVrXYywYh9Pv",
        "outputId": "59ebc5e4-dfde-45ea-dbd5-8929d6f51ce9",
        "colab": {
          "base_uri": "https://localhost:8080/"
        }
      },
      "outputs": [
        {
          "output_type": "execute_result",
          "data": {
            "text/plain": [
              "[]"
            ]
          },
          "metadata": {},
          "execution_count": 31
        }
      ],
      "source": [
        "[] #This is an empty List"
      ]
    },
    {
      "cell_type": "code",
      "execution_count": 32,
      "metadata": {
        "id": "lOD-APJZh9Px",
        "outputId": "ca49c449-41dc-4d5d-b006-07bb636da84e",
        "colab": {
          "base_uri": "https://localhost:8080/"
        }
      },
      "outputs": [
        {
          "output_type": "stream",
          "name": "stdout",
          "text": [
            "a: [12, 'abc', 8.95, 'xyz', [2, 6]]\n",
            "b: [4, 7, 2, 4]\n",
            "c: [12, 'abc', 8.95, 'xyz', [2, 6], 4, 7, 2, 4]\n",
            "\n",
            "Length of c: 9\n",
            "'abc' in a: True\n",
            "35 in b: False\n",
            "12 not in a: False\n",
            "2*b: [4, 7, 2, 4, 4, 7, 2, 4]\n",
            "min(b): 2\n",
            "max(b): 7\n",
            "sum(b): 17\n"
          ]
        }
      ],
      "source": [
        "# A list can have multiple elements of same or different data type\n",
        "\n",
        "a = [12, 'abc', 8.95, \"xyz\",[2,6]]\n",
        "print(\"a:\",a)\n",
        "\n",
        "b = [4,7,2,4]\n",
        "print(\"b:\",b)\n",
        "\n",
        "c = a+b # concatenation\n",
        "print(\"c:\",c)\n",
        "\n",
        "print(\"\\nLength of c:\",len(c))\n",
        "print(\"'abc' in a:\",'abc' in a)\n",
        "print(\"35 in b:\",35 in b)\n",
        "print(\"12 not in a:\",12 not in a)\n",
        "print(\"2*b:\",2*b) # 2 copies of list b\n",
        "print(\"min(b):\",min(b)) # minimum in list (list must not have strings)\n",
        "print(\"max(b):\",max(b)) # maximum in list (list must not have strings)\n",
        "print(\"sum(b):\",sum(b)) # sum of list elements (list must not have strings)"
      ]
    },
    {
      "cell_type": "code",
      "execution_count": 33,
      "metadata": {
        "id": "1nIeZ3gTh9P0",
        "outputId": "78c67afe-8928-4c9a-87ed-1ff21f7fe0d6",
        "colab": {
          "base_uri": "https://localhost:8080/"
        }
      },
      "outputs": [
        {
          "output_type": "stream",
          "name": "stdout",
          "text": [
            "Original List: [1, 2, 3, 4, 5]\n",
            "List after append(): [1, 2, 3, 4, 5, 6]\n",
            "List after extend(): [1, 2, 3, 4, 5, 6, 7, 8, 9]\n",
            "List after pop(): [1, 2, 3, 4, 5, 6, 7, 8]\n",
            "List after insert(): [1, 2, 3, 4, 'Text', 5, 6, 7, 8]\n"
          ]
        }
      ],
      "source": [
        "a = [1,2,3,4,5]\n",
        "print(\"Original List: {}\" .format(a))\n",
        "\n",
        "# Append method is used to add new elements in the pre-exisiting list.\n",
        "a.append(6)\n",
        "print(\"List after append(): {}\" .format(a))\n",
        "\n",
        "# extend method is used to extend the list\n",
        "a.extend([7,8,9])\n",
        "print(\"List after extend(): {}\" .format(a))\n",
        "\n",
        "# Pop method is used to remove the last element from the list.\n",
        "a.pop()\n",
        "print(\"List after pop(): {}\" .format(a))\n",
        "\n",
        "# Insert into position\n",
        "a.insert(4,'Text')\n",
        "print(\"List after insert(): {}\" .format(a))"
      ]
    },
    {
      "cell_type": "code",
      "execution_count": 34,
      "metadata": {
        "id": "I3_hWfDNh9P1",
        "outputId": "db5ba803-727a-4c9a-f97d-b12215003dbb",
        "colab": {
          "base_uri": "https://localhost:8080/"
        }
      },
      "outputs": [
        {
          "output_type": "stream",
          "name": "stdout",
          "text": [
            "a: [1, 2, 3, 4, 5]\n",
            "\n",
            "Length of a (L): 5\n",
            "a[2]: 3\n",
            "a[0]: 1\n",
            "a[L-1]: 5\n",
            "\n",
            "List after setting new value: [1, 2, 6, 4, 5]\n",
            "List after pop(2): [1, 2, 4, 5]\n",
            "Final List after deleting an element: [2, 4, 5]\n"
          ]
        }
      ],
      "source": [
        "# A specific element can be referred from a list. For instance:\n",
        "a = [1,2,3,4,5]\n",
        "print(\"a:\",a)\n",
        "\n",
        "L = (len(a))\n",
        "print(\"\\nLength of a (L): {}\" .format(L))# The length of the list. Indexing starts from zero.\n",
        "print(\"a[2]:\",a[2]) # Third element\n",
        "print(\"a[0]:\",a[0]) # First element\n",
        "print(\"a[L-1]:\",a[L-1]) # Last element\n",
        "\n",
        "# Setting a value in list (mutable)\n",
        "# For example, set a value of 6 at index position 2\n",
        "a[2] = 6 # 3 is changed to 6\n",
        "print(\"\\nList after setting new value: {}\" .format(a))\n",
        "\n",
        "# A specific element can be removed from a list using its index position in the pop function.\n",
        "# For example, remove element 6\n",
        "a.pop(2) # a.pop(index)\n",
        "print(\"List after pop(2): {}\" .format(a))\n",
        "\n",
        "# An element can be deleted from a list using del function by specifying its index position\n",
        "del(a[0])\n",
        "print(\"Final List after deleting an element: {}\" .format(a))"
      ]
    },
    {
      "cell_type": "code",
      "execution_count": 35,
      "metadata": {
        "id": "YlZV1oIPh9P4",
        "outputId": "e7f3dc91-f779-4b9f-ae90-35da2cd17e73",
        "colab": {
          "base_uri": "https://localhost:8080/"
        }
      },
      "outputs": [
        {
          "output_type": "stream",
          "name": "stdout",
          "text": [
            "a: ['Ravi', 'Rahul', 'Rohan']\n",
            "\n",
            "a[2][2]: h\n",
            "a[1][3]: u\n",
            "a[0][2]: v\n",
            "\n",
            "b: [12, 'abc', ['Text', 5.34, 23, True], 'xyz', [2, 6]]\n",
            "\n",
            "b[1]: abc\n",
            "b[2]: ['Text', 5.34, 23, True]\n",
            "b[2][1]: 5.34\n",
            "b[2][0][3]: t\n"
          ]
        }
      ],
      "source": [
        "a = [\"Ravi\",\"Rahul\",\"Rohan\"]\n",
        "print(\"a:\",a)\n",
        "\n",
        "print(\"\\na[2][2]:\",a[2][2]) # Third element, Third character\n",
        "print(\"a[1][3]:\",a[1][3]) # Second element, Fourth character\n",
        "print(\"a[0][2]:\",a[0][2]) # First element, Third character\n",
        "\n",
        "# nesting\n",
        "b = [12, 'abc', [\"Text\",5.34,23,True], \"xyz\",[2,6]]\n",
        "print(\"\\nb:\",b)\n",
        "\n",
        "print(\"\\nb[1]:\",b[1])\n",
        "print(\"b[2]:\",b[2])\n",
        "print(\"b[2][1]:\",b[2][1])\n",
        "print(\"b[2][0][3]:\",b[2][0][3])"
      ]
    },
    {
      "cell_type": "code",
      "execution_count": 36,
      "metadata": {
        "id": "ijBbzgWnh9P6",
        "outputId": "ee3b4a7f-5628-4995-dc39-0436732ade38",
        "colab": {
          "base_uri": "https://localhost:8080/"
        }
      },
      "outputs": [
        {
          "output_type": "stream",
          "name": "stdout",
          "text": [
            "a: [1, 5, 8, 2, 5, 2]\n",
            "Class of a: <class 'list'>\n",
            "After a.reverse(), a: [2, 5, 2, 8, 5, 1]\n"
          ]
        }
      ],
      "source": [
        "a = [1,5,8,2,5,2]\n",
        "print(\"a:\",a)\n",
        "\n",
        "print(\"Class of a:\",type(a))\n",
        "a.reverse() # reverses the list\n",
        "print(\"After a.reverse(), a:\",a)"
      ]
    },
    {
      "cell_type": "code",
      "execution_count": 37,
      "metadata": {
        "id": "9YU_JBKch9P7",
        "outputId": "1eb03299-0a51-4034-ba53-da6b4b86b676",
        "colab": {
          "base_uri": "https://localhost:8080/"
        }
      },
      "outputs": [
        {
          "output_type": "stream",
          "name": "stdout",
          "text": [
            "a: [1, 5, 8, 2, 5, 2]\n",
            "a.count(5): 2\n",
            "a.index(5): 1\n",
            "List after removing 5:  [1, 8, 2, 5, 2]\n",
            "\n",
            "List after sorting:  [1, 2, 2, 5, 8]\n",
            "\n",
            "List after sorting using key argument:\n",
            "  ['a', 'is', 'of', 'for', 'the', 'This', 'words', 'sample', 'string', 'testing', 'multiple', 'purpose.', 'consisting']\n"
          ]
        }
      ],
      "source": [
        "a = [1,5,8,2,5,2]\n",
        "print(\"a:\",a)\n",
        "\n",
        "print(\"a.count(5):\",a.count(5)) # returns the number of occurences of element 5\n",
        "print(\"a.index(5):\",a.index(5)) # returns the first index position of element 5\n",
        "\n",
        "a.remove(5) # removes the first occurence of element 5\n",
        "print(\"List after removing 5: \",a)\n",
        "\n",
        "a.sort() # sorts the list in ascending order\n",
        "print(\"\\nList after sorting: \",a)\n",
        "\n",
        "b = 'This is a sample string consisting of multiple words for the testing purpose.'.split()\n",
        "b.sort(key=len) # key argument to sort() accepts a function for producing a sort key from an item\n",
        "print(\"\\nList after sorting using key argument:\\n \",b)"
      ]
    },
    {
      "cell_type": "code",
      "execution_count": 38,
      "metadata": {
        "id": "3gkkZRXuh9P8",
        "outputId": "7c843e60-92a4-4bf2-c1ac-c834d25a8871",
        "colab": {
          "base_uri": "https://localhost:8080/"
        }
      },
      "outputs": [
        {
          "output_type": "stream",
          "name": "stdout",
          "text": [
            "a: [1, 5, 8, 2, 5, 2]\n",
            "\n",
            "a[3:5]: [2, 5]\n",
            "a[1:]: [5, 8, 2, 5, 2]\n",
            "a[:3]: [1, 5, 8]\n",
            "\n",
            "List A is [1, 5, 8, 2, 5, 2] and List B is [1, 5, 8, 2, 5, 2]\n",
            "After changing a[2]=5,\n",
            "List A is [1, 5, 5, 2, 5, 2] and List B is [1, 5, 5, 2, 5, 2]\n",
            "\n",
            "List A is [1, 5, 5, 2, 5, 2] and List C is [1, 5, 5, 2, 5, 2]\n",
            "After changing a[2]=3,\n",
            "List A is [1, 5, 3, 2, 5, 2] and List C is [1, 5, 5, 2, 5, 2]\n"
          ]
        }
      ],
      "source": [
        "a = [1,5,8,2,5,2]\n",
        "print(\"a:\",a)\n",
        "\n",
        "print(\"\\na[3:5]:\",a[3:5]) # fetches elements from index position 3 to index position 4\n",
        "print(\"a[1:]:\",a[1:]) # fetches elements from index position 1 till end\n",
        "print(\"a[:3]:\",a[:3]) # fetches elements from starting till index position 2\n",
        "\n",
        "b = a # list B is referencing to list A\n",
        "print(\"\\nList A is {x} and List B is {y}\".format(x=a,y=b))\n",
        "\n",
        "a[2] = 5 # change in List A\n",
        "print(\"After changing a[2]=5,\\nList A is {x} and List B is {y}\".format(x=a,y=b)) # notice that list B also changes at the same position since both are referencing to the same list in memory.\n",
        "\n",
        "c = a[:] # List C is created by cloning list A, a new list is created and not referenced\n",
        "print(\"\\nList A is {x} and List C is {z}\".format(x=a,z=c))\n",
        "\n",
        "a[2] = 3\n",
        "print(\"After changing a[2]=3,\\nList A is {x} and List C is {z}\".format(x=a,z=c))\n",
        "# notice that list C doesn't changes because both are the different lists and they are not referencing to the same list in memory."
      ]
    },
    {
      "cell_type": "code",
      "execution_count": 39,
      "metadata": {
        "id": "xzBrsx1oh9P9",
        "outputId": "f052c6e8-a4ef-47e2-8d37-d49fb69ac1e1",
        "colab": {
          "base_uri": "https://localhost:8080/"
        }
      },
      "outputs": [
        {
          "output_type": "stream",
          "name": "stdout",
          "text": [
            "a==b: True\n",
            "a is b: False\n",
            "\n",
            "id(a): 139531882160000\n",
            "id(b): 139531882159232\n"
          ]
        }
      ],
      "source": [
        "a = [1,2,3]\n",
        "b = [1,2,3]\n",
        "\n",
        "print('a==b:',a==b) # Values are equivalent\n",
        "print('a is b:',a is b) # Separate objects\n",
        "\n",
        "print('\\nid(a):',id(a))\n",
        "print('id(b):',id(b))"
      ]
    },
    {
      "cell_type": "markdown",
      "metadata": {
        "id": "megZKiSRh9P-"
      },
      "source": [
        "### Tuples\n",
        "\n",
        "*    Tuples are exactly similar to Lists, but they are immutable\n",
        "*    Tuples are defined inside parenthesis ()\n"
      ]
    },
    {
      "cell_type": "code",
      "execution_count": 40,
      "metadata": {
        "id": "GDfdj66mh9P_",
        "outputId": "18a853c0-1408-4a87-f729-e87a0c87544c",
        "colab": {
          "base_uri": "https://localhost:8080/"
        }
      },
      "outputs": [
        {
          "output_type": "stream",
          "name": "stdout",
          "text": [
            "a: (1, 5, 8, 2, 5, 2)\n",
            "Type:  <class 'tuple'>\n",
            "Sum:  23\n",
            "a.count(5):  2\n",
            "a.index(8):  2\n",
            "\n",
            "b:  [1, 2, 2, 5, 5, 8]\n",
            "Type of b:  <class 'list'>\n",
            "\n",
            "c:  [8, 5, 5, 2, 2, 1]\n",
            "Sum:  23\n",
            "\n",
            "Iterable Series: (1, 5, 8, 2, 5, 2)\n",
            "Reversed List: [2, 5, 2, 8, 5, 1]\n"
          ]
        }
      ],
      "source": [
        "a = (1,5,8,2,5,2)\n",
        "print(\"a:\",a)\n",
        "print(\"Type: \",type(a))\n",
        "print(\"Sum: \",sum(a)) # sum of a tuple containing integers\n",
        "print(\"a.count(5): \",a.count(5)) # returns the number of occurences of element 5\n",
        "print(\"a.index(8): \",a.index(8)) # returns the first index position of element 8\n",
        "\n",
        "# functions like reverse, remove and sort will not work since tuples are not mutable in nature.\n",
        "\n",
        "# sorted function returns a sorted list and can be called on any iterable series (here tuple)\n",
        "b = sorted(a) # sorted in ascending order\n",
        "print(\"\\nb: \",b)\n",
        "print(\"Type of b: \",type(b)) # b is a list\n",
        "\n",
        "c = sorted(a,reverse=True) # sorted in descending order\n",
        "print(\"\\nc: \",c)\n",
        "print(\"Sum: \",sum(c))\n",
        "\n",
        "d = reversed(a) # reverses any iterable series (here tuple), returns an object\n",
        "print('\\nIterable Series: {}'.format(a))\n",
        "print('Reversed List: {}'.format(list(d))) # object converted explicitly into list"
      ]
    },
    {
      "cell_type": "code",
      "execution_count": 41,
      "metadata": {
        "scrolled": true,
        "id": "H2Ra_bYLh9QB",
        "outputId": "100dfd7a-a929-4233-9ced-1a8ac509ea28",
        "colab": {
          "base_uri": "https://localhost:8080/"
        }
      },
      "outputs": [
        {
          "output_type": "stream",
          "name": "stdout",
          "text": [
            "(100,) is a tuple: <class 'tuple'>\n",
            "\n",
            "(1, 2, 3, 4, 5) is a tuple: <class 'tuple'>\n",
            "\n",
            "c: 10 & d: 20\n",
            "After Swapping\n",
            "c: 20 & d: 10\n",
            "\n",
            "e: ('A', 'p', 'p', 'l', 'e')\n"
          ]
        }
      ],
      "source": [
        "a = (100,) # only one element\n",
        "print('{} is a tuple: {}'.format(a,type(a)))\n",
        "\n",
        "b = 1,2,3,4,5 # multiple elements without parenthesis\n",
        "print('\\n{} is a tuple: {}'.format(b,type(b)))\n",
        "\n",
        "# Swapping elements\n",
        "c,d = 10,20\n",
        "print('\\nc: {} & d: {}'.format(c,d))\n",
        "\n",
        "c,d = d,c\n",
        "print('After Swapping\\nc: {} & d: {}'.format(c,d))\n",
        "\n",
        "e = tuple('Apple')\n",
        "print('\\ne: {}'.format(e))"
      ]
    },
    {
      "cell_type": "markdown",
      "metadata": {
        "id": "_79LH-AAh9QC"
      },
      "source": [
        "### String Partition"
      ]
    },
    {
      "cell_type": "code",
      "execution_count": 42,
      "metadata": {
        "id": "dE9BdKXZh9QD",
        "outputId": "deff873d-1bd5-47cd-f247-63bc58793c91",
        "colab": {
          "base_uri": "https://localhost:8080/"
        }
      },
      "outputs": [
        {
          "output_type": "stream",
          "name": "stdout",
          "text": [
            "Name is: Jack Martin\n",
            "\n",
            "Name is: Jack\n",
            "Age is: 24\n"
          ]
        }
      ],
      "source": [
        "# The partition() method divides a string into three around a separator: prefix, separator, suffix\n",
        "# Using tuple unpacking, the result can be destructured.\n",
        "# Underscore(_) can be used as a dummy name in place of the separator\n",
        "\n",
        "a = 'Jack-Martin'\n",
        "first_name, separator, last_name = a.partition('-') # returns a tuple\n",
        "print('Name is: {} {}'.format(first_name,last_name))\n",
        "\n",
        "b = 'Jack|24'\n",
        "name, _, age = b.partition('|') # _ is used for invaluable results\n",
        "print('\\nName is: {}\\nAge is: {}'.format(name,age))"
      ]
    },
    {
      "cell_type": "markdown",
      "metadata": {
        "id": "6hZp-HVeh9QF"
      },
      "source": [
        "### Objects\n",
        "\n"
      ]
    },
    {
      "cell_type": "code",
      "execution_count": 43,
      "metadata": {
        "id": "07Kz7Pw2h9QH",
        "outputId": "74760195-b58f-467b-cb5d-b61dd6a49906",
        "colab": {
          "base_uri": "https://localhost:8080/"
        }
      },
      "outputs": [
        {
          "output_type": "stream",
          "name": "stdout",
          "text": [
            "int(4):  4\n",
            "int(4.5):  4\n",
            "int('78'):  78\n",
            "int(True):  1\n",
            "\n",
            "str('Hey'):  Hey\n",
            "str(53):  53\n",
            "str(46.2):  46.2\n",
            "str(True):  True\n",
            "\n",
            "float(3.6):  3.6\n",
            "float('21.64'):  21.64\n",
            "float(435):  435.0\n",
            "float(True):  1.0\n",
            "\n",
            "bool(1):  True\n",
            "bool(0):  False\n",
            "\n",
            "list([3,6,'fan']):  [3, 6, 'fan']\n",
            "tuple([2,8,'test', False]):  (2, 8, 'test', False)\n",
            "tuple('String123'):  ('S', 't', 'r', 'i', 'n', 'g', '1', '2', '3')\n",
            "\n",
            "Default Values\n",
            "int():  0\n",
            "float():  0.0\n",
            "str():  \n",
            "list():  []\n",
            "bool():  False\n"
          ]
        }
      ],
      "source": [
        "# created explicitly using constructors (int(), str(), list(), float())\n",
        "\n",
        "print(\"int(4): \",int(4))\n",
        "print(\"int(4.5): \",int(4.5)) # type conversion from float to integer\n",
        "print(\"int('78'): \", int('78')) # type conversion from string to integer\n",
        "print(\"int(True): \",int(True)) # type conversion from boolean to integer\n",
        "\n",
        "print(\"\\nstr('Hey'): \",str('Hey'))\n",
        "print(\"str(53): \",str(53)) # type conversion from integer to string\n",
        "print(\"str(46.2): \", str(46.2)) # type conversion from float to string\n",
        "print(\"str(True): \",str(True)) # type conversion from boolean to string\n",
        "\n",
        "print(\"\\nfloat(3.6): \",float(3.6))\n",
        "print(\"float('21.64'): \", float('21.64')) # type conversion from string to float\n",
        "print(\"float(435): \", float(435)) # type conversion from integer to float\n",
        "print(\"float(True): \",float(True)) # type conversion from boolean to float\n",
        "\n",
        "print(\"\\nbool(1): \",bool(1))\n",
        "print(\"bool(0): \", bool(0))\n",
        "\n",
        "print(\"\\nlist([3,6,'fan']): \",list([3,6,'fan']))\n",
        "print(\"tuple([2,8,'test', False]): \",tuple([2,8,'test', False]))\n",
        "print(\"tuple('String123'): \", tuple('String123'))\n",
        "\n",
        "# Default Values\n",
        "print(\"\\nDefault Values\\nint(): \",int()) # 0\n",
        "print(\"float(): \",float()) #0.0\n",
        "print(\"str(): \",str()) # '' (blank string)\n",
        "print(\"list(): \",list()) # [] (blank list)\n",
        "print(\"bool(): \", bool()) # False"
      ]
    },
    {
      "cell_type": "markdown",
      "metadata": {
        "id": "OzbUF4xYh9QK"
      },
      "source": [
        "### Advanced Numbers: Octal, Hexadecimal, Binary, Complex"
      ]
    },
    {
      "cell_type": "code",
      "execution_count": 44,
      "metadata": {
        "id": "Zs1jG-Uhh9QL",
        "outputId": "0942fcc8-54db-46d1-97fe-a371d6b9a52c",
        "colab": {
          "base_uri": "https://localhost:8080/"
        }
      },
      "outputs": [
        {
          "output_type": "stream",
          "name": "stdout",
          "text": [
            "Decimal Value: 50\n",
            "\n",
            "Octal Value: 0o62 , type of o: <class 'str'>\n",
            "\n",
            "Hexadecimal Value: 0x32 , type of h: <class 'str'>\n",
            "\n",
            "Binary Value: 0b110010 , type of b: <class 'str'>\n",
            "\n",
            "Complex Number: (5+6j) , type of x: <class 'complex'>\n",
            "Defining complex number using complex(): (4+3j)\n",
            "\n",
            "Octal to integer: 0o62 is 50\n",
            "\n",
            "Hexadecimal to integer: 0x32 is 50\n",
            "\n",
            "Binary to integer: 0b110010 is 50\n",
            "\n",
            "Float Representation:\n",
            "4e8 is 400000000.0\n",
            "-9.53e18 is -9.53e+18\n",
            "float(nan) is nan\n",
            "float(inf) is inf\n",
            "float(-inf) is -inf\n",
            "\n",
            "String Representation:\n",
            "Unicode: \\u0e21 is ม\n",
            "Octal: \\521 is ő\n",
            "Hex: \\x521 is R1\n"
          ]
        }
      ],
      "source": [
        "# Normal Integer\n",
        "i = 50\n",
        "print(\"Decimal Value:\",i)\n",
        "\n",
        "# converting integer to octal value\n",
        "o = oct(i)\n",
        "print(\"\\nOctal Value:\",o,\", type of o:\",type(o)) # number prefixed by 0o (zero and a lowercase \"o\" or uppercase \"O\") represents an octal number\n",
        "\n",
        "# converting integer to hex value\n",
        "h = hex(i)\n",
        "print(\"\\nHexadecimal Value:\",h,\", type of h:\",type(h)) # number prefixed by 0x (zero and a lowercase \"x\" or uppercase \"X\") represents a hexadecimal number\n",
        "\n",
        "# converting integer to binary value\n",
        "b = bin(i)\n",
        "print(\"\\nBinary Value:\",b,\", type of b:\",type(b)) # number prefixed by 0b (zero and a lowercase \"b\" or uppercase \"B\") represents a binary number\n",
        "\n",
        "# Real & Imaginary Number\n",
        "x = 5+6j\n",
        "print(\"\\nComplex Number:\",x,\", type of x:\",type(x))\n",
        "print(\"Defining complex number using complex():\",complex(4,3))\n",
        "\n",
        "# converting octal to integer value\n",
        "print(\"\\nOctal to integer: 0o62 is {}\".format(0o62))\n",
        "\n",
        "# converting hex to integer value\n",
        "print(\"\\nHexadecimal to integer: 0x32 is {}\".format(0x32))\n",
        "\n",
        "# converting binary to integer value\n",
        "print(\"\\nBinary to integer: 0b110010 is {}\".format(0b110010))\n",
        "\n",
        "# Float numbers representation\n",
        "print('\\nFloat Representation:\\n4e8 is {}'.format(4e8))\n",
        "print('-9.53e18 is {}'.format(-9.53e18))\n",
        "print('float(nan) is',float('nan'))\n",
        "print('float(inf) is',float('inf'))\n",
        "print('float(-inf) is',float('-inf'))\n",
        "\n",
        "# String representation\n",
        "print('\\nString Representation:\\nUnicode: \\\\u0e21 is {}'.format('\\u0e21'))\n",
        "print('Octal: \\\\521 is {}'.format('\\521'))\n",
        "print('Hex: \\\\x521 is {}'.format('\\x521'))"
      ]
    },
    {
      "cell_type": "markdown",
      "metadata": {
        "id": "OuO2J7uBh9QM"
      },
      "source": [
        "### Importing Libraries"
      ]
    },
    {
      "cell_type": "code",
      "execution_count": 45,
      "metadata": {
        "id": "gyV1ElFnh9QN",
        "outputId": "64b8eb60-c748-4ca2-86d4-5b661fb38de8",
        "colab": {
          "base_uri": "https://localhost:8080/"
        }
      },
      "outputs": [
        {
          "output_type": "stream",
          "name": "stdout",
          "text": [
            "m.sqrt(16):  4.0\n",
            "m.pi:  3.141592653589793\n",
            "m.e:  2.718281828459045 \n",
            "\n",
            "Help on built-in function sqrt in module math:\n",
            "\n",
            "sqrt(x, /)\n",
            "    Return the square root of x.\n",
            "\n"
          ]
        }
      ],
      "source": [
        "# math library\n",
        "import math as m\n",
        "# math module is a library of mathematical functions and constants. As keyword is used to define alias.\n",
        "\n",
        "print(\"m.sqrt(16): \",m.sqrt(16)) # square root\n",
        "print(\"m.pi: \",m.pi) # value of pi\n",
        "print(\"m.e: \",m.e,\"\\n\") # value of e\n",
        "\n",
        "# The help function is used to find more information on math library\n",
        "help(m.sqrt)"
      ]
    },
    {
      "cell_type": "markdown",
      "metadata": {
        "id": "CGeWROSth9QO"
      },
      "source": [
        "### Dictionary\n",
        "*    Dictionaries are defined using a Key-Value pair in curly brackets {}.\n",
        "*    A key-value can be an integer, string, etc"
      ]
    },
    {
      "cell_type": "code",
      "execution_count": 46,
      "metadata": {
        "id": "Zeq4h_0Xh9QO",
        "outputId": "e295cc50-9686-406c-fda7-0d13a2a157d9",
        "colab": {
          "base_uri": "https://localhost:8080/"
        }
      },
      "outputs": [
        {
          "output_type": "execute_result",
          "data": {
            "text/plain": [
              "{}"
            ]
          },
          "metadata": {},
          "execution_count": 46
        }
      ],
      "source": [
        "empty_dict={}\n",
        "empty_dict"
      ]
    },
    {
      "cell_type": "code",
      "execution_count": 47,
      "metadata": {
        "id": "JmiR5xfQh9QP",
        "outputId": "56071db9-d803-4338-e1bd-5bc89f8fde13",
        "colab": {
          "base_uri": "https://localhost:8080/"
        }
      },
      "outputs": [
        {
          "output_type": "stream",
          "name": "stdout",
          "text": [
            "a: {0: 'Zero', 1: 'One', 2: 'Two', 3: 'Three', 4: 'Four', 5: 'Five'}\n",
            "b: {4: 'four', 5: 'five', 6: 'six', 7: 'seven', 8: 'eight'}\n",
            "\n",
            "After Updating Dictionary,\n",
            "a: {0: 'Zero', 1: 'One', 2: 'Two', 3: 'Three', 4: 'four', 5: 'five', 6: 'six', 7: 'seven', 8: 'eight'}\n"
          ]
        }
      ],
      "source": [
        "a= {\n",
        "    0:\"Zero\",\n",
        "    1:\"One\",\n",
        "    2:\"Two\",\n",
        "    3:\"Three\",\n",
        "    4:\"Four\",\n",
        "    5:\"Five\"\n",
        "}\n",
        "\n",
        "# 0,1,2, etc are the keys. Zero, One, Two, etc are the values.\n",
        "print(\"a:\",a)\n",
        "\n",
        "b= {\n",
        "    4:\"four\",\n",
        "    5:\"five\",\n",
        "    6:\"six\",\n",
        "    7:\"seven\",\n",
        "    8:\"eight\"\n",
        "}\n",
        "print(\"b:\",b)\n",
        "\n",
        "a.update(b) # a dictionary is updated with keys & values of dictionary b, only unique values are stored\n",
        "print(\"\\nAfter Updating Dictionary,\\na:\",a)"
      ]
    },
    {
      "cell_type": "code",
      "execution_count": 48,
      "metadata": {
        "id": "GYjZsrEbh9QR",
        "outputId": "5cb4f419-a80b-4273-a2f3-f8f5ef7acc93",
        "colab": {
          "base_uri": "https://localhost:8080/"
        }
      },
      "outputs": [
        {
          "output_type": "stream",
          "name": "stdout",
          "text": [
            "Dictionary a: {'Text': 'String', 18: 'Integer', True: 'Boolean', (1, 2, 3): 'Tuple', 3.5: 'Float_duplicate'}\n",
            "\n",
            "Dictionary b: {'Name': 'Jack', 'Age': 34, 'Amount': 76890.56, 'Access': False, 'Address': (22, 'ABC', 'XYZ'), 'Mobile': [12345, 95748, '45225']}\n",
            "\n",
            "b['Name']: Jack\n",
            "a[True]: Boolean\n",
            "\n",
            "a.keys(): dict_keys(['Text', 18, True, (1, 2, 3), 3.5, 'New Key'])\n",
            "b.values(): dict_values(['Jack', 34, 76890.56, False, (22, 'ABC', 'XYZ'), [12345, 95748, '45225'], 'Python'])\n",
            "a.items(): dict_items([('Text', 'String'), (18, 'Integer'), (True, 'Boolean'), ((1, 2, 3), 'Tuple'), (3.5, 'Float_duplicate'), ('New Key', 'New Value')])\n",
            "\n",
            "x:  (('a', 1), ('b', 2), ('c', 3), ('d', 4), ('e', 5)) \n",
            "Tuple converted into dictionary:  {'a': 1, 'b': 2, 'c': 3, 'd': 4, 'e': 5}\n"
          ]
        }
      ],
      "source": [
        "a= {\n",
        "    \"Text\":\"String\",\n",
        "    18:\"Integer\",\n",
        "    True:\"Boolean\",\n",
        "    (1,2,3):\"Tuple\",\n",
        "    3.5:\"Float\",\n",
        "    3.5:\"Float_duplicate\" # 3.5 is the duplicate key, the returned value will be the last defined value\n",
        "}\n",
        "print(\"Dictionary a:\",a) # Printing order of dictionary is not ordered\n",
        "\n",
        "b={\n",
        "    \"Name\":\"Jack\",\n",
        "    \"Age\":34,\n",
        "    \"Amount\":76890.56,\n",
        "    \"Access\":False,\n",
        "    \"Address\":(22,'ABC','XYZ'),\n",
        "    \"Mobile\":[12345,95748,\"45225\"]\n",
        "}\n",
        "print(\"\\nDictionary b:\",b)\n",
        "\n",
        "# Accessing the dictionary elements using keys\n",
        "print(\"\\nb['Name']:\",b['Name'])\n",
        "print(\"a[True]:\",a[True])\n",
        "\n",
        "# Adding new Key-Values pairs in dictionary\n",
        "a[\"New Key\"]=\"New Value\"\n",
        "b[\"Software\"]=\"Python\"\n",
        "\n",
        "print(\"\\na.keys():\",a.keys()) # retrieving the list of keys of Dictionary A\n",
        "print(\"b.values():\",b.values()) # retrieving the list of values of Dictionary B\n",
        "print(\"a.items():\",a.items()) # returns the list of all items (tuples) in dictionary A\n",
        "\n",
        "# Converting a tuple into dictionary\n",
        "x=(('a',1),('b',2),('c',3),('d',4),('e',5))\n",
        "y=dict(x)\n",
        "print(\"\\nx: \",x,\"\\nTuple converted into dictionary: \",y)"
      ]
    },
    {
      "cell_type": "code",
      "execution_count": 49,
      "metadata": {
        "id": "wArBGyekh9QT",
        "outputId": "fd56215d-696f-4dc3-d2f4-6631a8af2439",
        "colab": {
          "base_uri": "https://localhost:8080/"
        }
      },
      "outputs": [
        {
          "output_type": "stream",
          "name": "stdout",
          "text": [
            "{'Access': False,\n",
            " 'Address': (22, 'ABC', 'XYZ'),\n",
            " 'Age': 34,\n",
            " 'Amount': 76890.56,\n",
            " 'Mobile': [12345, 95748, '45225'],\n",
            " 'Name': 'Jack'}\n"
          ]
        }
      ],
      "source": [
        "# Using pprint library (Pretty Printing) for viewing dictionary neatly\n",
        "from pprint import pprint as pp\n",
        "a={\n",
        "    \"Name\":\"Jack\",\n",
        "    \"Age\":34,\n",
        "    \"Amount\":76890.56,\n",
        "    \"Access\":False,\n",
        "    \"Address\":(22,'ABC','XYZ'),\n",
        "    \"Mobile\":[12345,95748,\"45225\"]\n",
        "}\n",
        "pp(a) # Keys are arranged in a sorted manner"
      ]
    },
    {
      "cell_type": "markdown",
      "metadata": {
        "id": "r7wLWB35h9QV"
      },
      "source": [
        "### Sets\n",
        "*    Sets contains unique elements\n",
        "*    They are defined by curly brackets {}"
      ]
    },
    {
      "cell_type": "code",
      "execution_count": 50,
      "metadata": {
        "id": "PNB5_Kckh9QX",
        "outputId": "f095942d-210c-4832-dccd-e56b43664494",
        "colab": {
          "base_uri": "https://localhost:8080/"
        }
      },
      "outputs": [
        {
          "output_type": "stream",
          "name": "stdout",
          "text": [
            "Set s1: {1, 2, 3, 4, 5}\n",
            "Set s2: {1, 2, 3, 4, 5} , only unique elements are contained in the set\n",
            "\n",
            "After adding element in List s1: {1, 2, 3, 4, 5, 6}\n",
            "After removing element in List s1: {1, 2, 3, 4, 5}\n",
            "\n",
            "6 in s1: False\n",
            "\n",
            "s2 (Copy of set s1):  {1, 2, 3, 4, 5}\n",
            "s2:  set()\n",
            "\n",
            "Set a:  {1, 2, 3, 4, 5} \n",
            "Set coverted into list:  [1, 2, 3, 4, 5]\n",
            "\n",
            "List a:  [3, 4, 2, 4, 3, 2, 4, 1, 1, 1, 4, 5, 3, 4, 2, 2, 3] \n",
            "List coverted into set:  {1, 2, 3, 4, 5}\n"
          ]
        }
      ],
      "source": [
        "s1 = {1,2,3,4,5}\n",
        "s2 = {2,5,1,5,3,2,5,3,4,1,2,4,4,5,2,1,1,3} # elements are repeated\n",
        "print(\"Set s1: {}\".format(s1))\n",
        "print(\"Set s2: {} , only unique elements are contained in the set\".format(s2))\n",
        "\n",
        "# Adding an element in set using add()\n",
        "s1.add(6)\n",
        "print(\"\\nAfter adding element in List s1: {}\".format(s1))\n",
        "\n",
        "# Removing an element in set using remove()\n",
        "s1.remove(6)\n",
        "s1.discard(6) # always succeeds without raising KeyError\n",
        "print(\"After removing element in List s1: {}\".format(s1))\n",
        "\n",
        "# Check if element is present in the set\n",
        "print(\"\\n6 in s1:\",6 in s1)\n",
        "\n",
        "# Making a copy of set\n",
        "s2 = s1.copy()\n",
        "print(\"\\ns2 (Copy of set s1): \",s2)\n",
        "\n",
        "# Clearing contents of set s2\n",
        "s2.clear()\n",
        "print(\"s2: \",s2) # Empty Set\n",
        "\n",
        "# Converting a set into list using the list constructor\n",
        "a = {3,4,2,4,3,2,4,1,1,1,4,5,3,4,2,2,3}\n",
        "b = list(a)\n",
        "print(\"\\nSet a: \",a,\"\\nSet coverted into list: \",b)\n",
        "\n",
        "# Converting a list into set using the set constructor\n",
        "a = [3,4,2,4,3,2,4,1,1,1,4,5,3,4,2,2,3]\n",
        "b = set(a)\n",
        "print(\"\\nList a: \",a,\"\\nList coverted into set: \",b)"
      ]
    },
    {
      "cell_type": "code",
      "execution_count": 51,
      "metadata": {
        "id": "M9rkQj92h9Qa",
        "outputId": "74e750a6-6613-4098-9c5f-52317afd7935",
        "colab": {
          "base_uri": "https://localhost:8080/"
        }
      },
      "outputs": [
        {
          "output_type": "stream",
          "name": "stdout",
          "text": [
            "a: {1, 2, 3, 4}\n",
            "b: {3, 4, 5, 6}\n",
            "c: {5, 6}\n",
            "\n",
            "a.union(b): {1, 2, 3, 4, 5, 6}\n",
            "a.intersection(b): {3, 4}\n",
            "a.symmetric_difference(b): {1, 2, 5, 6}\n",
            "a.difference(b): {1, 2}\n",
            "b.difference(a): {5, 6}\n",
            "\n",
            "set(a).issuperset(c): False\n",
            "set(b).issuperset(c): True\n",
            "set(c).issubset(a): False\n",
            "set(c).issubset(b): True\n",
            "set(c).isdisjoint(a): True\n",
            "\n",
            "d: {50, 20, 70, 40, 10, 30}\n",
            "e: {50, 20, 40, 10, 60, 30}\n",
            "After updating, d: {70, 40, 10, 50, 20, 60, 30}\n"
          ]
        }
      ],
      "source": [
        "a={1,2,3,4}\n",
        "b={3,4,5,6}\n",
        "c={5,6}\n",
        "print(\"a:\",a)\n",
        "print(\"b:\",b)\n",
        "print(\"c:\",c)\n",
        "\n",
        "print(\"\\na.union(b):\",a.union(b)) # A union B\n",
        "print(\"a.intersection(b):\",a.intersection(b)) # A intersection B\n",
        "print(\"a.symmetric_difference(b):\",a.symmetric_difference(b)) # ~(A intersection B), all other uncommon elements\n",
        "print(\"a.difference(b):\",a.difference(b)) # A prime\n",
        "print(\"b.difference(a):\",b.difference(a)) # B prime\n",
        "\n",
        "print(\"\\nset(a).issuperset(c):\",set(a).issuperset(c))\n",
        "print(\"set(b).issuperset(c):\",set(b).issuperset(c))\n",
        "print(\"set(c).issubset(a):\",set(c).issubset(a))\n",
        "print(\"set(c).issubset(b):\",set(c).issubset(b))\n",
        "print(\"set(c).isdisjoint(a):\",set(c).isdisjoint(a))\n",
        "\n",
        "d={10,20,30,40,20,10,20,30,50,70}\n",
        "e={10,20,30,40,20,10,20,30,50,60}\n",
        "\n",
        "print(\"\\nd:\",d)\n",
        "print(\"e:\",e)\n",
        "d.update(e) # Update a set with the union of itself and others\n",
        "print(\"After updating, d:\",d)"
      ]
    },
    {
      "cell_type": "markdown",
      "metadata": {
        "id": "sTRtl_e4h9Qc"
      },
      "source": [
        "### Frozensets\n",
        "*    Frozen sets are a native data type in Python that have the qualities of sets,\n",
        "*    They are immutable like tuples.\n",
        "*    The primary reason to use them is to write more clear, functional code.\n",
        "*    By defining a variable as a frozen set, we’re telling future readers: do not modify this!"
      ]
    },
    {
      "cell_type": "code",
      "execution_count": 52,
      "metadata": {
        "id": "XoyE8dgLh9Qi",
        "outputId": "385ecd8b-3875-4a78-fdb4-7aa2c149d806",
        "colab": {
          "base_uri": "https://localhost:8080/"
        }
      },
      "outputs": [
        {
          "output_type": "stream",
          "name": "stdout",
          "text": [
            "frozenset({1, 2, 3, 4})\n",
            "frozenset({'e', 'H', 'o', 'l'})\n"
          ]
        }
      ],
      "source": [
        "myList = [1,1,2,3,4]\n",
        "frozenList = frozenset(myList)\n",
        "print(frozenList) # frozenset({1, 2, 3, 4})\n",
        "\n",
        "myString = \"Hello\"\n",
        "frozenString = frozenset(myString)\n",
        "print(frozenString) # frozenset({'e', 'l', 'H', 'o'})"
      ]
    },
    {
      "cell_type": "markdown",
      "metadata": {
        "id": "OMiBErpbh9Qj"
      },
      "source": [
        "### User_Defined Input"
      ]
    },
    {
      "cell_type": "code",
      "execution_count": 53,
      "metadata": {
        "id": "a_u7BgXdh9Qk",
        "outputId": "3ae4ad7e-5028-415d-efad-fc6d34047365",
        "colab": {
          "base_uri": "https://localhost:8080/"
        }
      },
      "outputs": [
        {
          "output_type": "stream",
          "name": "stdout",
          "text": [
            "Enter number: 56\n",
            "User entered: 56. It is a string\n",
            "<class 'str'>\n",
            "\n",
            "After conversion, 56 is a integer\n",
            "<class 'int'> \n",
            "\n"
          ]
        }
      ],
      "source": [
        "a = input(\"Enter number: \") # input function is used for inputting through keyboard\n",
        "print(\"User entered: {}. It is a string\".format(a))\n",
        "print(type(a)) # result is of string data type\n",
        "\n",
        "# In order to convert string into number, we can use object constructor int()\n",
        "b = int(a)\n",
        "print(\"\\nAfter conversion, {} is a integer\".format(b))\n",
        "print(type(b),'\\n')"
      ]
    },
    {
      "cell_type": "markdown",
      "metadata": {
        "id": "ZfQFduqvh9Qn"
      },
      "source": [
        "### Conditional statements if-else, elif statements"
      ]
    },
    {
      "cell_type": "code",
      "execution_count": 54,
      "metadata": {
        "id": "t84GzlL-h9Qn",
        "outputId": "f54eda01-c5cb-4918-8e0f-e769f41bc015",
        "colab": {
          "base_uri": "https://localhost:8080/"
        }
      },
      "outputs": [
        {
          "output_type": "stream",
          "name": "stdout",
          "text": [
            "Enter Marks: 82\n",
            "Marks scored: 82\n",
            "Grade A\n"
          ]
        }
      ],
      "source": [
        "# Indentation is critical in order to avoid error\n",
        "\n",
        "marks = int(input(\"Enter Marks: \")) # input() is enclosed inside int() which converts string into integer\n",
        "print(\"Marks scored: {}\".format(marks))\n",
        "\n",
        "if marks>=75: # if statement\n",
        "    print(\"Grade A\" )\n",
        "\n",
        "elif marks>=60 and marks<75: # else if statement\n",
        "    print(\"Grade B\")\n",
        "\n",
        "else: # else statement\n",
        "    print(\"Grade C\")"
      ]
    },
    {
      "cell_type": "markdown",
      "metadata": {
        "id": "99P2enLJh9Qo"
      },
      "source": [
        "### Range()"
      ]
    },
    {
      "cell_type": "code",
      "execution_count": 55,
      "metadata": {
        "id": "1GTGPISCh9Qp",
        "outputId": "b8c4263f-5691-4c1b-bbbe-ec84a8e56548",
        "colab": {
          "base_uri": "https://localhost:8080/"
        }
      },
      "outputs": [
        {
          "output_type": "stream",
          "name": "stdout",
          "text": [
            "range(0, 5) [0, 1, 2, 3, 4]\n",
            "range(4, 8) [4, 5, 6, 7]\n",
            "range(1, 10, 2) [1, 3, 5, 7, 9]\n"
          ]
        }
      ],
      "source": [
        "# range(n) generates a sequence from 0 to n-1\n",
        "# list(range(n)) is used to represent the range in form of a list\n",
        "\n",
        "print(range(5), list(range(5)))\n",
        "print(range(4,8), list(range(4,8)))\n",
        "print(range(1,10,2), list(range(1,10,2)))"
      ]
    },
    {
      "cell_type": "markdown",
      "metadata": {
        "id": "ggax6iNch9Qr"
      },
      "source": [
        "### For Loop"
      ]
    },
    {
      "cell_type": "code",
      "execution_count": 56,
      "metadata": {
        "id": "C-YhEFnnh9Qs",
        "outputId": "df9c4e88-3d49-41cc-808b-cbfdb92c627c",
        "colab": {
          "base_uri": "https://localhost:8080/"
        }
      },
      "outputs": [
        {
          "output_type": "stream",
          "name": "stdout",
          "text": [
            "5\n",
            "2\n",
            "6\n",
            "2\n",
            "5\n",
            "1\n",
            "5\n"
          ]
        }
      ],
      "source": [
        "a = [5,2,6,2,5,1,5]\n",
        "\n",
        "for i in a: # iterates over each element in list\n",
        "    print(i)"
      ]
    },
    {
      "cell_type": "code",
      "source": [
        "a = [5,2,6,2,5,1,5]\n",
        "\n",
        "for i in range(len(a)): # iterates over each index in list\n",
        "    print(\"Element {}: {}\".format(i,a[i]))"
      ],
      "metadata": {
        "id": "3tRoPNTH3fkl",
        "outputId": "1936851b-b28a-43f3-ed06-70be646667de",
        "colab": {
          "base_uri": "https://localhost:8080/"
        }
      },
      "execution_count": 57,
      "outputs": [
        {
          "output_type": "stream",
          "name": "stdout",
          "text": [
            "Element 0: 5\n",
            "Element 1: 2\n",
            "Element 2: 6\n",
            "Element 3: 2\n",
            "Element 4: 5\n",
            "Element 5: 1\n",
            "Element 6: 5\n"
          ]
        }
      ]
    },
    {
      "cell_type": "code",
      "source": [
        "a = [5,2,6,2,5,1,5]\n",
        "print(\"Using enumerate,\")\n",
        "\n",
        "for i,k in enumerate(a,start=1): # enumerate() yields (index,value) tuples\n",
        "    print(\"Element {}: {}\".format(i,k))\n",
        "\n",
        "list(enumerate(a,start=1)) # enumerate function can also be used directly on the list"
      ],
      "metadata": {
        "id": "QYoN0MOI3mTj",
        "outputId": "87357c5f-a727-4b50-c626-360029c6d5d7",
        "colab": {
          "base_uri": "https://localhost:8080/"
        }
      },
      "execution_count": 58,
      "outputs": [
        {
          "output_type": "stream",
          "name": "stdout",
          "text": [
            "Using enumerate,\n",
            "Element 1: 5\n",
            "Element 2: 2\n",
            "Element 3: 6\n",
            "Element 4: 2\n",
            "Element 5: 5\n",
            "Element 6: 1\n",
            "Element 7: 5\n"
          ]
        },
        {
          "output_type": "execute_result",
          "data": {
            "text/plain": [
              "[(1, 5), (2, 2), (3, 6), (4, 2), (5, 5), (6, 1), (7, 5)]"
            ]
          },
          "metadata": {},
          "execution_count": 58
        }
      ]
    },
    {
      "cell_type": "code",
      "execution_count": 59,
      "metadata": {
        "id": "nGRgCNSEh9Qt",
        "outputId": "4394aad4-24e0-44e1-bacc-ca2cb6c5693d",
        "colab": {
          "base_uri": "https://localhost:8080/"
        }
      },
      "outputs": [
        {
          "output_type": "stream",
          "name": "stdout",
          "text": [
            "a:  [10, 20, 30, 40, 50]\n",
            "b:  [100, 200, 300, 400, 500]\n",
            "b:  [100, 200, 300, 400, 500]\n"
          ]
        }
      ],
      "source": [
        "# List Comprehension using for loop\n",
        "\n",
        "# Method_1\n",
        "a = [10,20,30,40,50]\n",
        "print(\"a: \",a)\n",
        "\n",
        "b = []\n",
        "\n",
        "for i in a:\n",
        "    b.append((i*10))\n",
        "print(\"b: \",b)\n",
        "\n",
        "# Method_2 - List Comprehension\n",
        "a = [10,20,30,40,50]\n",
        "b = [i*10 for i in a]\n",
        "print(\"b: \",b)"
      ]
    },
    {
      "cell_type": "code",
      "execution_count": 60,
      "metadata": {
        "id": "Yi5z-M84h9Qv",
        "outputId": "f3dea188-6459-4ea8-bdd8-f7ccfd10d131",
        "colab": {
          "base_uri": "https://localhost:8080/"
        }
      },
      "outputs": [
        {
          "output_type": "execute_result",
          "data": {
            "text/plain": [
              "[1, 4, 27, 16, 125, 36, 343, 64, 729]"
            ]
          },
          "metadata": {},
          "execution_count": 60
        }
      ],
      "source": [
        "# Example: number squared for even and cubed for odd\n",
        "\n",
        "x = [1,2,3,4,5,6,7,8,9]\n",
        "[y**2 if y%2==0 else y**3 for y in x]"
      ]
    },
    {
      "cell_type": "code",
      "execution_count": 61,
      "metadata": {
        "id": "9FOsTujMh9Qw",
        "outputId": "020d33aa-e71c-4841-e8fe-d5eec07681c9",
        "colab": {
          "base_uri": "https://localhost:8080/"
        }
      },
      "outputs": [
        {
          "output_type": "execute_result",
          "data": {
            "text/plain": [
              "{10: 100, 20: 400, 30: 900, 40: 1600, 50: 2500}"
            ]
          },
          "metadata": {},
          "execution_count": 61
        }
      ],
      "source": [
        "# Dictionary Comprehension\n",
        "\n",
        "a = [10,20,30,40,50]\n",
        "{x:x**2 for x in a}"
      ]
    },
    {
      "cell_type": "markdown",
      "metadata": {
        "id": "0b4ndymph9Qy"
      },
      "source": [
        "### While loop"
      ]
    },
    {
      "cell_type": "code",
      "execution_count": 62,
      "metadata": {
        "id": "SnxGabp7h9Qz",
        "outputId": "58ca7f10-aef3-4bca-80e9-74645baaaf2c",
        "colab": {
          "base_uri": "https://localhost:8080/"
        }
      },
      "outputs": [
        {
          "output_type": "stream",
          "name": "stdout",
          "text": [
            "Element 0: 5\n",
            "Element 1: 2\n",
            "Element 2: 6\n",
            "Element 3: 2\n",
            "Element 4: 5\n",
            "Element 5: 1\n",
            "Element 6: 5\n"
          ]
        }
      ],
      "source": [
        "a = [5,2,6,2,5,1,5]\n",
        "i=0\n",
        "while i<len(a):\n",
        "    print(\"Element {}: {}\".format(i,a[i]))\n",
        "    i=i+1"
      ]
    },
    {
      "cell_type": "code",
      "execution_count": 63,
      "metadata": {
        "id": "5BURfRm9h9Q0",
        "outputId": "e61cf2f7-d611-4141-c540-7b12324d8c88",
        "colab": {
          "base_uri": "https://localhost:8080/"
        }
      },
      "outputs": [
        {
          "output_type": "stream",
          "name": "stdout",
          "text": [
            "Original list: ['String', 84.1, 'text', 45.32, 23, 'Number', 24, 36.4, 'Some text', 31]\n",
            "\n",
            "After Data cleaning,\n",
            "List with numbers: [84.1, 45.32, 23, 24, 36.4, 31]\n",
            "List with strings: ['String', 'text', 'Number', 'Some text']\n"
          ]
        }
      ],
      "source": [
        "# List Comprehension using while loop\n",
        "# Data cleaning program (list containing numbers and string are filtered)\n",
        "\n",
        "i=0\n",
        "x = [\"String\",84.1, \"text\", 45.32,23,\"Number\",24,36.4,\"Some text\", 31]\n",
        "y = []\n",
        "l = len(x)\n",
        "print(\"Original list: {}\".format(x))\n",
        "\n",
        "while i < l:\n",
        "    if isinstance(x[i],int) or isinstance(x[i],float):\n",
        "        y.append(x[i])\n",
        "        x.pop(i)\n",
        "        l-=1\n",
        "        i-=1\n",
        "    i=i+1\n",
        "\n",
        "print(\"\\nAfter Data cleaning,\\nList with numbers: {}\".format(y))\n",
        "print(\"List with strings: {}\".format(x))"
      ]
    },
    {
      "cell_type": "markdown",
      "metadata": {
        "id": "k2rdijh5h9Q3"
      },
      "source": [
        "### Break and continue statements"
      ]
    },
    {
      "cell_type": "code",
      "execution_count": 64,
      "metadata": {
        "id": "AeG_X1P6h9Q4",
        "outputId": "8478a379-5dee-4e5a-fb80-c0909f20a63d",
        "colab": {
          "base_uri": "https://localhost:8080/"
        }
      },
      "outputs": [
        {
          "output_type": "stream",
          "name": "stdout",
          "text": [
            "0\n",
            "1\n",
            "2\n",
            "3\n",
            "5\n",
            "6\n",
            "7\n"
          ]
        }
      ],
      "source": [
        "for i in range(10):\n",
        "    if (i==4):\n",
        "        continue # element 4 is skipped\n",
        "    if(i==8):\n",
        "        break # loop stops as it reaches 8\n",
        "    print(i)"
      ]
    },
    {
      "cell_type": "markdown",
      "metadata": {
        "id": "sx702h9Ah9Q6"
      },
      "source": [
        "### User_Defined Functions"
      ]
    },
    {
      "cell_type": "code",
      "execution_count": 65,
      "metadata": {
        "id": "j1naHoNnh9Q7",
        "outputId": "4dc77558-27b2-4164-ea72-23570984f614",
        "colab": {
          "base_uri": "https://localhost:8080/"
        }
      },
      "outputs": [
        {
          "output_type": "stream",
          "name": "stdout",
          "text": [
            "Original list: ['String', 84.1, 'text', 45.32, 23, 'Number', 24, 36.4, 'Some text', 31] \n",
            "\n",
            "Help on function data_clean in module __main__:\n",
            "\n",
            "data_clean(x)\n",
            "    List containing numbers and string are filtered\n",
            "\n",
            "Returning function data_clean: [84.1, 45.32, 23, 24, 36.4, 31] ['String', 'text', 'Number', 'Some text'] \n",
            "\n",
            "Help on function sum_list in module __main__:\n",
            "\n",
            "sum_list(x)\n",
            "    Sum of list elements\n",
            "\n",
            "Returning function sum_list: 243.82 \n",
            "\n"
          ]
        }
      ],
      "source": [
        "# Functions are defined for code-reusability\n",
        "# Compiling the above code in function\n",
        "\n",
        "a = [\"String\",84.1, \"text\", 45.32,23,\"Number\",24,36.4,\"Some text\", 31] # Global variable\n",
        "print(\"Original list: {}\".format(a),\"\\n\")\n",
        "\n",
        "def data_clean(x): # function declaration\n",
        "    '''\n",
        "    List containing numbers and string are filtered\n",
        "    '''\n",
        "    i = 0\n",
        "    y = [] # Local variable\n",
        "    l = len(x)\n",
        "\n",
        "    while i < l:\n",
        "        if isinstance(x[i],int) or isinstance(x[i],float):\n",
        "            y.append(x[i])\n",
        "            x.pop(i)\n",
        "            l-=1\n",
        "            i-=1\n",
        "        i=i+1\n",
        "    return y,x # return statement returns the value\n",
        "\n",
        "def sum_list(x):\n",
        "    '''\n",
        "    Sum of list elements\n",
        "    '''\n",
        "    sum=0\n",
        "    for i in x:\n",
        "        if isinstance(i,int) or isinstance(i, float):\n",
        "            sum=sum+i\n",
        "        else: pass # pass statement means do nothing\n",
        "    return sum\n",
        "\n",
        "# function calling\n",
        "d = sum_list(a)\n",
        "b,c = data_clean(a)\n",
        "\n",
        "# On calling the help(), we can see the documentation of the function.\n",
        "help(data_clean)\n",
        "print(\"Returning function data_clean:\",b,c,\"\\n\")\n",
        "\n",
        "help(sum_list)\n",
        "print(\"Returning function sum_list:\",d,\"\\n\")"
      ]
    },
    {
      "cell_type": "code",
      "execution_count": 66,
      "metadata": {
        "id": "Ijp0sNVXh9Q9",
        "outputId": "122a5418-f2d2-4f81-823f-599dc4a691a9",
        "colab": {
          "base_uri": "https://localhost:8080/"
        }
      },
      "outputs": [
        {
          "output_type": "stream",
          "name": "stdout",
          "text": [
            "Calling function when only one parameter is defined:  8\n",
            "Calling function when both parameters are defined:  12\n"
          ]
        }
      ],
      "source": [
        "def add(a,b=5):\n",
        "    sum=a+b\n",
        "    return sum\n",
        "\n",
        "print(\"Calling function when only one parameter is defined: \",add(3)) # default value for b is taken\n",
        "print(\"Calling function when both parameters are defined: \",add(4,8)) # default value is replaced"
      ]
    },
    {
      "cell_type": "markdown",
      "metadata": {
        "id": "26dQwO__h9Q-"
      },
      "source": [
        "### Objects and Classes"
      ]
    },
    {
      "cell_type": "code",
      "execution_count": 67,
      "metadata": {
        "id": "PMmH8Thqh9Q-",
        "outputId": "aab0842f-5a2c-43a9-f80f-19bf9deffa16",
        "colab": {
          "base_uri": "https://localhost:8080/"
        }
      },
      "outputs": [
        {
          "output_type": "execute_result",
          "data": {
            "text/plain": [
              "['__add__',\n",
              " '__class__',\n",
              " '__class_getitem__',\n",
              " '__contains__',\n",
              " '__delattr__',\n",
              " '__delitem__',\n",
              " '__dir__',\n",
              " '__doc__',\n",
              " '__eq__',\n",
              " '__format__',\n",
              " '__ge__',\n",
              " '__getattribute__',\n",
              " '__getitem__',\n",
              " '__gt__',\n",
              " '__hash__',\n",
              " '__iadd__',\n",
              " '__imul__',\n",
              " '__init__',\n",
              " '__init_subclass__',\n",
              " '__iter__',\n",
              " '__le__',\n",
              " '__len__',\n",
              " '__lt__',\n",
              " '__mul__',\n",
              " '__ne__',\n",
              " '__new__',\n",
              " '__reduce__',\n",
              " '__reduce_ex__',\n",
              " '__repr__',\n",
              " '__reversed__',\n",
              " '__rmul__',\n",
              " '__setattr__',\n",
              " '__setitem__',\n",
              " '__sizeof__',\n",
              " '__str__',\n",
              " '__subclasshook__',\n",
              " 'append',\n",
              " 'clear',\n",
              " 'copy',\n",
              " 'count',\n",
              " 'extend',\n",
              " 'index',\n",
              " 'insert',\n",
              " 'pop',\n",
              " 'remove',\n",
              " 'reverse',\n",
              " 'sort']"
            ]
          },
          "metadata": {},
          "execution_count": 67
        }
      ],
      "source": [
        "a = [1,2,3,4,5]\n",
        "dir(a) # returns the list of all Python's objects classes"
      ]
    },
    {
      "cell_type": "markdown",
      "metadata": {
        "id": "2j-jXIRsh9Q_"
      },
      "source": [
        "#### Inheritance"
      ]
    },
    {
      "cell_type": "code",
      "execution_count": 68,
      "metadata": {
        "id": "JjNKJDnuh9RA",
        "outputId": "e22fd67d-6d3e-40b3-ab86-844c94103f00",
        "colab": {
          "base_uri": "https://localhost:8080/"
        }
      },
      "outputs": [
        {
          "output_type": "stream",
          "name": "stdout",
          "text": [
            "Jon.gender: male\n",
            "Jon.eyes: 2\n",
            "Jon.nose: 1\n",
            "Jon.get_legs(): 2\n",
            "Jon.get_legs: <bound method Human.get_legs of <__main__.man object at 0x7ee74c283610>>\n",
            "Jon.get_ears: 2\n",
            "\n",
            "Jeny.gender: female\n",
            "Jeny.hands: 2\n"
          ]
        }
      ],
      "source": [
        "class Human(): # defining class Human\n",
        "    # attributes\n",
        "    legs=2\n",
        "    ears=2\n",
        "    hands=2\n",
        "    eyes=2\n",
        "\n",
        "    # function (callable)\n",
        "    def get_legs(self): # self method is used to refer to the parameters of the instance of a class\n",
        "        return self.legs\n",
        "    @property\n",
        "    def get_ears(self): # property (not a function, hence not callable)\n",
        "        return self.ears\n",
        "\n",
        "class man(Human): # defining class man, Human is inherited by defining inside parenthesis\n",
        "    gender='male'\n",
        "\n",
        "class woman(Human): # defining class woman, Human is the parent class\n",
        "    gender='female'\n",
        "\n",
        "Jon = man() # object created\n",
        "print(\"Jon.gender:\",Jon.gender)\n",
        "print(\"Jon.eyes:\",Jon.eyes)\n",
        "Jon.nose=1\n",
        "print(\"Jon.nose:\",Jon.nose)\n",
        "print(\"Jon.get_legs():\",Jon.get_legs()) # parenthesis is required when we are calling the function\n",
        "print(\"Jon.get_legs:\",Jon.get_legs) # parenthesis is omitted, bound method message appears depicting the function\n",
        "print(\"Jon.get_ears:\",Jon.get_ears) # although parenthesis is omitted, bound method message would not appear as '@property' is defined above the method which makes it a property\n",
        "\n",
        "Jeny = woman()\n",
        "print(\"\\nJeny.gender:\",Jeny.gender)\n",
        "print(\"Jeny.hands:\",Jeny.hands)"
      ]
    },
    {
      "cell_type": "markdown",
      "metadata": {
        "id": "BVdYttuEh9RC"
      },
      "source": [
        "#### Special methods\n",
        "*   __ __init__ __\n",
        "*   __ __str__ __\n",
        "*   __ __name__ __"
      ]
    },
    {
      "cell_type": "code",
      "execution_count": 69,
      "metadata": {
        "id": "RfVFieclh9RQ",
        "outputId": "4e46d827-16ad-4d9b-83b9-04f2b330910e",
        "colab": {
          "base_uri": "https://localhost:8080/"
        }
      },
      "outputs": [
        {
          "output_type": "stream",
          "name": "stdout",
          "text": [
            "Name is:  James\n",
            "Age is:  24\n",
            "City is:  Dubai\n",
            "\n",
            "b.name: Jack\n",
            "c.city: Delhi\n",
            "d: | Jim | 21 | California |\n",
            "\n",
            "__main__\n"
          ]
        }
      ],
      "source": [
        "class Student():\n",
        "    def __init__(self,name, age, city): # __init__ is a special method used to create an instance\n",
        "        # Data Attributes for initializing objects\n",
        "        self.name=name;\n",
        "        self.age=age;\n",
        "        self.city=city;\n",
        "    def details(self):\n",
        "        print(\"Name is: \", self.name)\n",
        "        print(\"Age is: \",  self.age)\n",
        "        print(\"City is: \",self.city)\n",
        "    def __str__(self): # __str__ is a special method used to return a string representation of an object\n",
        "        return \"| %s | %s | %s |\" %(self.name,self.age,self.city)\n",
        "\n",
        "a=Student(\"James\",24,\"Dubai\")\n",
        "b=Student(\"Jack\",23,\"New York\")\n",
        "c=Student(\"Julia\",24,\"Delhi\")\n",
        "d=Student(\"Jim\",21,\"California\")\n",
        "\n",
        "a.details()\n",
        "print(\"\\nb.name:\",b.name)\n",
        "print(\"c.city:\",c.city)\n",
        "print(\"d:\",d)\n",
        "\n",
        "# Special method __name__\n",
        "print()\n",
        "print(__name__) # Evaluates to '__main__' or the actual module name, depending on how the enclosing module is being used"
      ]
    },
    {
      "cell_type": "markdown",
      "metadata": {
        "id": "MTG6bRm4h9RS"
      },
      "source": [
        "\n",
        "#### Public vs Private methods"
      ]
    },
    {
      "cell_type": "code",
      "execution_count": 70,
      "metadata": {
        "id": "DX9g8Aenh9RT",
        "outputId": "0d0a6154-1d97-464b-fcab-c89829748c41",
        "colab": {
          "base_uri": "https://localhost:8080/"
        }
      },
      "outputs": [
        {
          "output_type": "stream",
          "name": "stdout",
          "text": [
            "Use Tab button to see public method!\n",
            "Private method is not visible while using the Tab button!\n",
            "\n",
            "Use Tab button to see public method!\n",
            "Use Tab button to see public method!\n",
            "Private method is not visible while using the Tab button!\n"
          ]
        }
      ],
      "source": [
        "# Use an underscore _ before the method name to keep it non-public.\n",
        "\n",
        "class M(object):\n",
        "\n",
        "    def abc(self): # abc is a public function\n",
        "        print('Use Tab button to see public method!')\n",
        "\n",
        "    def _xyz(self): # xyz is a private function\n",
        "        print(\"Private method is not visible while using the Tab button!\")\n",
        "\n",
        "m = M()\n",
        "m.abc()\n",
        "m._xyz()\n",
        "\n",
        "print()\n",
        "\n",
        "class N(M):\n",
        "\n",
        "    def pqr(self): # pqr is a public function\n",
        "        print('Use Tab button to see public method!')\n",
        "\n",
        "n=N()\n",
        "n.abc()\n",
        "n.pqr()\n",
        "n._xyz()"
      ]
    },
    {
      "cell_type": "code",
      "execution_count": 71,
      "metadata": {
        "id": "yS2yPqLOh9RY",
        "outputId": "c137a2b4-2746-4486-e965-c56e17ae5c1f",
        "colab": {
          "base_uri": "https://localhost:8080/"
        }
      },
      "outputs": [
        {
          "output_type": "execute_result",
          "data": {
            "text/plain": [
              "['__class__',\n",
              " '__delattr__',\n",
              " '__dict__',\n",
              " '__dir__',\n",
              " '__doc__',\n",
              " '__eq__',\n",
              " '__format__',\n",
              " '__ge__',\n",
              " '__getattribute__',\n",
              " '__gt__',\n",
              " '__hash__',\n",
              " '__init__',\n",
              " '__init_subclass__',\n",
              " '__le__',\n",
              " '__lt__',\n",
              " '__module__',\n",
              " '__ne__',\n",
              " '__new__',\n",
              " '__reduce__',\n",
              " '__reduce_ex__',\n",
              " '__repr__',\n",
              " '__setattr__',\n",
              " '__sizeof__',\n",
              " '__str__',\n",
              " '__subclasshook__',\n",
              " '__weakref__',\n",
              " '_xyz',\n",
              " 'abc']"
            ]
          },
          "metadata": {},
          "execution_count": 71
        }
      ],
      "source": [
        "dir(M)"
      ]
    },
    {
      "cell_type": "markdown",
      "metadata": {
        "id": "5hejaaIvh9Rf"
      },
      "source": [
        "### Lambda Statement"
      ]
    },
    {
      "cell_type": "code",
      "execution_count": 72,
      "metadata": {
        "id": "v69zxGlEh9Rg",
        "outputId": "7c31571c-d3f6-474b-919e-e494d256514b",
        "colab": {
          "base_uri": "https://localhost:8080/"
        }
      },
      "outputs": [
        {
          "output_type": "stream",
          "name": "stdout",
          "text": [
            "a:  [1, 2, 3, 4, 5]\n",
            "Result using function: 61.0\n",
            "Result using lambda expression: 61.0\n",
            "\n",
            "String: This is a sample text\n",
            "After split(): ['This', 'is', 'a', 'sample', 'text']\n",
            "Joining list by ' ' using join(): This is a sample text\n",
            "Joining list by ' | ' using join(): This | is | a | sample | text\n",
            "Joining list by ' ' using lambda expression: This is a sample text\n",
            "\n",
            "Calculating Sum using lambda function: 7\n"
          ]
        }
      ],
      "source": [
        "# Lambda functions are defined when the functions are used very less\n",
        "\n",
        "# Example 1\n",
        "a = [1,2,3,4,5]\n",
        "print(\"a: \",a)\n",
        "\n",
        "def expr(x): # some function for calculation\n",
        "    return ((x**x+x)/x)-x # some expression\n",
        "print(\"Result using function:\",expr(4))\n",
        "\n",
        "# the above function can be illustrated using lambda function\n",
        "a = lambda x:((x**x+x)/x)-x\n",
        "print(\"Result using lambda expression:\",a(4))\n",
        "\n",
        "# Example 2\n",
        "b = \"This is a sample text\"\n",
        "c = b.split()\n",
        "print(\"\\nString:\",b)\n",
        "print(\"After split():\",c)\n",
        "\n",
        "d = ' ' # empty string with space\n",
        "print(\"Joining list by '%s' using join():\" %(d),d.join(c)) # join() is used to join a list of strings using the string d in between its elements (works opposite to the split())\n",
        "\n",
        "e = ' | '\n",
        "print(\"Joining list by '%s' using join():\" %(e),e.join(c))\n",
        "\n",
        "# using lambda\n",
        "x = lambda a:' '.join(a)\n",
        "print(\"Joining list by ' ' using lambda expression:\",x(c))\n",
        "\n",
        "# Example 3\n",
        "s = lambda x,y:x+y\n",
        "print('\\nCalculating Sum using lambda function:',s(3,4))"
      ]
    },
    {
      "cell_type": "markdown",
      "metadata": {
        "id": "9OK4lFW5h9Rj"
      },
      "source": [
        "### pow()\n",
        "*   The function pow() takes two arguments, equivalent to x^y.\n",
        "*   With three arguments it is equivalent to (x^y)%z, but may be more efficient for long integers"
      ]
    },
    {
      "cell_type": "code",
      "execution_count": 73,
      "metadata": {
        "id": "t2u22uJ6h9Rk",
        "outputId": "d90d4944-ba86-4870-c0cf-c03e5ac18b8e",
        "colab": {
          "base_uri": "https://localhost:8080/"
        }
      },
      "outputs": [
        {
          "output_type": "stream",
          "name": "stdout",
          "text": [
            "2 ^ 5:  32\n",
            "2 ^ 5:  32\n",
            "(2 ^ 5) % 3:  2\n"
          ]
        }
      ],
      "source": [
        "print(\"2 ^ 5: \",2**5)\n",
        "print(\"2 ^ 5: \",pow(2,5))\n",
        "print(\"(2 ^ 5) % 3: \",pow(2,5,3))"
      ]
    },
    {
      "cell_type": "markdown",
      "metadata": {
        "id": "o1tNuDu1h9Rl"
      },
      "source": [
        "### abs()\n",
        "*    The function abs() returns the absolute value of a number.\n",
        "*    The argument may be an integer or a floating point number.\n",
        "*    If the argument is a complex number, its magnitude is returned."
      ]
    },
    {
      "cell_type": "code",
      "execution_count": 74,
      "metadata": {
        "id": "WHarcXGZh9Rm",
        "outputId": "a6baeb24-b52d-48df-ae0b-15570c85893f",
        "colab": {
          "base_uri": "https://localhost:8080/"
        }
      },
      "outputs": [
        {
          "output_type": "stream",
          "name": "stdout",
          "text": [
            "abs(2.39):  2.39\n",
            "abs(12+2j):  12.165525060596439\n"
          ]
        }
      ],
      "source": [
        "print(\"abs(2.39): \",abs(2.39))\n",
        "print(\"abs(12+2j): \",abs(12+2j))"
      ]
    },
    {
      "cell_type": "markdown",
      "metadata": {
        "id": "xiSWGgx_h9Rp"
      },
      "source": [
        "### round()\n",
        "*    The function round() will round a number to a given precision in decimal digits (default 0 digits).\n",
        "*    It does not convert integers to floats."
      ]
    },
    {
      "cell_type": "code",
      "execution_count": 75,
      "metadata": {
        "id": "D9hjrmIqh9Rr",
        "outputId": "254d6c8e-a78d-4f05-f2f1-a34093539449",
        "colab": {
          "base_uri": "https://localhost:8080/"
        }
      },
      "outputs": [
        {
          "output_type": "stream",
          "name": "stdout",
          "text": [
            "round(3.14):  3\n",
            "round(3.14,1):  3.1\n",
            "round(314,-2):  300\n",
            "round(2379,-2):  2400\n"
          ]
        }
      ],
      "source": [
        "print(\"round(3.14): \",round(3.14))\n",
        "print(\"round(3.14,1): \",round(3.14,1))\n",
        "print(\"round(314,-2): \",round(314,-2))\n",
        "print(\"round(2379,-2): \",round(2379,-2))"
      ]
    },
    {
      "cell_type": "markdown",
      "metadata": {
        "id": "--5lNuJlh9Rs"
      },
      "source": [
        "### divmod()\n",
        "*    divmod() takes two arguments\n",
        "*    returns a tuple of two values, quotient and remainder  "
      ]
    },
    {
      "cell_type": "code",
      "execution_count": 76,
      "metadata": {
        "id": "BnlOOtnGh9Rt",
        "outputId": "8e78802e-c06f-40fd-829b-ed189b82ac4c",
        "colab": {
          "base_uri": "https://localhost:8080/"
        }
      },
      "outputs": [
        {
          "output_type": "stream",
          "name": "stdout",
          "text": [
            "a: 5\n",
            "b: 2\n",
            "a//b: 2\n",
            "a%b: 1\n",
            "\n",
            "Quotient using divmod(): 2\n",
            "Remainder using divmod(): 1\n"
          ]
        }
      ],
      "source": [
        "a = 5\n",
        "b = 2\n",
        "print(\"a:\",a)\n",
        "print(\"b:\",b)\n",
        "print(\"a//b:\",a//b) # Quotient\n",
        "print(\"a%b:\",a%b) # Remainder\n",
        "\n",
        "quot, rem = divmod(a,b)\n",
        "print(\"\\nQuotient using divmod():\",quot)\n",
        "print(\"Remainder using divmod():\",rem)"
      ]
    },
    {
      "cell_type": "markdown",
      "metadata": {
        "id": "xrSlPuzKh9Rv"
      },
      "source": [
        "### zip()"
      ]
    },
    {
      "cell_type": "code",
      "execution_count": 77,
      "metadata": {
        "id": "D9IpoC-Wh9Rv",
        "outputId": "58a58ba2-0f4f-470d-cdf5-ae101246329e",
        "colab": {
          "base_uri": "https://localhost:8080/"
        }
      },
      "outputs": [
        {
          "output_type": "stream",
          "name": "stdout",
          "text": [
            "x:  [('H', '1'), ('e', '2'), ('l', '3'), ('l', '4'), ('o', '5')]\n",
            "Type:  <class 'zip'>\n",
            "\n",
            "y:  [(1, 'abc'), (2, 'pqr'), (3, 'xyz')]\n",
            "\n",
            "After unzip, \n",
            "a: (1, 2, 3) \n",
            "b: ('abc', 'pqr', 'xyz')\n",
            "\n",
            "Using zip() on dictionaries:\n",
            "d1: {'a': 1, 'b': 2}\n",
            "d2: {'c': 4, 'd': 5}\n",
            "list(zip(d1,d2)): [('a', 'c'), ('b', 'd')]\n",
            "list(zip(d2,d1.values())): [('c', 1), ('d', 2)]\n",
            "\n",
            "Concatenating strings with connector using zip(): ['A-a', 'B-b']\n"
          ]
        }
      ],
      "source": [
        "# zip() contains one element from each sequence\n",
        "x = zip(\"Hello\", \"12345\")\n",
        "print(\"x: \",list(x)) # result is changed into list\n",
        "print(\"Type: \",type(x)) # zip is a class\n",
        "\n",
        "y = list(zip([1,2,3,4],('abc','pqr','xyz')))\n",
        "print(\"\\ny: \",y) # contains three elements (shorter length is considered)\n",
        "\n",
        "# in order to get back the lists, we can unzip the list of tuples using the asterisk\n",
        "a,b = zip(*y)\n",
        "print(\"\\nAfter unzip, \\na: {} \\nb: {}\" .format(a,b))\n",
        "\n",
        "# zip() in dictionaries\n",
        "print(f\"\\nUsing zip() on dictionaries:\")\n",
        "\n",
        "d1 = {'a':1,'b':2}\n",
        "print(f\"d1: {d1}\")\n",
        "d2 = {'c':4,'d':5}\n",
        "print(f\"d2: {d2}\")\n",
        "\n",
        "print(f\"list(zip(d1,d2)): {list(zip(d1,d2))}\")\n",
        "print(f\"list(zip(d2,d1.values())): {list(zip(d2,d1.values()))}\")\n",
        "\n",
        "# Example: two strings from L1 and L2 concatenated together with a connector between them\n",
        "def concatenate(L1, L2, connector):\n",
        "    return [word1+connector+word2 for (word1,word2) in zip(L1,L2)]\n",
        "print(\"\\nConcatenating strings with connector using zip():\",concatenate(['A','B'],['a','b'],'-'))"
      ]
    },
    {
      "cell_type": "markdown",
      "metadata": {
        "id": "ii7Zm7pfh9Rx"
      },
      "source": [
        "### map()\n",
        "*    map() is used to apply the function on the specified sequence"
      ]
    },
    {
      "cell_type": "code",
      "execution_count": 78,
      "metadata": {
        "id": "sV0zbL86h9Ry",
        "outputId": "c5bd49ac-ef74-4c05-d286-1651f211ea1e",
        "colab": {
          "base_uri": "https://localhost:8080/"
        }
      },
      "outputs": [
        {
          "output_type": "stream",
          "name": "stdout",
          "text": [
            "List: [1, 2, 3, 4, 5, 6, 7, 8, 9]\n",
            "\n",
            "Function is applied to all the elements of list using map(): [3, 4, 5, 6, 7, 8, 9, 10, 11]\n",
            "Lambda expression is applied to all the elements of list using map(): [3, 4, 5, 6, 7, 8, 9, 10, 11]\n",
            "\n",
            "Map() with multiple iterables: [15, 18, 21, 24]\n",
            "\n",
            "Phrase:  This is a testing phrase\n",
            "Words Length:  [4, 2, 1, 7, 6]\n"
          ]
        }
      ],
      "source": [
        "a = [1,2,3,4,5,6,7,8,9]\n",
        "print(\"List:\",a)\n",
        "\n",
        "def add_two(x): # function that adds 2 to each element\n",
        "    x = x+2\n",
        "    return x\n",
        "print(\"\\nFunction is applied to all the elements of list using map():\",list(map(add_two,a)))\n",
        "\n",
        "# lambda function is mostly integrated in these cases in order to reduce the complexity of the program\n",
        "c = list(map(lambda x:x+2, a))\n",
        "print(\"Lambda expression is applied to all the elements of list using map():\",c)\n",
        "\n",
        "a = [1,2,3,4]\n",
        "b = [5,6,7,8]\n",
        "c = [9,10,11,12]\n",
        "print(f\"\\nMap() with multiple iterables: {list(map(lambda x,y,z:x+y+z,a,b,c))}\")\n",
        "\n",
        "# map() for finding the length of each word in the phrase (broken by spaces) and return the values in a list\n",
        "def word_lengths(phrase):\n",
        "    return list(map(len, phrase.split()))\n",
        "\n",
        "phrase = \"This is a testing phrase\"\n",
        "print(\"\\nPhrase: \",phrase)\n",
        "print(\"Words Length: \",word_lengths(phrase))"
      ]
    },
    {
      "cell_type": "markdown",
      "metadata": {
        "id": "0kXwohech9Rz"
      },
      "source": [
        "### filter()\n",
        "*    filter() is used to filter the elements by applying the function on the particular sequence\n"
      ]
    },
    {
      "cell_type": "code",
      "execution_count": 79,
      "metadata": {
        "id": "J01pK_mLh9R0",
        "outputId": "29370ce3-0ecb-4c4c-9400-21ad947dc804",
        "colab": {
          "base_uri": "https://localhost:8080/"
        }
      },
      "outputs": [
        {
          "output_type": "stream",
          "name": "stdout",
          "text": [
            "a: [1, 2, 3, 4, 5, 6, 7, 8, 9]\n",
            "Filter elements in list using filter(): [3, 6, 9]\n",
            "\n",
            "Words: ['hello', 'are', 'cat', 'dog', 'ham', 'hi', 'go', 'to', 'heart']\n",
            "Filtering Words starting with 'h' from the list: ['hello', 'ham', 'hi', 'heart']\n"
          ]
        }
      ],
      "source": [
        "a = [1,2,3,4,5,6,7,8,9]\n",
        "print(\"a:\",a)\n",
        "\n",
        "def div_3(x):\n",
        "    if(x%3==0):\n",
        "        return x\n",
        "print(\"Filter elements in list using filter():\",list(filter(div_3,a)))\n",
        "\n",
        "def filter_words(word_list, letter):\n",
        "    return list(filter(lambda word:word[0]==letter,word_list))\n",
        "\n",
        "words = ['hello','are','cat','dog','ham','hi','go','to','heart']\n",
        "print(\"\\nWords:\",words)\n",
        "print(\"Filtering Words starting with 'h' from the list:\",filter_words(words,'h'))"
      ]
    },
    {
      "cell_type": "markdown",
      "metadata": {
        "id": "Tq940F6Eh9R1"
      },
      "source": [
        "### reduce()\n",
        "\n",
        "*    The function reduce(function, sequence) continually applies the function to the sequence.\n",
        "*   It then returns a single value."
      ]
    },
    {
      "cell_type": "code",
      "execution_count": 80,
      "metadata": {
        "id": "WtX9pFPWh9R1",
        "outputId": "9e8b0a76-0a68-4616-921a-f3ea7b883527",
        "colab": {
          "base_uri": "https://localhost:8080/"
        }
      },
      "outputs": [
        {
          "output_type": "stream",
          "name": "stdout",
          "text": [
            "Sum of all elements using reduce():  173\n",
            "\n",
            "myfunc() result using reduce():  65\n",
            "\n",
            "digits_to_num() result: 34321\n"
          ]
        }
      ],
      "source": [
        "from functools import reduce\n",
        "\n",
        "arr = [77,41,42,13]\n",
        "print(\"Sum of all elements using reduce(): \",reduce(lambda x,y: x+y,arr)) # similar to sum()\n",
        "\n",
        "# Example: Get Difference of two elements if the first element is bigger, else add two elements\n",
        "def myfunc(a,b):\n",
        "    return a-b if (a > b) else a+b\n",
        "print(\"\\nmyfunc() result using reduce(): \",reduce(myfunc, arr))\n",
        "\n",
        "# Example: Converting a list of digits into number\n",
        "def digits_to_num(digits):\n",
        "    return reduce(lambda x,y:x*10 + y,digits)\n",
        "print(\"\\ndigits_to_num() result:\",digits_to_num([3,4,3,2,1]))"
      ]
    },
    {
      "cell_type": "markdown",
      "metadata": {
        "id": "-kyh51mXh9R2"
      },
      "source": [
        "### Reading and Writing files\n",
        "\n",
        "*   write() method is used to write\n",
        "*   read() method reads from the current position until the end of the file\n",
        "*   readLines() method is for reading all text on file and return a list of lines\n",
        "*    readline() method reads a single line from the current position"
      ]
    },
    {
      "cell_type": "code",
      "execution_count": 81,
      "metadata": {
        "id": "57wxkiGch9R3",
        "outputId": "40e84c48-ddc6-4447-9e82-becf44caa54a",
        "colab": {
          "base_uri": "https://localhost:8080/"
        }
      },
      "outputs": [
        {
          "output_type": "stream",
          "name": "stdout",
          "text": [
            "Writing and Reading text files using write() and read():\n",
            " This is a sample test line\n",
            "This is a next line. Continuing last line. \n",
            "\n",
            "Appending text in an existing file using readlines():\n",
            " ['This is a sample test line\\n', 'This is a next line. Continuing last line. This is the appended text.'] \n",
            "\n",
            "Copying from one file into another file:\n",
            " This is a sample test line\n",
            "\n",
            "Reading partial characters: This is a next line. Co\n",
            "Moving pointer in the file: 75\n",
            "Reading Line: is the appended text.\n",
            "\n",
            "Name of the file: Test2.txt\n",
            "Mode of the file: r\n"
          ]
        }
      ],
      "source": [
        "# Creating file Test1.txt\n",
        "with open('Test1.txt','w') as wf: # w represents writing mode, wf is the alias name\n",
        "    wf.write(\"This is a sample test line\") # write() is used to write text on file\n",
        "    wf.write(\"\\nThis is a next line. \")\n",
        "    wf.write(\"Continuing last line.\")\n",
        "\n",
        "with open('Test1.txt','r') as twf: # r represents reading mode\n",
        "    print('Writing and Reading text files using write() and read():\\n',twf.read(),'\\n') # read() is used to read text on file\n",
        "\n",
        "with open('Test1.txt','a') as twf: # a represents appending in the existing file\n",
        "    twf.write(\" This is the appended text.\")\n",
        "\n",
        "with open('Test1.txt','r') as twf:\n",
        "    print(\"Appending text in an existing file using readlines():\\n\",twf.readlines(),'\\n') # readlines() is used to read text on file and returns a list of lines\n",
        "\n",
        "# copying from one file into another\n",
        "with open('Test1.txt','r') as rf:\n",
        "    with open('Test2.txt','w') as wf:\n",
        "          for line in rf:\n",
        "                wf.write(line)\n",
        "\n",
        "with open('Test2.txt','r') as twf:\n",
        "    print(\"Copying from one file into another file:\\n\",twf.readline()) #  readline() is used to read the first line\n",
        "    print(\"Reading partial characters:\",twf.read(23)) # reading next 23 characters from the last reading position\n",
        "    print(\"Moving pointer in the file:\",twf.seek(75))\n",
        "    print(\"Reading Line:\",twf.read())\n",
        "\n",
        "print(\"\\nName of the file:\",twf.name) # fetching the name of file\n",
        "print(\"Mode of the file:\",twf.mode) # fetching the mode of file\n",
        "twf.close() # closing file"
      ]
    },
    {
      "cell_type": "markdown",
      "metadata": {
        "id": "X4MBIwzsh9R6"
      },
      "source": [
        "### Error handling\n",
        "\n",
        "*   Raise an exception to interrupt program flow\n",
        "*   Handle an exception to resume control\n",
        "*   Unhandled exceptions will terminate the program\n",
        "*   Exception objects contain information about the exceptional event\n",
        "*   Illustration of try and except blocks\n",
        "*   Finally block always executes in the end"
      ]
    },
    {
      "cell_type": "code",
      "execution_count": 82,
      "metadata": {
        "id": "t4DW0caDh9R9",
        "outputId": "43335c77-54b6-457c-ae84-41964148732e",
        "colab": {
          "base_uri": "https://localhost:8080/"
        }
      },
      "outputs": [
        {
          "output_type": "stream",
          "name": "stdout",
          "text": [
            "Error! Division by Zero is not possible\n",
            "Error! Text cannot be converted into Float datatype\n",
            "Error! String and Integer cannot be added\n"
          ]
        }
      ],
      "source": [
        "# Errors are catched using try & except blocks\n",
        "\n",
        "# Scenario 1:\n",
        "try:\n",
        "    b=34/0\n",
        "except:\n",
        "    print('Error! Division by Zero is not possible')\n",
        "\n",
        "# Scenario 2:\n",
        "try:\n",
        "    float(\"Text\")\n",
        "except:\n",
        "    print('Error! Text cannot be converted into Float datatype')\n",
        "\n",
        "# Scenario 3:\n",
        "try:\n",
        "    'Text'+32\n",
        "except:\n",
        "    print('Error! String and Integer cannot be added')"
      ]
    },
    {
      "cell_type": "markdown",
      "metadata": {
        "id": "0XufcaESh9SF"
      },
      "source": [
        "### Iterator\n",
        "* Iterable objects can be passed to the built-in iter() to get an iterator.\n",
        "* Iterator objects can be passed to the built-in next() to fetch the next item."
      ]
    },
    {
      "cell_type": "code",
      "execution_count": 83,
      "metadata": {
        "id": "a926-aDPh9SV",
        "outputId": "c30aae6e-163a-4c00-e540-29dcff60bd52",
        "colab": {
          "base_uri": "https://localhost:8080/"
        }
      },
      "outputs": [
        {
          "output_type": "stream",
          "name": "stdout",
          "text": [
            "Iterable List:  ['Cow', 'Hen', 'Dog', 'Cat']\n",
            "Iterator: <list_iterator object at 0x7ee74c41fd90>\n"
          ]
        }
      ],
      "source": [
        "iterable = ['Cow','Hen','Dog','Cat']\n",
        "\n",
        "iterator = iter(iterable)\n",
        "\n",
        "print('Iterable List: ',iterable)\n",
        "print('Iterator:',iterator) # object"
      ]
    },
    {
      "cell_type": "code",
      "source": [
        "while 1:\n",
        "    try:\n",
        "        print(next(iterator))\n",
        "    except StopIteration as e:\n",
        "        break"
      ],
      "metadata": {
        "id": "ievdKERwA5_q",
        "outputId": "5e920b64-054a-4c26-98b2-676036c1e0c1",
        "colab": {
          "base_uri": "https://localhost:8080/"
        }
      },
      "execution_count": 84,
      "outputs": [
        {
          "output_type": "stream",
          "name": "stdout",
          "text": [
            "Cow\n",
            "Hen\n",
            "Dog\n",
            "Cat\n"
          ]
        }
      ]
    },
    {
      "cell_type": "markdown",
      "metadata": {
        "id": "71FsBybth9SY"
      },
      "source": [
        "### Generators\n",
        "* **specify iterable sequences:** all generators are iterators\n",
        "* **are lazily evaluated:** the next value in the sequence is computed on demand\n",
        "* **can model infinite sequences:** such as data streams with no definite end\n",
        "* **are composable into pipelines:** for natural stream processing\n",
        "* Generators adapt the Just in Time Computations.\n",
        "* Generator functions contains atleast one use of the **yield** keyword.\n",
        "* Each call to a generator function creates a new generator object.\n",
        "* These are generally used for infinite (or large) sequences, sensor readings, mathematical series, massive files, etc"
      ]
    },
    {
      "cell_type": "code",
      "execution_count": 85,
      "metadata": {
        "id": "d2ChHlzxh9Sf",
        "outputId": "f9c30c9e-4af7-4ea1-b176-e05f85972c7a",
        "colab": {
          "base_uri": "https://localhost:8080/"
        }
      },
      "outputs": [
        {
          "output_type": "stream",
          "name": "stdout",
          "text": [
            "Generator: <generator object testgen at 0x7ee74c465fc0>\n",
            "1\n",
            "2\n",
            "3\n"
          ]
        }
      ],
      "source": [
        "def testgen():\n",
        "    yield 1\n",
        "    yield 2\n",
        "    yield 3\n",
        "\n",
        "g = testgen()\n",
        "print('Generator:',g) # object\n",
        "\n",
        "for each in g: # printing remaining elements\n",
        "    print(each)"
      ]
    },
    {
      "cell_type": "code",
      "execution_count": 86,
      "metadata": {
        "id": "HxBi86NCh9Sh",
        "outputId": "b7132e6a-f45b-4f31-8a75-149f819a6121",
        "colab": {
          "base_uri": "https://localhost:8080/"
        }
      },
      "outputs": [
        {
          "output_type": "execute_result",
          "data": {
            "text/plain": [
              "[3, 1, 4, 2, 5]"
            ]
          },
          "metadata": {},
          "execution_count": 86
        }
      ],
      "source": [
        "# Generator Execution\n",
        "\n",
        "def take(count,iterable):\n",
        "    ''' Takes item from the front of an iterable\n",
        "\n",
        "    Args:\n",
        "        count: The maxximum number of items to retrieve\n",
        "        iterable: The source series\n",
        "\n",
        "    Yields:\n",
        "        At most 'count' items from an 'iterable'\n",
        "    '''\n",
        "    counter=0\n",
        "    for item in iterable:\n",
        "        if counter==count:\n",
        "            return\n",
        "        counter+=1\n",
        "        yield item\n",
        "\n",
        "def distinct(iterable):\n",
        "    ''' Return unique items by eliminating duplicates\n",
        "\n",
        "    Args:\n",
        "        iterable: The source series\n",
        "\n",
        "    Yields:\n",
        "        Unique elements in order from 'iterable'\n",
        "    '''\n",
        "    seen=set()\n",
        "    for item in iterable:\n",
        "        if item in seen:\n",
        "            continue\n",
        "        yield item\n",
        "        seen.add(item)\n",
        "\n",
        "def run_pipeline():\n",
        "    items = [3,1,4,1,1,2,5,1,3,6,1,6,1,7,3,1,3,2,4]\n",
        "    return [item for item in take(5,distinct(items))]\n",
        "\n",
        "run_pipeline()"
      ]
    },
    {
      "cell_type": "code",
      "execution_count": 87,
      "metadata": {
        "id": "ngFcRpVOh9Sj",
        "outputId": "661ba011-0690-442e-d151-e3155ec1b738",
        "colab": {
          "base_uri": "https://localhost:8080/"
        }
      },
      "outputs": [
        {
          "output_type": "stream",
          "name": "stdout",
          "text": [
            "Model: <generator object <genexpr> at 0x7ee74c4669d0>\n",
            "Sum of model: 333332833333500000\n"
          ]
        }
      ],
      "source": [
        "# Defining model specifications\n",
        "\n",
        "squares = (x*x for x in range(1,int(10e5)))\n",
        "print('Model:',squares) # returns generator object, saves memory by just defining and not running it\n",
        "print('Sum of model:',sum(squares))"
      ]
    },
    {
      "cell_type": "code",
      "execution_count": 88,
      "metadata": {
        "id": "BPoxJ7_Wh9Sk",
        "outputId": "2722545e-6d81-4dfa-9654-9875357607e0",
        "colab": {
          "base_uri": "https://localhost:8080/"
        }
      },
      "outputs": [
        {
          "output_type": "stream",
          "name": "stdout",
          "text": [
            "Chain Object: <itertools.chain object at 0x7ee74c45a6e0>\n"
          ]
        },
        {
          "output_type": "execute_result",
          "data": {
            "text/plain": [
              "[1, 2, 3, 4, 5, 6]"
            ]
          },
          "metadata": {},
          "execution_count": 88
        }
      ],
      "source": [
        "a = [1,2,3]\n",
        "b = [4,5,6]\n",
        "\n",
        "from itertools import chain\n",
        "c = chain(a,b) # joining two lists\n",
        "\n",
        "print('Chain Object:',c) # object\n",
        "list(c)"
      ]
    }
  ],
  "metadata": {
    "kernelspec": {
      "display_name": "Python 3",
      "language": "python",
      "name": "python3"
    },
    "language_info": {
      "codemirror_mode": {
        "name": "ipython",
        "version": 3
      },
      "file_extension": ".py",
      "mimetype": "text/x-python",
      "name": "python",
      "nbconvert_exporter": "python",
      "pygments_lexer": "ipython3",
      "version": "3.7.3"
    },
    "colab": {
      "provenance": []
    }
  },
  "nbformat": 4,
  "nbformat_minor": 0
}