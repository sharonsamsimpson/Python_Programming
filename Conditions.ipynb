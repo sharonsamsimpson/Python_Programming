{
  "nbformat": 4,
  "nbformat_minor": 0,
  "metadata": {
    "colab": {
      "provenance": []
    },
    "kernelspec": {
      "name": "python3",
      "display_name": "Python 3"
    },
    "language_info": {
      "name": "python"
    }
  },
  "cells": [
    {
      "cell_type": "markdown",
      "source": [
        "# Python Programming - Conditions"
      ],
      "metadata": {
        "id": "vmbMLlkEsUuY"
      }
    },
    {
      "cell_type": "markdown",
      "source": [
        "### Condition for checking Salary and Tax Percentage"
      ],
      "metadata": {
        "id": "K4ven5_7cA3F"
      }
    },
    {
      "cell_type": "markdown",
      "source": [
        "Write a program, which accepts annual basic salary of an employee and calculates and displays the Income tax as per the following rules:\n",
        "\n",
        "*   If Basic is less than Rs. 1,50,000/-, then Tax = 0.\n",
        "*   If Basic is from Rs.1,50,000/- to Rs. 3,00,000/-, then tax is 20%.\n",
        "*   If Basic is greater than Rs.3,00,000/-, then tax is 30%.\n",
        "\n",
        "Print name, annual income and tax. Write test cases to validate all conditions."
      ],
      "metadata": {
        "id": "TH7mRdGnsuKD"
      }
    },
    {
      "cell_type": "code",
      "source": [
        "#Calculating the Annual Saalary of an Employee and displaying the tax as per the given condition\n",
        "\n",
        "Name = str(input(\"Name:\"))\n",
        "Basic = float(input(\"Basic Salary:\"))\n",
        "\n",
        "if(Basic <= 150000):\n",
        "  Tax = 0\n",
        "  Netsalary = Basic - Tax\n",
        "  print(\"Name:\", Name, \"Annual Salary:\", Basic, \"Tax:\", Tax, \"Netsalary:\", Netsalary)\n",
        "\n",
        "elif(Basic >= 150000)and(Basic <= 300000):\n",
        "  Tax = 0.2 * Basic\n",
        "  Netsalary = Basic - Tax\n",
        "  print(\"Name:\", Name, \"Annual Salary:\", Basic, \"Tax:\", Tax, \"Netsalary:\", Netsalary)\n",
        "\n",
        "else:\n",
        "  Tax = 0.3 * Basic\n",
        "  Netsalary = Basic - Tax\n",
        "  print(\"Name:\", Name, \"Annual Salary:\", Basic, \"Tax:\", Tax, \"Netsalary:\", Netsalary)"
      ],
      "metadata": {
        "colab": {
          "base_uri": "https://localhost:8080/"
        },
        "id": "wbVqwY1Tscel",
        "outputId": "352756d0-3584-4b1a-b9ae-0064ee5a1fda"
      },
      "execution_count": 1,
      "outputs": [
        {
          "output_type": "stream",
          "name": "stdout",
          "text": [
            "Name:Sam\n",
            "Basic Salary:500000\n",
            "Name: Sam Annual Salary: 500000.0 Tax: 150000.0 Netsalary: 350000.0\n"
          ]
        }
      ]
    },
    {
      "cell_type": "markdown",
      "source": [
        "### Condition for checking Products purchased and discount Percentage"
      ],
      "metadata": {
        "id": "fu3CVnQZcRKN"
      }
    },
    {
      "cell_type": "markdown",
      "source": [
        "Write a program to accept quantity and rate for three (3) items. Compute the total sales amount. Also compute and print the discount as follows:\n",
        "*   Amount > Rs. 2000/- : 20% discount\n",
        "*   Amount between Rs. 1500/- to Rs.1999/- :15% discount\n",
        "*   Amount between Rs. 1000/- to Rs.1499/- 8 % discount\n",
        "\n",
        "Compute final amount to be paid.\n",
        "\n",
        "Print name, rate and quantity of 3 items. Then print total sales amount, total discount and final amount to be paid to shop.\n",
        "\n",
        "Write 3 test cases to validate all conditions"
      ],
      "metadata": {
        "id": "uQT9cmpItIIJ"
      }
    },
    {
      "cell_type": "code",
      "source": [
        "#A Program to accept quantity and rate for three (3) items\n",
        "name1 = str(input(\"Enter item 1: \"))\n",
        "quantity1 = float(input(\"Enter the quantity of item 1: \"))\n",
        "rate1 = float(input(\"Enter the rate of item 1: \"))\n",
        "\n",
        "name2 = str(input(\"Enter item 2: \"))\n",
        "quantity2 = float(input(\"Enter the quantity of item 2: \"))\n",
        "rate2 = float(input(\"Enter the rate of item 2: \"))\n",
        "\n",
        "name3 = str(input(\"Enter item 3: \"))\n",
        "quantity3 = float(input(\"Enter the quantity of item 3: \"))\n",
        "rate3 = float(input(\"Enter the rate of item 3: \"))\n",
        "\n",
        "#Computing the total sales amount\n",
        "amount = ((quantity1*rate1) + (quantity2*rate2) + (quantity3*rate3))\n",
        "\n",
        "#Computing discount and final amount to be paid and printing the discount\n",
        "if (amount>2000):\n",
        "  print(\"Discount 20%\")\n",
        "  price = (amount*0.2)\n",
        "  final_amount = amount-price\n",
        "\n",
        "elif (amount>1500) and (amount<1999):\n",
        "  print(\"Discount 15%\")\n",
        "  price = (amount*0.15)\n",
        "  final_amount = amount-price\n",
        "\n",
        "elif (amount>1000) and (amount<1499):\n",
        "  print(\"Discount 8%\")\n",
        "  price = (amount*0.8)\n",
        "  final_amount = amount-price\n",
        "\n",
        "#Printing name,quantity and rate of 3 items\n",
        "#Printing total sales amount, total discount and final amount to be paid to shop.\n",
        "print(\"Total sales amount: \",amount)\n",
        "print(\"Total Discount: \",price)\n",
        "print(\"Final amount to be paid to shop: \",final_amount)"
      ],
      "metadata": {
        "colab": {
          "base_uri": "https://localhost:8080/"
        },
        "id": "zPMkjC0VtIwj",
        "outputId": "ee28ed04-1e57-45c2-c6ee-264545706377"
      },
      "execution_count": 2,
      "outputs": [
        {
          "output_type": "stream",
          "name": "stdout",
          "text": [
            "Enter item 1: Shirt\n",
            "Enter the quantity of item 1: 2\n",
            "Enter the rate of item 1: 600\n",
            "Enter item 2: Shorts\n",
            "Enter the quantity of item 2: 1\n",
            "Enter the rate of item 2: 500\n",
            "Enter item 3: Shoes\n",
            "Enter the quantity of item 3: 1\n",
            "Enter the rate of item 3: 400\n",
            "Discount 20%\n",
            "Total sales amount:  2100.0\n",
            "Total Discount:  420.0\n",
            "Final amount to be paid to shop:  1680.0\n"
          ]
        }
      ]
    },
    {
      "cell_type": "markdown",
      "source": [
        "### Condition for checking Marks scored and Grades"
      ],
      "metadata": {
        "id": "LCQR1WdMccDD"
      }
    },
    {
      "cell_type": "markdown",
      "source": [
        "Write a program to accept name, marks for three subjects and find the total marks secured, average and also display the class obtained.\n",
        "\n",
        "The given conditions are as follows:\n",
        "*   Class I – above 80%\n",
        "*   Class II – 60% to 80%\n",
        "*   Pass class – 40% to 59%\n",
        "*   Fail otherwise\n",
        "\n",
        "Print a message as “Congratulations << your name>>, you secured a total of <>, and Your class is <>”\n",
        "\n",
        "Test you code with atleast 2 test cases."
      ],
      "metadata": {
        "id": "NBW8IT7ztY9V"
      }
    },
    {
      "cell_type": "code",
      "source": [
        "#A Program to accept name,marks for three subjects\n",
        "name = str(input(\"Enter your Name: \"))\n",
        "mark1 = int(input(\"Enter Mathematics mark: \"))\n",
        "mark2 = int(input(\"Enter Science mark: \"))\n",
        "mark3 = int(input(\"Enter English mark: \"))\n",
        "\n",
        "#Finding the total marks secured and average\n",
        "sum = mark1 + mark2 + mark3\n",
        "avg = sum / 3\n",
        "\n",
        "#Printing a message and also computing and displaying the class obtained\n",
        "if (avg>80):\n",
        "  print(\"Congratulations!\",name,\"you secured a total of\",sum,\"with percentage of\",avg,\"%\",\"and Your class is Class I\")\n",
        "\n",
        "elif ((avg>=60)and(avg<=80)):\n",
        "  print(\"Congratulations!\",name,\"you secured a total of\",sum,\"with percentage of\",avg,\"%\",\"and Your class is Class II\")\n",
        "\n",
        "elif ((avg>=40)and(avg<=59)):\n",
        "  print(\"Congratulations!\",name,\"you secured a total of\",sum,\"with percentage of\",avg,\"%\",\"and Your class is Pass\")\n",
        "\n",
        "else:\n",
        "  print(\"Try to Improve\",name,\"you secured a total of\",sum,\"with percentage of\",avg,\"%\",\"and Your class is Fail\")"
      ],
      "metadata": {
        "colab": {
          "base_uri": "https://localhost:8080/"
        },
        "id": "FVBuz9QqtgOh",
        "outputId": "945b1e64-cbdd-48a0-8e9f-2e856e4253da"
      },
      "execution_count": 3,
      "outputs": [
        {
          "output_type": "stream",
          "name": "stdout",
          "text": [
            "Enter your Name: Sam\n",
            "Enter Mathematics mark: 99\n",
            "Enter Science mark: 96\n",
            "Enter English mark: 92\n",
            "Congratulations! Sam you secured a total of 287 with percentage of 95.66666666666667 % and Your class is Class I\n"
          ]
        }
      ]
    },
    {
      "cell_type": "markdown",
      "source": [
        "### Condition for checking the characters from a keyboard"
      ],
      "metadata": {
        "id": "r8TnQus7dVBA"
      }
    },
    {
      "cell_type": "markdown",
      "source": [
        "Read a number from keyboard.Then check for the given conditions:\n",
        "\n",
        "\n",
        "*   odd number\n",
        "*   even number\n",
        "*   positive number\n",
        "*   negative number\n",
        "*   zero\n",
        "\n",
        "Also, print if its ASCII value represents a lower case or upper case letter or digit.\n",
        "\n",
        "Write 8 test cases to validate odd, even, positive, negative, zero, lower case, upper case and digit input types."
      ],
      "metadata": {
        "id": "mbUjwrF8tlOI"
      }
    },
    {
      "cell_type": "code",
      "source": [
        "#Reading a number from keyboard\n",
        "x = int(input(\"Enter the Number: \"))\n",
        "\n",
        "#Printing whether x is odd number,even number\n",
        "if (x%2==0):\n",
        "  print(x,\"is an even number\")\n",
        "\n",
        "else:\n",
        "  print(x,\"is an odd number\")\n",
        "\n",
        "#Printing whether x is positive number,negative number or zero\n",
        "if (x>0):\n",
        "  print(x,\"is a positive number\")\n",
        "\n",
        "elif (x<0):\n",
        "  print(x,\"is a negative number\")\n",
        "\n",
        "else:\n",
        "  print(\"The integer is Zero\")\n",
        "\n",
        "#Reading a character from keyboard\n",
        "character = input(\"Enter the Character: \")\n",
        "\n",
        "#Printing if a character represents a lower case or upper case letter or digit\n",
        "if (character>='a' and character<=\"z\"):\n",
        "  print(\"The given Chracter\",character,\"is an alpahbet in lower case\")\n",
        "\n",
        "elif (character>='A' and character<=\"Z\"):\n",
        "  print(\"The given Chracter\",character,\"is an alpahbet in upper case\")\n",
        "\n",
        "else:\n",
        "  print(\"The given Chracter\",character,\"is a digit\")\n",
        "\n",
        "#Printing if its ASCII value represents a lower case or upper case letter or digit\n",
        "if (ord(character)>= 65 and ord(character)<= 90):\n",
        "  print(\"The given Chracter\",character,\"is an alpahbet in upper case\")\n",
        "\n",
        "elif (ord(character)>= 97 and ord(character)<= 122):\n",
        "  print(\"The given Chracter\",character,\"is an alpahbet in lower case\")\n",
        "\n",
        "else:\n",
        "  print(\"The given Chracter\",character,\"is a digit\")"
      ],
      "metadata": {
        "colab": {
          "base_uri": "https://localhost:8080/"
        },
        "id": "DmYSO0xktpIX",
        "outputId": "79d4060c-b518-4787-d983-660eeed83003"
      },
      "execution_count": 4,
      "outputs": [
        {
          "output_type": "stream",
          "name": "stdout",
          "text": [
            "Enter the Number: 8\n",
            "8 is an even number\n",
            "8 is a positive number\n",
            "Enter the Character: S\n",
            "The given Chracter S is an alpahbet in upper case\n",
            "The given Chracter S is an alpahbet in upper case\n"
          ]
        }
      ]
    }
  ]
}