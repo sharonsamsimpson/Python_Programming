{
  "nbformat": 4,
  "nbformat_minor": 0,
  "metadata": {
    "colab": {
      "provenance": []
    },
    "kernelspec": {
      "name": "python3",
      "display_name": "Python 3"
    },
    "language_info": {
      "name": "python"
    }
  },
  "cells": [
    {
      "cell_type": "markdown",
      "source": [
        "# Python Programming - String Processing"
      ],
      "metadata": {
        "id": "0G2Og5YCONAi"
      }
    },
    {
      "cell_type": "markdown",
      "source": [
        "### Program to count a character in a string"
      ],
      "metadata": {
        "id": "FK280tqPPqZy"
      }
    },
    {
      "cell_type": "markdown",
      "source": [
        "Develop a function count_letter(string, search) that returns the number of times search character appears in a string.\n",
        "\n",
        "Test cases:\n",
        "\n",
        "1. Str = “hello world”. Search = ‘o’. Calling count_letter(str, search) should return output 2\n",
        "\n",
        "2. Str = “HeLlo wOrld”. Search = ‘o’. Then, calling count_letter(str, search) will return output 1\n",
        "\n",
        "Modify count_letter() so that it ignores case sensitivity, so that o and O are same.\n",
        "\n",
        "3. Str = “HeLlo wOrld”. Search = ‘o’. Calling count_letter(str, search) will return output 2"
      ],
      "metadata": {
        "id": "dUc5jq1IOXVk"
      }
    },
    {
      "cell_type": "code",
      "source": [
        "# Developing a function to find the no. of times a letter appears in a string\n",
        "\n",
        "def count_letter(string, search):\n",
        "\n",
        "  count = 0\n",
        "\n",
        "  for char in string:\n",
        "\n",
        "    if char == search:\n",
        "      count += 1\n",
        "\n",
        "  return count"
      ],
      "metadata": {
        "id": "IGTOnmYXPLMc"
      },
      "execution_count": 1,
      "outputs": []
    },
    {
      "cell_type": "code",
      "source": [
        "print(\"No.of characters: \", count_letter(\"hello world\", 'o'))"
      ],
      "metadata": {
        "colab": {
          "base_uri": "https://localhost:8080/"
        },
        "id": "x7WE8leCQDP3",
        "outputId": "fc548d56-b768-4078-9cae-4c580fe74545"
      },
      "execution_count": 2,
      "outputs": [
        {
          "output_type": "stream",
          "name": "stdout",
          "text": [
            "No.of characters:  2\n"
          ]
        }
      ]
    },
    {
      "cell_type": "code",
      "source": [
        "print(\"No.of characters: \", count_letter(\"HeLlo wOrld\", 'o'))"
      ],
      "metadata": {
        "colab": {
          "base_uri": "https://localhost:8080/"
        },
        "id": "YUa_XlNbQQgf",
        "outputId": "911d1bfa-19f7-4072-ddcb-46b364caa35f"
      },
      "execution_count": 3,
      "outputs": [
        {
          "output_type": "stream",
          "name": "stdout",
          "text": [
            "No.of characters:  1\n"
          ]
        }
      ]
    },
    {
      "cell_type": "code",
      "source": [
        "# Modifying the function count_letter() so that it ignores case sensitivity.\n",
        "\n",
        "def count_letter(string, search):\n",
        "\n",
        "  count = 0\n",
        "\n",
        "  for char in string.lower():\n",
        "\n",
        "    if char == search:\n",
        "      count += 1\n",
        "\n",
        "  return count"
      ],
      "metadata": {
        "id": "Z3CiqJ_8QDSO"
      },
      "execution_count": 4,
      "outputs": []
    },
    {
      "cell_type": "code",
      "execution_count": 5,
      "metadata": {
        "colab": {
          "base_uri": "https://localhost:8080/"
        },
        "id": "-Kzqa6k-Nm1V",
        "outputId": "754c73e4-1e68-46c4-c9cc-9f5a9de2ef3f"
      },
      "outputs": [
        {
          "output_type": "stream",
          "name": "stdout",
          "text": [
            "No.of characters:  2\n"
          ]
        }
      ],
      "source": [
        "print(\"No.of characters: \", count_letter(\"HeLlo wOrld\", 'o'))"
      ]
    },
    {
      "cell_type": "markdown",
      "source": [
        "### Program that counts the number of spaces, digits, vowels and consonants in a string"
      ],
      "metadata": {
        "id": "BNFACAoSRfwl"
      }
    },
    {
      "cell_type": "markdown",
      "source": [
        "Write a program that counts the number of spaces, digits, vowels and consonants in a string that the user inputs.\n",
        "\n",
        "Print the string, no of spaces, no of digits, no of vowels and no of consonants."
      ],
      "metadata": {
        "id": "H8S5Vt_xRGk8"
      }
    },
    {
      "cell_type": "code",
      "source": [
        "# Program that counts the number of spaces, digits, vowels and consonants in a string\n",
        "\n",
        "# Get input string\n",
        "text = input(\"Enter a text: \").casefold()\n",
        "\n",
        "vowels = \"aeiou\"\n",
        "consonants = \"bcdfghjklmnpqrstvwxyz\"\n",
        "numbers = \"0123456789\"\n",
        "space = \" \"\n",
        "\n",
        "vow, cons, sp, num = 0, 0, 0, 0\n",
        "\n",
        "for char in text:\n",
        "\n",
        "  if char in vowels:\n",
        "    vow += 1\n",
        "\n",
        "  elif char in consonants:\n",
        "    cons += 1\n",
        "\n",
        "  elif char in numbers:\n",
        "    num += 1\n",
        "\n",
        "  elif char in space:\n",
        "    sp += 1\n",
        "\n",
        "# Printing the string, no of spaces, no of digits, no of vowels and no of consonants\n",
        "print(\"No. of spaces: \", sp)\n",
        "print(\"No. of digits: \", num)\n",
        "print(\"No. of vowels: \", vow)\n",
        "print(\"No. of consonants: \", cons)"
      ],
      "metadata": {
        "colab": {
          "base_uri": "https://localhost:8080/"
        },
        "id": "r1pw6CZ6OSCP",
        "outputId": "2893285b-126f-4d40-b09a-b968fa9a7c9e"
      },
      "execution_count": 6,
      "outputs": [
        {
          "output_type": "stream",
          "name": "stdout",
          "text": [
            "Enter a text: Loving Python 3 Programming\n",
            "No. of spaces:  3\n",
            "No. of digits:  1\n",
            "No. of vowels:  6\n",
            "No. of consonants:  17\n"
          ]
        }
      ]
    },
    {
      "cell_type": "markdown",
      "source": [
        "### Program to remove punctuation from a string"
      ],
      "metadata": {
        "id": "7CVFLMpkWGC_"
      }
    },
    {
      "cell_type": "markdown",
      "source": [
        "Develop a function remove_punctuation(str) that returns the string after removing the following punctuations.\n",
        "\n",
        "Punctuation List = \"!\"#$%&'()*+,-./:;<=>?@[]^`{|}~\""
      ],
      "metadata": {
        "id": "-ArmUYd3UNVx"
      }
    },
    {
      "cell_type": "code",
      "source": [
        "# Creating a function to remove punctuation\n",
        "\n",
        "def remove_punct(string):\n",
        "\n",
        "  text = string\n",
        "\n",
        "  punct = '''!#$%&'\"()*+,-./:;<=>?@[]^`{|}~'''\n",
        "\n",
        "  for i in text:\n",
        "    if i in punct:\n",
        "      text = text.replace(i,\"\")\n",
        "\n",
        "  print(f\"Original String: {string} \\nString after removing punctuation: {text}\")"
      ],
      "metadata": {
        "id": "hfrzSzoZTulP"
      },
      "execution_count": 7,
      "outputs": []
    },
    {
      "cell_type": "code",
      "source": [
        "text = input(\"Enter a string:\")\n",
        "remove_punct(text)"
      ],
      "metadata": {
        "colab": {
          "base_uri": "https://localhost:8080/"
        },
        "id": "yDGah2HJMksK",
        "outputId": "6c683ebd-5e40-42ce-dc99-a5c4d662d06f"
      },
      "execution_count": 8,
      "outputs": [
        {
          "output_type": "stream",
          "name": "stdout",
          "text": [
            "Enter a string:\"Hello! #learning Python... Python is cool\"\n",
            "Original String: \"Hello! #learning Python... Python is cool\" \n",
            "String after removing punctuation: Hello learning Python Python is cool\n"
          ]
        }
      ]
    },
    {
      "cell_type": "markdown",
      "source": [
        "### Program to construct PigLatin"
      ],
      "metadata": {
        "id": "U35Pel3sCBaP"
      }
    },
    {
      "cell_type": "markdown",
      "source": [
        "Write a program that asks the user for a word. Translate their word into Pig Latin.\n",
        "\n",
        "Pig Latin game takes the first consonant or set of first consonants of an English word, moves it to the end of the word and suffixes an ay.\n",
        "\n",
        "If the first letter is a vowel, do not move that vowel, but instead add “way” at the end of the word.\n",
        "\n",
        "Test Cases:\n",
        "1. Enter a word: pig Output: ig-pay\n",
        "2. Enter a word: apple Output: apple-way\n",
        "\n",
        "Modify your program so that it becomes a function piglatin(word) and returns translated word as output."
      ],
      "metadata": {
        "id": "UeC8mIkBCGyZ"
      }
    },
    {
      "cell_type": "code",
      "source": [
        "# Program that translates the word into Pig Latin Form\n",
        "\n",
        "def piglatin(word):\n",
        "\n",
        "  vowels = \"aeiouAEIOU\"\n",
        "\n",
        "  if word[0] in vowels:\n",
        "    pig_latin_word = word + \"-way\"\n",
        "\n",
        "  else:\n",
        "\n",
        "    index = 0\n",
        "\n",
        "    while index < len(word) and word[index] not in vowels:\n",
        "      index += 1\n",
        "\n",
        "    pig_latin_word = word[index:] + \"-\" + word[:index] + \"ay\"\n",
        "\n",
        "  print(f\"Original word: {word} \\nTranslated word: {pig_latin_word}\")"
      ],
      "metadata": {
        "id": "dBLK7BBdGE72"
      },
      "execution_count": 9,
      "outputs": []
    },
    {
      "cell_type": "code",
      "source": [
        "piglatin(word = input(\"Enter a word: \"))"
      ],
      "metadata": {
        "colab": {
          "base_uri": "https://localhost:8080/"
        },
        "id": "JjZFVyLzDwXF",
        "outputId": "0c1b234a-bab6-41d9-e752-6e6a2c1c63eb"
      },
      "execution_count": 10,
      "outputs": [
        {
          "output_type": "stream",
          "name": "stdout",
          "text": [
            "Enter a word: pig\n",
            "Original word: pig \n",
            "Translated word: ig-pay\n"
          ]
        }
      ]
    },
    {
      "cell_type": "code",
      "source": [
        "piglatin(word = input(\"Enter a word: \"))"
      ],
      "metadata": {
        "colab": {
          "base_uri": "https://localhost:8080/"
        },
        "id": "hFS-6SvaGGmV",
        "outputId": "991bf8fe-97ea-43b7-de80-bbde0c0574ba"
      },
      "execution_count": 11,
      "outputs": [
        {
          "output_type": "stream",
          "name": "stdout",
          "text": [
            "Enter a word: apple\n",
            "Original word: apple \n",
            "Translated word: apple-way\n"
          ]
        }
      ]
    }
  ]
}