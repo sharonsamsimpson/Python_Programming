{
  "nbformat": 4,
  "nbformat_minor": 0,
  "metadata": {
    "colab": {
      "provenance": []
    },
    "kernelspec": {
      "name": "python3",
      "display_name": "Python 3"
    },
    "language_info": {
      "name": "python"
    }
  },
  "cells": [
    {
      "cell_type": "markdown",
      "source": [
        "# Python Programming - Basics"
      ],
      "metadata": {
        "id": "FCoPNzLgaltS"
      }
    },
    {
      "cell_type": "markdown",
      "source": [
        "### Print Statement"
      ],
      "metadata": {
        "id": "cgSgNMa_fB95"
      }
    },
    {
      "cell_type": "code",
      "source": [
        "print(\"Hello World!\")"
      ],
      "metadata": {
        "colab": {
          "base_uri": "https://localhost:8080/"
        },
        "id": "HRVkxddTfF_n",
        "outputId": "86d37f8e-45d9-4b40-faf3-65734f2b2307"
      },
      "execution_count": 1,
      "outputs": [
        {
          "output_type": "stream",
          "name": "stdout",
          "text": [
            "Hello World!\n"
          ]
        }
      ]
    },
    {
      "cell_type": "markdown",
      "source": [
        "### Variables"
      ],
      "metadata": {
        "id": "RJ-_kgy6fRrq"
      }
    },
    {
      "cell_type": "code",
      "source": [
        "x = 5\n",
        "y = \"Hello, World!\""
      ],
      "metadata": {
        "id": "_JngUfcUfThp"
      },
      "execution_count": 2,
      "outputs": []
    },
    {
      "cell_type": "code",
      "source": [
        "print(x)"
      ],
      "metadata": {
        "colab": {
          "base_uri": "https://localhost:8080/"
        },
        "id": "5Yp77bBJfTji",
        "outputId": "1f0c505b-ccf6-4bb6-f463-cff917d3db05"
      },
      "execution_count": 3,
      "outputs": [
        {
          "output_type": "stream",
          "name": "stdout",
          "text": [
            "5\n"
          ]
        }
      ]
    },
    {
      "cell_type": "code",
      "source": [
        "print(y)"
      ],
      "metadata": {
        "colab": {
          "base_uri": "https://localhost:8080/"
        },
        "id": "u4YOEyVcfTm5",
        "outputId": "8c4c441c-7e8e-4367-945f-555801f7fe07"
      },
      "execution_count": 4,
      "outputs": [
        {
          "output_type": "stream",
          "name": "stdout",
          "text": [
            "Hello, World!\n"
          ]
        }
      ]
    },
    {
      "cell_type": "markdown",
      "source": [
        "### Comment"
      ],
      "metadata": {
        "id": "XKRmhSU4fclW"
      }
    },
    {
      "cell_type": "code",
      "source": [
        "#This is a comment."
      ],
      "metadata": {
        "id": "lxZ09DrTfiVC"
      },
      "execution_count": 5,
      "outputs": []
    },
    {
      "cell_type": "code",
      "source": [
        "\"\"\"\n",
        "This is a comment\n",
        "written in\n",
        "more than just one line\n",
        "Itz a multiline comment\n",
        "\"\"\""
      ],
      "metadata": {
        "colab": {
          "base_uri": "https://localhost:8080/",
          "height": 35
        },
        "id": "1YPEabd0f0hO",
        "outputId": "7cd3bbed-c690-41b1-af24-1be589434f8a"
      },
      "execution_count": 6,
      "outputs": [
        {
          "output_type": "execute_result",
          "data": {
            "text/plain": [
              "'\\nThis is a comment\\nwritten in\\nmore than just one line\\nItz a multiline comment\\n'"
            ],
            "application/vnd.google.colaboratory.intrinsic+json": {
              "type": "string"
            }
          },
          "metadata": {},
          "execution_count": 6
        }
      ]
    },
    {
      "cell_type": "markdown",
      "source": [
        "### Operators"
      ],
      "metadata": {
        "id": "05IMsRQVgU8H"
      }
    },
    {
      "cell_type": "markdown",
      "source": [
        "Evaluate the expressions and then print the value.\n",
        "\n",
        "X1=(11+31+23+8+7+5)/((1-(1/2)-(1/20)))\n",
        "\n",
        "X2=(((108)+8-((7//5)%(5*4)))&3)|(2<<1)\n"
      ],
      "metadata": {
        "id": "ZehhrSpXa1Tt"
      }
    },
    {
      "cell_type": "code",
      "source": [
        "X1 = (11+31+23+8+7+5)/((1-(1/2)-(1/20)))\n",
        "\n",
        "X2 = (((10*8)+8-((7//5)%(5**4)))&3)|(2<<1)\n",
        "\n",
        "#Printing the values of X1 and X2\n",
        "print(X1)\n",
        "print(X2)"
      ],
      "metadata": {
        "colab": {
          "base_uri": "https://localhost:8080/"
        },
        "id": "eH3TkJ9ganjT",
        "outputId": "a138d658-7761-447c-f37d-d7472d3268ac"
      },
      "execution_count": 7,
      "outputs": [
        {
          "output_type": "stream",
          "name": "stdout",
          "text": [
            "188.88888888888889\n",
            "7\n"
          ]
        }
      ]
    },
    {
      "cell_type": "markdown",
      "source": [
        "### A Simple Program"
      ],
      "metadata": {
        "id": "iFBjxBqmgqnj"
      }
    },
    {
      "cell_type": "markdown",
      "source": [
        "Write a program in Python to input length and breadth of a rectangle and print the area and perimeter of it.\n",
        "\n",
        "Test you code with test cases."
      ],
      "metadata": {
        "id": "QtTYP_Mhasm0"
      }
    },
    {
      "cell_type": "code",
      "execution_count": 8,
      "metadata": {
        "colab": {
          "base_uri": "https://localhost:8080/"
        },
        "id": "eGyGbf3QagNW",
        "outputId": "049acd87-5a43-4515-edcc-d69908fced73"
      },
      "outputs": [
        {
          "output_type": "stream",
          "name": "stdout",
          "text": [
            "length:20\n",
            "breadth:10\n",
            "Area of Rectangle: 30\n",
            "Perimeter of Rectangle: 60\n"
          ]
        }
      ],
      "source": [
        "# Getting the length and breath from the user\n",
        "length = int(input(\"length:\"))\n",
        "breadth = int(input(\"breadth:\"))\n",
        "\n",
        "# Calculating the Area and Perimeter of a Rectangle\n",
        "area = length + breadth\n",
        "peri = 2*(length + breadth)\n",
        "\n",
        "# Printing the results\n",
        "print(\"Area of Rectangle:\", area)\n",
        "print(\"Perimeter of Rectangle:\", peri)"
      ]
    }
  ]
}