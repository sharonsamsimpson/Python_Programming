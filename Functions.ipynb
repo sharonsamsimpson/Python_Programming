{
  "nbformat": 4,
  "nbformat_minor": 0,
  "metadata": {
    "colab": {
      "provenance": []
    },
    "kernelspec": {
      "name": "python3",
      "display_name": "Python 3"
    },
    "language_info": {
      "name": "python"
    }
  },
  "cells": [
    {
      "cell_type": "markdown",
      "source": [
        "# Python Programming - Functions"
      ],
      "metadata": {
        "id": "a7aeufhBhNao"
      }
    },
    {
      "cell_type": "markdown",
      "source": [
        "### Prime Function"
      ],
      "metadata": {
        "id": "f3RcCiDYoDOM"
      }
    },
    {
      "cell_type": "markdown",
      "source": [
        "Create a function prime() that receives an integer and returns whether n is prime or not."
      ],
      "metadata": {
        "id": "vKixOyBthZJw"
      }
    },
    {
      "cell_type": "code",
      "execution_count": 1,
      "metadata": {
        "colab": {
          "base_uri": "https://localhost:8080/"
        },
        "id": "oQjd1p3UhIwO",
        "outputId": "15aed216-b13f-437e-a893-5a1471d2941e"
      },
      "outputs": [
        {
          "name": "stdout",
          "output_type": "stream",
          "text": [
            "Enter a number: 11\n"
          ]
        },
        {
          "output_type": "execute_result",
          "data": {
            "text/plain": [
              "(11, 'it is a prime number')"
            ]
          },
          "metadata": {},
          "execution_count": 1
        }
      ],
      "source": [
        "# Creating a function prime() which returns whether a number is prime or not\n",
        "\n",
        "def prime():\n",
        "\n",
        "  n = int(input(\"Enter a number: \")) # Get input number\n",
        "\n",
        "  if n>1:\n",
        "\n",
        "    for i in range(2, n-1): # iterating upto the number before\n",
        "\n",
        "      if n % i == 0: # checking the divisibility\n",
        "        return n, \"it is not a prime number\"\n",
        "        break\n",
        "\n",
        "    return n, \"it is a prime number\"\n",
        "\n",
        "  else:\n",
        "    return n, \"is not a prime number\"\n",
        "\n",
        "prime()"
      ]
    },
    {
      "cell_type": "markdown",
      "source": [
        "### Arithmetic Calculator Function"
      ],
      "metadata": {
        "id": "IHHqUfSnoyVQ"
      }
    },
    {
      "cell_type": "markdown",
      "source": [
        "Develop a simple arithmetic calculator for 4 operations.\n",
        "\n",
        "The program should continue calculation until user types ‘q’ to quit.\n",
        "\n",
        "Create 4 functions add(), subtract(), multiply() and divide() that receives two values and returns the result of the operation."
      ],
      "metadata": {
        "id": "OeZIAm3GoYpm"
      }
    },
    {
      "cell_type": "code",
      "source": [
        "# Developing a simple arithmetic calculator for 4 operations\n",
        "\n",
        "while True:\n",
        "\n",
        "  # Calculations\n",
        "\n",
        "  def add(num1, num2):\n",
        "    return num1 + num2\n",
        "\n",
        "  def subtract(num1, num2):\n",
        "    return num1 - num2\n",
        "\n",
        "  def multiply(num1, num2):\n",
        "    return num1 * num2\n",
        "\n",
        "  def divide(num1, num2):\n",
        "    return num1 / num2\n",
        "\n",
        "  # Getting Inputs\n",
        "\n",
        "  select = str(input(\"Select an operation: \"))\n",
        "  a = int(input(\"Enter value 1: \"))\n",
        "  b = int(input(\"Enter value 2: \"))\n",
        "\n",
        "  # Operations\n",
        "\n",
        "  if select == \"+\":\n",
        "    print(\"Result:\", add(a, b))\n",
        "\n",
        "  elif select ==\"-\":\n",
        "    print(\"Result:\",subtract(a, b))\n",
        "\n",
        "  elif select == \"*\":\n",
        "    print(\"Result:\",multiply(a, b))\n",
        "\n",
        "  elif select == \"/\":\n",
        "    print(\"Result:\",divide(a, b))\n",
        "\n",
        "  else:\n",
        "    print(\"Invalid input\")\n",
        "\n",
        "  # Continuing calculation until user types ‘q’ to quit\n",
        "  q = input(\"Type q to quit: \")\n",
        "\n",
        "  if q == \"q\":\n",
        "    break"
      ],
      "metadata": {
        "colab": {
          "base_uri": "https://localhost:8080/"
        },
        "id": "FSOYQMm-jeWt",
        "outputId": "66a5918c-bbe0-4680-a96b-091256d93059"
      },
      "execution_count": 2,
      "outputs": [
        {
          "name": "stdout",
          "output_type": "stream",
          "text": [
            "Select an operation: +\n",
            "Enter value 1: 10\n",
            "Enter value 2: 6\n",
            "Result: 16\n",
            "Type q to quit: q\n"
          ]
        }
      ]
    },
    {
      "cell_type": "markdown",
      "source": [
        "### Factorial Function"
      ],
      "metadata": {
        "id": "3sf-PbYZqwAY"
      }
    },
    {
      "cell_type": "markdown",
      "source": [
        "Create a function factorial() that takes an integer and returns its factorial value.\n",
        "\n",
        "You can create as a non-recursive version of factorial.\n",
        "\n",
        "Also, check factorial of negative number does not exist.\n",
        "\n",
        "Factorial of 0 is 1."
      ],
      "metadata": {
        "id": "5fQuiyQYq238"
      }
    },
    {
      "cell_type": "code",
      "source": [
        "# Creating a function for finding factorial of a number\n",
        "\n",
        "def factorial(n):\n",
        "\n",
        "    if n < 0:\n",
        "        raise ValueError(\"Factorial is not defined for negative numbers\")\n",
        "\n",
        "    result = 1\n",
        "\n",
        "    for i in range(1, n + 1):\n",
        "\n",
        "        result *= i\n",
        "\n",
        "    return result\n",
        "\n",
        "# Test cases\n",
        "try:\n",
        "    n = int(input(\"Enter a non-negative integer: \"))\n",
        "\n",
        "    print(f\"Factorial of {n} is {factorial(n)}\")\n",
        "\n",
        "except ValueError as e:\n",
        "    print(e)"
      ],
      "metadata": {
        "colab": {
          "base_uri": "https://localhost:8080/"
        },
        "id": "0gkKaHazp1D4",
        "outputId": "9380528d-697e-4fa3-eaa9-991577790f48"
      },
      "execution_count": 3,
      "outputs": [
        {
          "output_type": "stream",
          "name": "stdout",
          "text": [
            "Enter a non-negative integer: 3\n",
            "Factorial of 3 is 6\n"
          ]
        }
      ]
    }
  ]
}