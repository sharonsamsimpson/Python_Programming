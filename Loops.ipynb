{
  "cells": [
    {
      "cell_type": "markdown",
      "source": [
        "# Python Programming - Loops"
      ],
      "metadata": {
        "id": "O3Pqe8QRPj_L"
      },
      "id": "O3Pqe8QRPj_L"
    },
    {
      "cell_type": "markdown",
      "source": [
        "### For Loop"
      ],
      "metadata": {
        "id": "1M5NHJ7vRr5-"
      },
      "id": "1M5NHJ7vRr5-"
    },
    {
      "cell_type": "markdown",
      "source": [
        "#### Program to Construct Multiplication Table"
      ],
      "metadata": {
        "id": "6X9XMbf6p40N"
      },
      "id": "6X9XMbf6p40N"
    },
    {
      "cell_type": "markdown",
      "source": [
        "Write a program to accept n and display its multiplication table.\n",
        "\n",
        "Value of n must be provided by the user.\n",
        "\n",
        "(Example: n * 1, n * 2,....,n*10) (Use for loop)"
      ],
      "metadata": {
        "id": "90tgOVnKRkb8"
      },
      "id": "90tgOVnKRkb8"
    },
    {
      "cell_type": "code",
      "source": [
        "# A program to accept n and display its multiplication table\n",
        "\n",
        "n = int(input(\"Enter a number: \")) # Get the input number n\n",
        "\n",
        "# Print the multiplication table\n",
        "for i in range(1, 11):\n",
        "  print(i, \"*\", n, \"=\", n*i)"
      ],
      "metadata": {
        "colab": {
          "base_uri": "https://localhost:8080/"
        },
        "id": "R-Ew4fvbRnDP",
        "outputId": "5ab9063f-b91c-44da-8d60-3873562738f8"
      },
      "id": "R-Ew4fvbRnDP",
      "execution_count": 1,
      "outputs": [
        {
          "output_type": "stream",
          "name": "stdout",
          "text": [
            "Enter a number: 7\n",
            "1 * 7 = 7\n",
            "2 * 7 = 14\n",
            "3 * 7 = 21\n",
            "4 * 7 = 28\n",
            "5 * 7 = 35\n",
            "6 * 7 = 42\n",
            "7 * 7 = 49\n",
            "8 * 7 = 56\n",
            "9 * 7 = 63\n",
            "10 * 7 = 70\n"
          ]
        }
      ]
    },
    {
      "cell_type": "markdown",
      "source": [
        "### While Loop"
      ],
      "metadata": {
        "id": "kAT5xagoRveD"
      },
      "id": "kAT5xagoRveD"
    },
    {
      "cell_type": "markdown",
      "source": [
        "#### Program to Calculate Sum of numbers"
      ],
      "metadata": {
        "id": "hy3XdNTqqIhP"
      },
      "id": "hy3XdNTqqIhP"
    },
    {
      "cell_type": "markdown",
      "source": [
        "Write a program that accepts numbers continuously as long as the number is positive and prints the sum of the numbers read (Use while loop).\n",
        "\n",
        "A sample user interaction will be:\n",
        "\n",
        "Enter a number: 2\n",
        "\n",
        "Enter a number: 1\n",
        "\n",
        "Enter a number: 4\n",
        "\n",
        "Enter a number: 6\n",
        "\n",
        "Enter a number: -10\n",
        "\n",
        "Sum = 13"
      ],
      "metadata": {
        "id": "od1YviVVP_gx"
      },
      "id": "od1YviVVP_gx"
    },
    {
      "cell_type": "code",
      "source": [
        "# A program that accepts numbers continuously as long as the number is positive\n",
        "\n",
        "i = 0\n",
        "\n",
        "while True:\n",
        "  x = int(input(\"Enter a Number: \")) # Get the input number\n",
        "\n",
        "  if x <= 0: # condition to check the number is positive\n",
        "    print(\"Sum: \",i) # Printing the sum of the numbers read\n",
        "    break\n",
        "\n",
        "  i += x"
      ],
      "metadata": {
        "colab": {
          "base_uri": "https://localhost:8080/"
        },
        "id": "m2XBS_6MQNLi",
        "outputId": "fdfaeb81-7d83-4d67-838c-9fd0f0864550"
      },
      "id": "m2XBS_6MQNLi",
      "execution_count": 2,
      "outputs": [
        {
          "output_type": "stream",
          "name": "stdout",
          "text": [
            "Enter a Number: 1\n",
            "Enter a Number: 2\n",
            "Enter a Number: 7\n",
            "Enter a Number: -6\n",
            "Sum:  10\n"
          ]
        }
      ]
    },
    {
      "cell_type": "markdown",
      "source": [
        "#### Program to find the Sum of even numbers"
      ],
      "metadata": {
        "id": "ZCd3CXttqoYj"
      },
      "id": "ZCd3CXttqoYj"
    },
    {
      "cell_type": "markdown",
      "source": [
        "Write a program to take the values of two integers m and n from the user.\n",
        "\n",
        "Calculate the sum of even number between m and n (including both m and n).\n",
        "\n",
        "Please note that value of m must be less than value of n.\n",
        "\n",
        "If m > n, then you must print a message “Value of m should be less than n” and ask for next input values.\n",
        "\n",
        "Print the values of m, n and sum. (Use while loop).\n",
        "\n",
        "The program should continue until user types 'q' to quit the program.\n",
        "\n",
        "Sample user interaction:\n",
        "\n",
        "Enter m: 1 Enter n: 10 Sum of even numbers: 20 Do you want to quit (Type q)? :\n",
        "\n",
        "Enter m: 2 Enter n: 10 Sum of even numbers: 20 Do you want to quit (Type q)? :\n",
        "\n",
        "Enter m: 20 Enter n: 10 Value of m should be less than n Do you want to quit (Type q)? : q"
      ],
      "metadata": {
        "id": "XAAH1mxaQwL9"
      },
      "id": "XAAH1mxaQwL9"
    },
    {
      "cell_type": "code",
      "source": [
        "# A program that take the values and calculating the sum of even number\n",
        "\n",
        "while True:\n",
        "\n",
        "  m = int(input(\"Enter number 1: \")) # Get input number m\n",
        "  n = int(input(\"Enter number 2: \")) # Get input number n\n",
        "\n",
        "\n",
        "  i = 0\n",
        "\n",
        "  while m<n: # condition - m is lesser than n\n",
        "\n",
        "    if (m%2 == 0): # condition - m is even number\n",
        "\n",
        "      i = i + m # Calculating the sum of even number\n",
        "\n",
        "    m = m + 1\n",
        "\n",
        "  print(\"Sum of even numbers: \",i)\n",
        "\n",
        "  while m>n: # condition - m is greater than n\n",
        "\n",
        "    print(\"Value of m should be less than n\")\n",
        "\n",
        "    break\n",
        "\n",
        "  q = input(\"Type q to quit: \") # Get input to determine to quit or\n",
        "\n",
        "  # Continuing the program until user types 'q' to quit the program\n",
        "  if q == \"q\":\n",
        "    break"
      ],
      "metadata": {
        "colab": {
          "base_uri": "https://localhost:8080/"
        },
        "id": "DquMPT7WRFib",
        "outputId": "e68b1e39-32ea-4ab1-81b4-0467f1a43226"
      },
      "id": "DquMPT7WRFib",
      "execution_count": 3,
      "outputs": [
        {
          "name": "stdout",
          "output_type": "stream",
          "text": [
            "Enter number 1: 1\n",
            "Enter number 2: 20\n",
            "Sum of even numbers:  90\n",
            "Type q to quit: 50\n",
            "Enter number 1: 50\n",
            "Enter number 2: 2\n",
            "Sum of even numbers:  0\n",
            "Value of m should be less than n\n",
            "Type q to quit: q\n"
          ]
        }
      ]
    },
    {
      "cell_type": "markdown",
      "source": [
        "#### Program to find the Sum of the digits of a number2"
      ],
      "metadata": {
        "id": "VwXdDnlXq8td"
      },
      "id": "VwXdDnlXq8td"
    },
    {
      "cell_type": "markdown",
      "source": [
        "Write a program that receives an integer and prints the sum of its digits.\n",
        "\n",
        "For example,an input 125 will print output 1+2+5=8."
      ],
      "metadata": {
        "id": "iwuqeWQdR4Pc"
      },
      "id": "iwuqeWQdR4Pc"
    },
    {
      "cell_type": "code",
      "source": [
        "# A program that receives an integer and prints the sum of its digits\n",
        "\n",
        "x = int(input(\"Enter an integer: \")) # Get the input number\n",
        "\n",
        "i = 0\n",
        "\n",
        "while(x > 0):\n",
        "\n",
        "  # Calculate the sum of its digits\n",
        "  n = x % 10\n",
        "  i = i + n\n",
        "  x = x // 10\n",
        "\n",
        "print(\"Total sum of digits is :\", i) # Print the sum"
      ],
      "metadata": {
        "id": "auXyV4bDkB0h",
        "colab": {
          "base_uri": "https://localhost:8080/"
        },
        "outputId": "f9a8af0e-c6ac-4d38-9b98-98c8f5ac8279"
      },
      "id": "auXyV4bDkB0h",
      "execution_count": 4,
      "outputs": [
        {
          "output_type": "stream",
          "name": "stdout",
          "text": [
            "Enter an integer: 125\n",
            "Total sum of digits is : 8\n"
          ]
        }
      ]
    },
    {
      "cell_type": "markdown",
      "source": [
        "#### Program to find Total, Count & Average of the given numbers"
      ],
      "metadata": {
        "id": "9r_nzr_1rFR-"
      },
      "id": "9r_nzr_1rFR-"
    },
    {
      "cell_type": "markdown",
      "source": [
        "Develop an application in Python that repeatedly reads numbers until the user enter done.\n",
        "\n",
        "Once done is entered, print out the total, count, and average of the numbers.\n",
        "\n",
        "If the user enters anything other than a number, detect their mistake using try and except and print an error message and skip to the next number."
      ],
      "metadata": {
        "id": "BirR1QYhR_29"
      },
      "id": "BirR1QYhR_29"
    },
    {
      "cell_type": "code",
      "source": [
        "# A program that repeatedly reads numbers until the user enters done and finds total, count and average\n",
        "\n",
        "n = 0\n",
        "t = 0\n",
        "\n",
        "# Detecting mistake using try and except and printing an error message and skipping to next\n",
        "\n",
        "while True:\n",
        "  number = input(\"Enter a number: \") # Get the input\n",
        "\n",
        "  # Determining to quit the program or not\n",
        "  if number == \"done\":\n",
        "    break\n",
        "\n",
        "  try :\n",
        "    n1 = int(number)\n",
        "\n",
        "  except:\n",
        "    print('Invailed Input')\n",
        "    continue\n",
        "\n",
        "  n = n + 1 # Calculate the total no. of entries\n",
        "  t = t + n1 # Calculate the total sum\n",
        "\n",
        "print (\"DONE\")\n",
        "\n",
        "# Printing out the total, count, and average of the numbers\n",
        "print (\"Total: \",t)\n",
        "print (\"Count: \",n)\n",
        "print (\"Average: \",t/n)"
      ],
      "metadata": {
        "colab": {
          "base_uri": "https://localhost:8080/"
        },
        "id": "ngYeDmD2SFhy",
        "outputId": "f71dc9c8-771f-4190-c7cd-7be0c4e4bf2c"
      },
      "id": "ngYeDmD2SFhy",
      "execution_count": 5,
      "outputs": [
        {
          "output_type": "stream",
          "name": "stdout",
          "text": [
            "Enter a number: 5\n",
            "Enter a number: 8\n",
            "Enter a number: 4\n",
            "Enter a number: 0\n",
            "Enter a number: d\n",
            "Invailed Input\n",
            "Enter a number: done\n",
            "DONE\n",
            "Total:  17\n",
            "Count:  4\n",
            "Average:  4.25\n"
          ]
        }
      ]
    },
    {
      "cell_type": "code",
      "source": [],
      "metadata": {
        "id": "xpjrfQPiU8m4"
      },
      "id": "xpjrfQPiU8m4",
      "execution_count": 5,
      "outputs": []
    }
  ],
  "nbformat": 4,
  "nbformat_minor": 5,
  "metadata": {
    "colab": {
      "provenance": []
    },
    "language_info": {
      "name": "python"
    },
    "kernelspec": {
      "name": "python3",
      "display_name": "Python 3"
    }
  }
}