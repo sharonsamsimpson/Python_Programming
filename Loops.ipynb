{
  "cells": [
    {
      "cell_type": "markdown",
      "source": [
        "# Python Programming - Loops"
      ],
      "metadata": {
        "id": "O3Pqe8QRPj_L"
      },
      "id": "O3Pqe8QRPj_L"
    },
    {
      "cell_type": "markdown",
      "source": [
        "### For Loop"
      ],
      "metadata": {
        "id": "1M5NHJ7vRr5-"
      },
      "id": "1M5NHJ7vRr5-"
    },
    {
      "cell_type": "markdown",
      "source": [
        "Write a program to accept n and display its multiplication table.\n",
        "\n",
        "Value of n must be provided by the user.\n",
        "\n",
        "(Example: n * 1, n * 2,....,n*10) (Use for loop)"
      ],
      "metadata": {
        "id": "90tgOVnKRkb8"
      },
      "id": "90tgOVnKRkb8"
    },
    {
      "cell_type": "code",
      "source": [
        "# A program to accept n and display its multiplication table\n",
        "\n",
        "n = int(input(\"Enter a number: \")) # Get the input number n\n",
        "\n",
        "# Print the multiplication table\n",
        "for i in range(1, 11):\n",
        "  print(i, \"*\", n, \"=\", n*i)"
      ],
      "metadata": {
        "colab": {
          "base_uri": "https://localhost:8080/"
        },
        "id": "R-Ew4fvbRnDP",
        "outputId": "2f8e3a74-67c6-445e-f41c-f616522ffbe6"
      },
      "id": "R-Ew4fvbRnDP",
      "execution_count": 1,
      "outputs": [
        {
          "output_type": "stream",
          "name": "stdout",
          "text": [
            "Enter a number: 7\n",
            "1 * 7 = 7\n",
            "2 * 7 = 14\n",
            "3 * 7 = 21\n",
            "4 * 7 = 28\n",
            "5 * 7 = 35\n",
            "6 * 7 = 42\n",
            "7 * 7 = 49\n",
            "8 * 7 = 56\n",
            "9 * 7 = 63\n",
            "10 * 7 = 70\n"
          ]
        }
      ]
    },
    {
      "cell_type": "markdown",
      "source": [
        "### While Loop"
      ],
      "metadata": {
        "id": "kAT5xagoRveD"
      },
      "id": "kAT5xagoRveD"
    },
    {
      "cell_type": "markdown",
      "source": [
        "Write a program that accepts numbers continuously as long as the number is positive and prints the sum of the numbers read (Use while loop).\n",
        "\n",
        "A sample user interaction will be:\n",
        "\n",
        "Enter a number: 2\n",
        "\n",
        "Enter a number: 1\n",
        "\n",
        "Enter a number: 4\n",
        "\n",
        "Enter a number: 6\n",
        "\n",
        "Enter a number: -10\n",
        "\n",
        "Sum = 13"
      ],
      "metadata": {
        "id": "od1YviVVP_gx"
      },
      "id": "od1YviVVP_gx"
    },
    {
      "cell_type": "code",
      "source": [
        "# A program that accepts numbers continuously as long as the number is positive\n",
        "\n",
        "i = 0\n",
        "\n",
        "while True:\n",
        "  x = int(input(\"Enter a Number: \")) # Get the input number\n",
        "\n",
        "  if x <= 0: # condition to check the number is positive\n",
        "    print(\"Sum: \",i) # Printing the sum of the numbers read\n",
        "    break\n",
        "\n",
        "  i += x"
      ],
      "metadata": {
        "colab": {
          "base_uri": "https://localhost:8080/"
        },
        "id": "m2XBS_6MQNLi",
        "outputId": "835cbce0-1cd3-4b94-ae46-9e03f10d7e93"
      },
      "id": "m2XBS_6MQNLi",
      "execution_count": 2,
      "outputs": [
        {
          "output_type": "stream",
          "name": "stdout",
          "text": [
            "Enter a Number: 1\n",
            "Enter a Number: 2\n",
            "Enter a Number: -0\n",
            "Sum:  3\n"
          ]
        }
      ]
    },
    {
      "cell_type": "markdown",
      "source": [
        "Write a program to take the values of two integers m and n from the user.\n",
        "\n",
        "Calculate the sum of even number between m and n (including both m and n).\n",
        "\n",
        "Please note that value of m must be less than value of n.\n",
        "\n",
        "If m > n, then you must print a message “Value of m should be less than n” and ask for next input values.\n",
        "\n",
        "Print the values of m, n and sum. (Use while loop).\n",
        "\n",
        "The program should continue until user types 'q' to quit the program.\n",
        "\n",
        "Sample user interaction:\n",
        "\n",
        "Enter m: 1 Enter n: 10 Sum of even numbers: 20 Do you want to quit (Type q)? :\n",
        "\n",
        "Enter m: 2 Enter n: 10 Sum of even numbers: 20 Do you want to quit (Type q)? :\n",
        "\n",
        "Enter m: 20 Enter n: 10 Value of m should be less than n Do you want to quit (Type q)? : q"
      ],
      "metadata": {
        "id": "XAAH1mxaQwL9"
      },
      "id": "XAAH1mxaQwL9"
    },
    {
      "cell_type": "code",
      "source": [
        "# A program that take the values of two integers m and n from the user\n",
        "# Calculating the sum of even number between m and n (including both m and n)\n",
        "# If m > n,then printing a message “Value of m should be less than n” and asking for next i\n",
        "# Printing the values of m, n and sum using while loop\n",
        "# Continuing the program until user types ‘q’ to quit the program\n",
        "\n",
        "while True:\n",
        "\n",
        "  m = int(input(\"Enter number 1: \")) # Get input number m\n",
        "  n = int(input(\"Enter number 2: \")) # Get input number n\n",
        "  q = input(\"Type q to quit: \")\n",
        "\n",
        "  i = 0\n",
        "\n",
        "  while m<n: # condition - m is lesser than n\n",
        "\n",
        "    if (m%2 == 0): # condition - m is even number\n",
        "\n",
        "      i = i + m\n",
        "\n",
        "  m = m + 1\n",
        "\n",
        "  print(\"Sum of even numbers: \",i)\n",
        "\n",
        "  while m>n: # condition - m is greater than n\n",
        "\n",
        "    print(\"Value of m should be less than n\")\n",
        "\n",
        "    break\n",
        "\n",
        "  if q == \"q\":\n",
        "    break"
      ],
      "metadata": {
        "colab": {
          "base_uri": "https://localhost:8080/",
          "height": 279
        },
        "id": "DquMPT7WRFib",
        "outputId": "73b8ac90-ab6f-48a4-9016-4e08c68b7ac9"
      },
      "id": "DquMPT7WRFib",
      "execution_count": 3,
      "outputs": [
        {
          "name": "stdout",
          "output_type": "stream",
          "text": [
            "Enter number 1: 5\n",
            "Enter number 2: 6\n"
          ]
        },
        {
          "output_type": "error",
          "ename": "KeyboardInterrupt",
          "evalue": "ignored",
          "traceback": [
            "\u001b[0;31m---------------------------------------------------------------------------\u001b[0m",
            "\u001b[0;31mKeyboardInterrupt\u001b[0m                         Traceback (most recent call last)",
            "\u001b[0;32m<ipython-input-3-4e97f40b642d>\u001b[0m in \u001b[0;36m<cell line: 7>\u001b[0;34m()\u001b[0m\n\u001b[1;32m     12\u001b[0m   \u001b[0mi\u001b[0m \u001b[0;34m=\u001b[0m \u001b[0;36m0\u001b[0m\u001b[0;34m\u001b[0m\u001b[0;34m\u001b[0m\u001b[0m\n\u001b[1;32m     13\u001b[0m \u001b[0;34m\u001b[0m\u001b[0m\n\u001b[0;32m---> 14\u001b[0;31m   \u001b[0;32mwhile\u001b[0m \u001b[0mm\u001b[0m\u001b[0;34m<\u001b[0m\u001b[0mn\u001b[0m\u001b[0;34m:\u001b[0m \u001b[0;31m# condition - m is lesser than n\u001b[0m\u001b[0;34m\u001b[0m\u001b[0;34m\u001b[0m\u001b[0m\n\u001b[0m\u001b[1;32m     15\u001b[0m \u001b[0;34m\u001b[0m\u001b[0m\n\u001b[1;32m     16\u001b[0m     \u001b[0;32mif\u001b[0m \u001b[0;34m(\u001b[0m\u001b[0mm\u001b[0m\u001b[0;34m%\u001b[0m\u001b[0;36m2\u001b[0m \u001b[0;34m==\u001b[0m \u001b[0;36m0\u001b[0m\u001b[0;34m)\u001b[0m\u001b[0;34m:\u001b[0m \u001b[0;31m# condition - m is even number\u001b[0m\u001b[0;34m\u001b[0m\u001b[0;34m\u001b[0m\u001b[0m\n",
            "\u001b[0;31mKeyboardInterrupt\u001b[0m: "
          ]
        }
      ]
    },
    {
      "cell_type": "markdown",
      "source": [
        "Write a program that receives an integer and prints the sum of its digits.\n",
        "\n",
        "For example,an input 125 will print output 1+2+5=8."
      ],
      "metadata": {
        "id": "iwuqeWQdR4Pc"
      },
      "id": "iwuqeWQdR4Pc"
    },
    {
      "cell_type": "code",
      "source": [
        "# A program that receives an integer and prints the sum of its\n",
        "\n",
        "x = int(input(\"Enter an integer: \")) # Get the input number\n",
        "\n",
        "i = 0\n",
        "\n",
        "while(x > 0):\n",
        "\n",
        "  n = x % 10\n",
        "  i = i + n\n",
        "  x = x // 10\n",
        "\n",
        "print(\"Total sum of digits is :\", i)"
      ],
      "metadata": {
        "id": "auXyV4bDkB0h",
        "colab": {
          "base_uri": "https://localhost:8080/"
        },
        "outputId": "72e0a264-5f5a-4338-d609-8ce9fa25a4f0"
      },
      "id": "auXyV4bDkB0h",
      "execution_count": 4,
      "outputs": [
        {
          "output_type": "stream",
          "name": "stdout",
          "text": [
            "Enter an integer: 125\n",
            "Total sum of digits is : 8\n"
          ]
        }
      ]
    },
    {
      "cell_type": "markdown",
      "source": [
        "Develop an application in Python that repeatedly reads numbers until the user enter done.\n",
        "\n",
        "Once done is entered, print out the total, count, and average of the numbers.\n",
        "\n",
        "If the user enters anything other than a number, detect their mistake using try and except and print an error message and skip to the next number."
      ],
      "metadata": {
        "id": "BirR1QYhR_29"
      },
      "id": "BirR1QYhR_29"
    },
    {
      "cell_type": "code",
      "source": [
        "# A program that repeatedly reads numbers until the user enters done\n",
        "\n",
        "n = 0\n",
        "t = 0.0\n",
        "\n",
        "# Detecting mistake using try and except and printing an error message and skipping to next\n",
        "\n",
        "while True:\n",
        "  number = input(\"Enter a number: \")\n",
        "\n",
        "  if number == \"done\":\n",
        "    break\n",
        "\n",
        "  try :\n",
        "    n1 = float(number)\n",
        "\n",
        "  except:\n",
        "    print('Invailed Input')\n",
        "    continue\n",
        "\n",
        "  n = n + 1\n",
        "  t = t + n1\n",
        "\n",
        "print (\"DONE\")\n",
        "\n",
        "# Printing out the total, count, and average of the numbers\n",
        "print (\"Total: \",t)\n",
        "print (\"Count: \",n)\n",
        "print (\"Average: \",t/n)"
      ],
      "metadata": {
        "colab": {
          "base_uri": "https://localhost:8080/"
        },
        "id": "ngYeDmD2SFhy",
        "outputId": "62e1290a-4a07-4e3f-8cfa-fabae851eae2"
      },
      "id": "ngYeDmD2SFhy",
      "execution_count": 5,
      "outputs": [
        {
          "output_type": "stream",
          "name": "stdout",
          "text": [
            "Enter a number: 2\n",
            "Enter a number: done\n",
            "DONE\n",
            "Total:  2.0\n",
            "Count:  1\n",
            "Average:  2.0\n"
          ]
        }
      ]
    },
    {
      "cell_type": "code",
      "source": [],
      "metadata": {
        "id": "xpjrfQPiU8m4"
      },
      "id": "xpjrfQPiU8m4",
      "execution_count": null,
      "outputs": []
    }
  ],
  "nbformat": 4,
  "nbformat_minor": 5,
  "metadata": {
    "colab": {
      "provenance": []
    },
    "language_info": {
      "name": "python"
    },
    "kernelspec": {
      "name": "python3",
      "display_name": "Python 3"
    }
  }
}